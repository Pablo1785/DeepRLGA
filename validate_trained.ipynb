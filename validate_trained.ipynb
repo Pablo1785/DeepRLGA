{
 "cells": [
  {
   "cell_type": "code",
   "execution_count": 1,
   "metadata": {
    "collapsed": true,
    "pycharm": {
     "name": "#%%\n"
    }
   },
   "outputs": [
    {
     "name": "stderr",
     "output_type": "stream",
     "text": [
      "/home/pbilko/miniconda3/envs/PP/lib/python3.9/site-packages/deap/creator.py:138: RuntimeWarning: A class named 'FitnessMin' has already been created and it will be overwritten. Consider deleting previous creation of that class or rename it.\n",
      "  warnings.warn(\"A class named '{0}' has already been created and it \"\n",
      "/home/pbilko/miniconda3/envs/PP/lib/python3.9/site-packages/deap/creator.py:138: RuntimeWarning: A class named 'Individual' has already been created and it will be overwritten. Consider deleting previous creation of that class or rename it.\n",
      "  warnings.warn(\"A class named '{0}' has already been created and it \"\n",
      "/home/pbilko/STUDIA/Neuronowa Adaptacja Operatorów Wariacyjnych/deep_rl_ga/ga_env.py:316: RuntimeWarning: divide by zero encountered in log\n",
      "  return -np.log(self.curr_best_fitness / self.prev_best_fitness)\n"
     ]
    },
    {
     "name": "stdout",
     "output_type": "stream",
     "text": [
      "Episode 1\n",
      "Actions chosen: [0, 0, 0, 0, 0, 0, 0, 0, 0, 0, 0, 0, 0, 0, 0, 0, 0, 0, 0, 0, 0, 0, 0, 0, 0, 0, 0, 0, 0, 0, 0, 0, 0, 0, 0, 0, 0, 0, 0, 0, 0, 0, 0, 0, 0, 0, 0, 0, 0, 0, 0, 0, 0, 0, 0, 0, 0, 0, 0, 0, 0, 0, 0, 0, 0, 0, 0]\n",
      "\n",
      "\n",
      "Episode took 2.0963976479997655\n",
      "\n",
      "\n"
     ]
    },
    {
     "name": "stderr",
     "output_type": "stream",
     "text": [
      "/home/pbilko/miniconda3/envs/PP/lib/python3.9/site-packages/deap/creator.py:138: RuntimeWarning: A class named 'FitnessMin' has already been created and it will be overwritten. Consider deleting previous creation of that class or rename it.\n",
      "  warnings.warn(\"A class named '{0}' has already been created and it \"\n",
      "/home/pbilko/miniconda3/envs/PP/lib/python3.9/site-packages/deap/creator.py:138: RuntimeWarning: A class named 'Individual' has already been created and it will be overwritten. Consider deleting previous creation of that class or rename it.\n",
      "  warnings.warn(\"A class named '{0}' has already been created and it \"\n",
      "/home/pbilko/STUDIA/Neuronowa Adaptacja Operatorów Wariacyjnych/deep_rl_ga/ga_env.py:316: RuntimeWarning: divide by zero encountered in log\n",
      "  return -np.log(self.curr_best_fitness / self.prev_best_fitness)\n"
     ]
    },
    {
     "name": "stdout",
     "output_type": "stream",
     "text": [
      "Episode 2\n",
      "Actions chosen: [0, 0, 0, 0, 0, 0, 0, 0, 0, 0, 0, 0, 0, 0, 0, 0, 0, 0, 0, 0, 0, 0, 0, 0, 0, 0, 0, 0, 0, 0, 0, 0, 0, 0, 0, 0, 0, 0, 0, 0, 0, 0, 0, 0, 0, 0, 0, 0, 0, 0, 0, 0, 0, 0, 0, 0, 0, 0, 0, 0, 0, 0, 0, 0, 0, 0, 0]\n",
      "\n",
      "\n",
      "Episode took 1.7159755920001771\n",
      "\n",
      "\n"
     ]
    },
    {
     "name": "stderr",
     "output_type": "stream",
     "text": [
      "/home/pbilko/miniconda3/envs/PP/lib/python3.9/site-packages/deap/creator.py:138: RuntimeWarning: A class named 'FitnessMin' has already been created and it will be overwritten. Consider deleting previous creation of that class or rename it.\n",
      "  warnings.warn(\"A class named '{0}' has already been created and it \"\n",
      "/home/pbilko/miniconda3/envs/PP/lib/python3.9/site-packages/deap/creator.py:138: RuntimeWarning: A class named 'Individual' has already been created and it will be overwritten. Consider deleting previous creation of that class or rename it.\n",
      "  warnings.warn(\"A class named '{0}' has already been created and it \"\n",
      "/home/pbilko/STUDIA/Neuronowa Adaptacja Operatorów Wariacyjnych/deep_rl_ga/ga_env.py:316: RuntimeWarning: divide by zero encountered in log\n",
      "  return -np.log(self.curr_best_fitness / self.prev_best_fitness)\n"
     ]
    },
    {
     "name": "stdout",
     "output_type": "stream",
     "text": [
      "Episode 3\n",
      "Actions chosen: [0, 0, 0, 0, 0, 0, 0, 0, 0, 0, 0, 0, 0, 0, 0, 0, 0, 0, 0, 0, 0, 0, 0, 0, 0, 0, 0, 0, 0, 0, 0, 0, 0, 0, 0, 0, 0, 0, 0, 0, 0, 0, 0, 0, 0, 0, 0, 0, 0, 0, 0, 0, 0, 0, 0, 0, 0, 0, 0, 0, 0, 0, 0, 0, 0, 0, 0]\n",
      "\n",
      "\n",
      "Episode took 1.6809224059998087\n",
      "\n",
      "\n"
     ]
    },
    {
     "name": "stderr",
     "output_type": "stream",
     "text": [
      "/home/pbilko/miniconda3/envs/PP/lib/python3.9/site-packages/deap/creator.py:138: RuntimeWarning: A class named 'FitnessMin' has already been created and it will be overwritten. Consider deleting previous creation of that class or rename it.\n",
      "  warnings.warn(\"A class named '{0}' has already been created and it \"\n",
      "/home/pbilko/miniconda3/envs/PP/lib/python3.9/site-packages/deap/creator.py:138: RuntimeWarning: A class named 'Individual' has already been created and it will be overwritten. Consider deleting previous creation of that class or rename it.\n",
      "  warnings.warn(\"A class named '{0}' has already been created and it \"\n",
      "/home/pbilko/STUDIA/Neuronowa Adaptacja Operatorów Wariacyjnych/deep_rl_ga/ga_env.py:316: RuntimeWarning: divide by zero encountered in log\n",
      "  return -np.log(self.curr_best_fitness / self.prev_best_fitness)\n"
     ]
    },
    {
     "name": "stdout",
     "output_type": "stream",
     "text": [
      "Episode 4\n",
      "Actions chosen: [0, 0, 0, 0, 0, 0, 0, 0, 0, 0, 0, 0, 0, 0, 0, 0, 0, 0, 0, 0, 0, 0, 0, 0, 0, 0, 0, 0, 0, 0, 0, 0, 0, 0, 0, 0, 0, 0, 0, 0, 0, 0, 0, 0, 0, 0, 0, 0, 0, 0, 0, 0, 0, 0, 0, 0, 0, 0, 0, 0, 0, 0, 0, 0, 0, 0, 0]\n",
      "\n",
      "\n",
      "Episode took 1.7676736280009209\n",
      "\n",
      "\n"
     ]
    },
    {
     "name": "stderr",
     "output_type": "stream",
     "text": [
      "/home/pbilko/miniconda3/envs/PP/lib/python3.9/site-packages/deap/creator.py:138: RuntimeWarning: A class named 'FitnessMin' has already been created and it will be overwritten. Consider deleting previous creation of that class or rename it.\n",
      "  warnings.warn(\"A class named '{0}' has already been created and it \"\n",
      "/home/pbilko/miniconda3/envs/PP/lib/python3.9/site-packages/deap/creator.py:138: RuntimeWarning: A class named 'Individual' has already been created and it will be overwritten. Consider deleting previous creation of that class or rename it.\n",
      "  warnings.warn(\"A class named '{0}' has already been created and it \"\n",
      "/home/pbilko/STUDIA/Neuronowa Adaptacja Operatorów Wariacyjnych/deep_rl_ga/ga_env.py:316: RuntimeWarning: divide by zero encountered in log\n",
      "  return -np.log(self.curr_best_fitness / self.prev_best_fitness)\n"
     ]
    },
    {
     "name": "stdout",
     "output_type": "stream",
     "text": [
      "Episode 5\n",
      "Actions chosen: [0, 0, 0, 0, 0, 0, 0, 0, 0, 0, 0, 0, 0, 0, 0, 0, 0, 0, 0, 0, 0, 0, 0, 0, 0, 0, 0, 0, 0, 0, 0, 0, 0, 0, 0, 0, 0, 0, 0, 0, 0, 0, 0, 0, 0, 0, 0, 0, 0, 0, 0, 0, 0, 0, 0, 0, 0, 0, 0, 0, 0, 0, 0, 0, 0, 0, 0]\n",
      "\n",
      "\n",
      "Episode took 1.7998042590006662\n",
      "\n",
      "\n"
     ]
    },
    {
     "name": "stderr",
     "output_type": "stream",
     "text": [
      "/home/pbilko/miniconda3/envs/PP/lib/python3.9/site-packages/deap/creator.py:138: RuntimeWarning: A class named 'FitnessMin' has already been created and it will be overwritten. Consider deleting previous creation of that class or rename it.\n",
      "  warnings.warn(\"A class named '{0}' has already been created and it \"\n",
      "/home/pbilko/miniconda3/envs/PP/lib/python3.9/site-packages/deap/creator.py:138: RuntimeWarning: A class named 'Individual' has already been created and it will be overwritten. Consider deleting previous creation of that class or rename it.\n",
      "  warnings.warn(\"A class named '{0}' has already been created and it \"\n",
      "/home/pbilko/STUDIA/Neuronowa Adaptacja Operatorów Wariacyjnych/deep_rl_ga/ga_env.py:316: RuntimeWarning: divide by zero encountered in log\n",
      "  return -np.log(self.curr_best_fitness / self.prev_best_fitness)\n"
     ]
    },
    {
     "name": "stdout",
     "output_type": "stream",
     "text": [
      "Episode 6\n",
      "Actions chosen: [0, 0, 0, 0, 0, 0, 0, 0, 0, 0, 0, 0, 0, 0, 0, 0, 0, 0, 0, 0, 0, 0, 0, 0, 0, 0, 0, 0, 0, 0, 0, 0, 0, 0, 0, 0, 0, 0, 0, 0, 0, 0, 0, 0, 0, 0, 0, 0, 0, 0, 0, 0, 0, 0, 0, 0, 0, 0, 0, 0, 0, 0, 0, 0, 0, 0, 0]\n",
      "\n",
      "\n",
      "Episode took 1.748137979000603\n",
      "\n",
      "\n"
     ]
    },
    {
     "name": "stderr",
     "output_type": "stream",
     "text": [
      "/home/pbilko/miniconda3/envs/PP/lib/python3.9/site-packages/deap/creator.py:138: RuntimeWarning: A class named 'FitnessMin' has already been created and it will be overwritten. Consider deleting previous creation of that class or rename it.\n",
      "  warnings.warn(\"A class named '{0}' has already been created and it \"\n",
      "/home/pbilko/miniconda3/envs/PP/lib/python3.9/site-packages/deap/creator.py:138: RuntimeWarning: A class named 'Individual' has already been created and it will be overwritten. Consider deleting previous creation of that class or rename it.\n",
      "  warnings.warn(\"A class named '{0}' has already been created and it \"\n",
      "/home/pbilko/STUDIA/Neuronowa Adaptacja Operatorów Wariacyjnych/deep_rl_ga/ga_env.py:316: RuntimeWarning: divide by zero encountered in log\n",
      "  return -np.log(self.curr_best_fitness / self.prev_best_fitness)\n"
     ]
    },
    {
     "name": "stdout",
     "output_type": "stream",
     "text": [
      "Episode 7\n",
      "Actions chosen: [0, 0, 0, 0, 0, 0, 0, 0, 0, 0, 0, 0, 0, 0, 0, 0, 0, 0, 0, 0, 0, 0, 0, 0, 0, 0, 0, 0, 0, 0, 0, 0, 0, 0, 0, 0, 0, 0, 0, 0, 0, 0, 0, 0, 0, 0, 0, 0, 0, 0, 0, 0, 0, 0, 0, 0, 0, 0, 0, 0, 0, 0, 0, 0, 0, 0, 0]\n",
      "\n",
      "\n",
      "Episode took 1.6999360770005296\n",
      "\n",
      "\n"
     ]
    },
    {
     "name": "stderr",
     "output_type": "stream",
     "text": [
      "/home/pbilko/miniconda3/envs/PP/lib/python3.9/site-packages/deap/creator.py:138: RuntimeWarning: A class named 'FitnessMin' has already been created and it will be overwritten. Consider deleting previous creation of that class or rename it.\n",
      "  warnings.warn(\"A class named '{0}' has already been created and it \"\n",
      "/home/pbilko/miniconda3/envs/PP/lib/python3.9/site-packages/deap/creator.py:138: RuntimeWarning: A class named 'Individual' has already been created and it will be overwritten. Consider deleting previous creation of that class or rename it.\n",
      "  warnings.warn(\"A class named '{0}' has already been created and it \"\n",
      "/home/pbilko/STUDIA/Neuronowa Adaptacja Operatorów Wariacyjnych/deep_rl_ga/ga_env.py:316: RuntimeWarning: divide by zero encountered in log\n",
      "  return -np.log(self.curr_best_fitness / self.prev_best_fitness)\n"
     ]
    },
    {
     "name": "stdout",
     "output_type": "stream",
     "text": [
      "Episode 8\n",
      "Actions chosen: [0, 0, 0, 0, 0, 0, 0, 0, 0, 0, 0, 0, 0, 0, 0, 0, 0, 0, 0, 0, 0, 0, 0, 0, 0, 0, 0, 0, 0, 0, 0, 0, 0, 0, 0, 0, 0, 0, 0, 0, 0, 0, 0, 0, 0, 0, 0, 0, 0, 0, 0, 0, 0, 0, 0, 0, 0, 0, 0, 0, 0, 0, 0, 0, 0, 0, 0]\n",
      "\n",
      "\n",
      "Episode took 1.758598535998317\n",
      "\n",
      "\n"
     ]
    },
    {
     "name": "stderr",
     "output_type": "stream",
     "text": [
      "/home/pbilko/miniconda3/envs/PP/lib/python3.9/site-packages/deap/creator.py:138: RuntimeWarning: A class named 'FitnessMin' has already been created and it will be overwritten. Consider deleting previous creation of that class or rename it.\n",
      "  warnings.warn(\"A class named '{0}' has already been created and it \"\n",
      "/home/pbilko/miniconda3/envs/PP/lib/python3.9/site-packages/deap/creator.py:138: RuntimeWarning: A class named 'Individual' has already been created and it will be overwritten. Consider deleting previous creation of that class or rename it.\n",
      "  warnings.warn(\"A class named '{0}' has already been created and it \"\n",
      "/home/pbilko/STUDIA/Neuronowa Adaptacja Operatorów Wariacyjnych/deep_rl_ga/ga_env.py:316: RuntimeWarning: divide by zero encountered in log\n",
      "  return -np.log(self.curr_best_fitness / self.prev_best_fitness)\n"
     ]
    },
    {
     "name": "stdout",
     "output_type": "stream",
     "text": [
      "Episode 9\n",
      "Actions chosen: [0, 0, 0, 0, 0, 0, 0, 0, 0, 0, 0, 0, 0, 0, 0, 0, 0, 0, 0, 0, 0, 0, 0, 0, 0, 0, 0, 0, 0, 0, 0, 0, 0, 0, 0, 0, 0, 0, 0, 0, 0, 0, 0, 0, 0, 0, 0, 0, 0, 0, 0, 0, 0, 0, 0, 0, 0, 0, 0, 0, 0, 0, 0, 0, 0, 0, 0]\n",
      "\n",
      "\n",
      "Episode took 1.672819098999753\n",
      "\n",
      "\n"
     ]
    },
    {
     "name": "stderr",
     "output_type": "stream",
     "text": [
      "/home/pbilko/miniconda3/envs/PP/lib/python3.9/site-packages/deap/creator.py:138: RuntimeWarning: A class named 'FitnessMin' has already been created and it will be overwritten. Consider deleting previous creation of that class or rename it.\n",
      "  warnings.warn(\"A class named '{0}' has already been created and it \"\n",
      "/home/pbilko/miniconda3/envs/PP/lib/python3.9/site-packages/deap/creator.py:138: RuntimeWarning: A class named 'Individual' has already been created and it will be overwritten. Consider deleting previous creation of that class or rename it.\n",
      "  warnings.warn(\"A class named '{0}' has already been created and it \"\n",
      "/home/pbilko/STUDIA/Neuronowa Adaptacja Operatorów Wariacyjnych/deep_rl_ga/ga_env.py:316: RuntimeWarning: divide by zero encountered in log\n",
      "  return -np.log(self.curr_best_fitness / self.prev_best_fitness)\n"
     ]
    },
    {
     "name": "stdout",
     "output_type": "stream",
     "text": [
      "Episode 10\n",
      "Actions chosen: [0, 0, 0, 0, 0, 0, 0, 0, 0, 0, 0, 0, 0, 0, 0, 0, 0, 0, 0, 0, 0, 0, 0, 0, 0, 0, 0, 0, 0, 0, 0, 0, 0, 0, 0, 0, 0, 0, 0, 0, 0, 0, 0, 0, 0, 0, 0, 0, 0, 0, 0, 0, 0, 0, 0, 0, 0, 0, 0, 0, 0, 0, 0, 0, 0, 0, 0]\n",
      "\n",
      "\n",
      "Episode took 1.7388586140004918\n",
      "\n",
      "\n"
     ]
    },
    {
     "name": "stderr",
     "output_type": "stream",
     "text": [
      "/home/pbilko/miniconda3/envs/PP/lib/python3.9/site-packages/deap/creator.py:138: RuntimeWarning: A class named 'FitnessMin' has already been created and it will be overwritten. Consider deleting previous creation of that class or rename it.\n",
      "  warnings.warn(\"A class named '{0}' has already been created and it \"\n",
      "/home/pbilko/miniconda3/envs/PP/lib/python3.9/site-packages/deap/creator.py:138: RuntimeWarning: A class named 'Individual' has already been created and it will be overwritten. Consider deleting previous creation of that class or rename it.\n",
      "  warnings.warn(\"A class named '{0}' has already been created and it \"\n",
      "/home/pbilko/STUDIA/Neuronowa Adaptacja Operatorów Wariacyjnych/deep_rl_ga/ga_env.py:316: RuntimeWarning: divide by zero encountered in log\n",
      "  return -np.log(self.curr_best_fitness / self.prev_best_fitness)\n"
     ]
    },
    {
     "name": "stdout",
     "output_type": "stream",
     "text": [
      "Episode 11\n",
      "Actions chosen: [0, 0, 0, 0, 0, 0, 0, 0, 0, 0, 0, 0, 0, 0, 0, 0, 0, 0, 0, 0, 0, 0, 0, 0, 0, 0, 0, 0, 0, 0, 0, 0, 0, 0, 0, 0, 0, 0, 0, 0, 0, 0, 0, 0, 0, 0, 0, 0, 0, 0, 0, 0, 0, 0, 0, 0, 0, 0, 0, 0, 0, 0, 0, 0, 0, 0, 0]\n",
      "\n",
      "\n",
      "Episode took 1.5833916190003947\n",
      "\n",
      "\n"
     ]
    },
    {
     "name": "stderr",
     "output_type": "stream",
     "text": [
      "/home/pbilko/miniconda3/envs/PP/lib/python3.9/site-packages/deap/creator.py:138: RuntimeWarning: A class named 'FitnessMin' has already been created and it will be overwritten. Consider deleting previous creation of that class or rename it.\n",
      "  warnings.warn(\"A class named '{0}' has already been created and it \"\n",
      "/home/pbilko/miniconda3/envs/PP/lib/python3.9/site-packages/deap/creator.py:138: RuntimeWarning: A class named 'Individual' has already been created and it will be overwritten. Consider deleting previous creation of that class or rename it.\n",
      "  warnings.warn(\"A class named '{0}' has already been created and it \"\n",
      "/home/pbilko/STUDIA/Neuronowa Adaptacja Operatorów Wariacyjnych/deep_rl_ga/ga_env.py:316: RuntimeWarning: divide by zero encountered in log\n",
      "  return -np.log(self.curr_best_fitness / self.prev_best_fitness)\n"
     ]
    },
    {
     "name": "stdout",
     "output_type": "stream",
     "text": [
      "Episode 12\n",
      "Actions chosen: [0, 0, 0, 0, 0, 0, 0, 0, 0, 0, 0, 0, 0, 0, 0, 0, 0, 0, 0, 0, 0, 0, 0, 0, 0, 0, 0, 0, 0, 0, 0, 0, 0, 0, 0, 0, 0, 0, 0, 0, 0, 0, 0, 0, 0, 0, 0, 0, 0, 0, 0, 0, 0, 0, 0, 0, 0, 0, 0, 0, 0, 0, 0, 0, 0, 0, 0]\n",
      "\n",
      "\n",
      "Episode took 1.6758307479994983\n",
      "\n",
      "\n"
     ]
    },
    {
     "name": "stderr",
     "output_type": "stream",
     "text": [
      "/home/pbilko/miniconda3/envs/PP/lib/python3.9/site-packages/deap/creator.py:138: RuntimeWarning: A class named 'FitnessMin' has already been created and it will be overwritten. Consider deleting previous creation of that class or rename it.\n",
      "  warnings.warn(\"A class named '{0}' has already been created and it \"\n",
      "/home/pbilko/miniconda3/envs/PP/lib/python3.9/site-packages/deap/creator.py:138: RuntimeWarning: A class named 'Individual' has already been created and it will be overwritten. Consider deleting previous creation of that class or rename it.\n",
      "  warnings.warn(\"A class named '{0}' has already been created and it \"\n",
      "/home/pbilko/STUDIA/Neuronowa Adaptacja Operatorów Wariacyjnych/deep_rl_ga/ga_env.py:316: RuntimeWarning: divide by zero encountered in log\n",
      "  return -np.log(self.curr_best_fitness / self.prev_best_fitness)\n"
     ]
    },
    {
     "name": "stdout",
     "output_type": "stream",
     "text": [
      "Episode 13\n",
      "Actions chosen: [0, 0, 0, 0, 0, 0, 0, 0, 0, 0, 0, 0, 0, 0, 0, 0, 0, 0, 0, 0, 0, 0, 0, 0, 0, 0, 0, 0, 0, 0, 0, 0, 0, 0, 0, 0, 0, 0, 0, 0, 0, 0, 0, 0, 0, 0, 0, 0, 0, 0, 0, 0, 0, 0, 0, 0, 0, 0, 0, 0, 0, 0, 0, 0, 0, 0, 0]\n",
      "\n",
      "\n",
      "Episode took 1.7189359189997049\n",
      "\n",
      "\n"
     ]
    },
    {
     "name": "stderr",
     "output_type": "stream",
     "text": [
      "/home/pbilko/miniconda3/envs/PP/lib/python3.9/site-packages/deap/creator.py:138: RuntimeWarning: A class named 'FitnessMin' has already been created and it will be overwritten. Consider deleting previous creation of that class or rename it.\n",
      "  warnings.warn(\"A class named '{0}' has already been created and it \"\n",
      "/home/pbilko/miniconda3/envs/PP/lib/python3.9/site-packages/deap/creator.py:138: RuntimeWarning: A class named 'Individual' has already been created and it will be overwritten. Consider deleting previous creation of that class or rename it.\n",
      "  warnings.warn(\"A class named '{0}' has already been created and it \"\n",
      "/home/pbilko/STUDIA/Neuronowa Adaptacja Operatorów Wariacyjnych/deep_rl_ga/ga_env.py:316: RuntimeWarning: divide by zero encountered in log\n",
      "  return -np.log(self.curr_best_fitness / self.prev_best_fitness)\n"
     ]
    },
    {
     "name": "stdout",
     "output_type": "stream",
     "text": [
      "Episode 14\n",
      "Actions chosen: [0, 0, 0, 0, 0, 0, 0, 0, 0, 0, 0, 0, 0, 0, 0, 0, 0, 0, 0, 0, 0, 0, 0, 0, 0, 0, 0, 0, 0, 0, 0, 0, 0, 0, 0, 0, 0, 0, 0, 0, 0, 0, 0, 0, 0, 0, 0, 0, 0, 0, 0, 0, 0, 0, 0, 0, 0, 0, 0, 0, 0, 0, 0, 0, 0, 0, 0]\n",
      "\n",
      "\n",
      "Episode took 1.7304284700003336\n",
      "\n",
      "\n"
     ]
    },
    {
     "name": "stderr",
     "output_type": "stream",
     "text": [
      "/home/pbilko/miniconda3/envs/PP/lib/python3.9/site-packages/deap/creator.py:138: RuntimeWarning: A class named 'FitnessMin' has already been created and it will be overwritten. Consider deleting previous creation of that class or rename it.\n",
      "  warnings.warn(\"A class named '{0}' has already been created and it \"\n",
      "/home/pbilko/miniconda3/envs/PP/lib/python3.9/site-packages/deap/creator.py:138: RuntimeWarning: A class named 'Individual' has already been created and it will be overwritten. Consider deleting previous creation of that class or rename it.\n",
      "  warnings.warn(\"A class named '{0}' has already been created and it \"\n",
      "/home/pbilko/STUDIA/Neuronowa Adaptacja Operatorów Wariacyjnych/deep_rl_ga/ga_env.py:316: RuntimeWarning: divide by zero encountered in log\n",
      "  return -np.log(self.curr_best_fitness / self.prev_best_fitness)\n"
     ]
    },
    {
     "name": "stdout",
     "output_type": "stream",
     "text": [
      "Episode 15\n",
      "Actions chosen: [0, 0, 0, 0, 0, 0, 0, 0, 0, 0, 0, 0, 0, 0, 0, 0, 0, 0, 0, 0, 0, 0, 0, 0, 0, 0, 0, 0, 0, 0, 0, 0, 0, 0, 0, 0, 0, 0, 0, 0, 0, 0, 0, 0, 0, 0, 0, 0, 0, 0, 0, 0, 0, 0, 0, 0, 0, 0, 0, 0, 0, 0, 0, 0, 0, 0, 0]\n",
      "\n",
      "\n",
      "Episode took 1.6744509429991012\n",
      "\n",
      "\n"
     ]
    },
    {
     "name": "stderr",
     "output_type": "stream",
     "text": [
      "/home/pbilko/miniconda3/envs/PP/lib/python3.9/site-packages/deap/creator.py:138: RuntimeWarning: A class named 'FitnessMin' has already been created and it will be overwritten. Consider deleting previous creation of that class or rename it.\n",
      "  warnings.warn(\"A class named '{0}' has already been created and it \"\n",
      "/home/pbilko/miniconda3/envs/PP/lib/python3.9/site-packages/deap/creator.py:138: RuntimeWarning: A class named 'Individual' has already been created and it will be overwritten. Consider deleting previous creation of that class or rename it.\n",
      "  warnings.warn(\"A class named '{0}' has already been created and it \"\n",
      "/home/pbilko/STUDIA/Neuronowa Adaptacja Operatorów Wariacyjnych/deep_rl_ga/ga_env.py:316: RuntimeWarning: divide by zero encountered in log\n",
      "  return -np.log(self.curr_best_fitness / self.prev_best_fitness)\n",
      "\n",
      "KeyboardInterrupt\n",
      "\n"
     ]
    }
   ],
   "source": [
    "import time\n",
    "%matplotlib inline\n",
    "from deep_rl_ga.ga_env import GeneticAlgorithmEnv\n",
    "from deep_rl_ga.agent import Agent\n",
    "from deep_rl_ga.memory import Experience, ReplayMemory, extract_tensors\n",
    "from deep_rl_ga.strategy import (\n",
    "    NoExplorationStrategy,\n",
    ")\n",
    "from deep_rl_ga.network import DQN\n",
    "from deep_rl_ga.qvalues import QValues\n",
    "\n",
    "from deap import benchmarks\n",
    "from deap import tools\n",
    "\n",
    "import torch\n",
    "import torch.optim as optim\n",
    "import torch.nn.functional as F\n",
    "\n",
    "from itertools import count\n",
    "import random\n",
    "\n",
    "import numpy as np\n",
    "\n",
    "import matplotlib.pyplot as plt\n",
    "from IPython import display\n",
    "\n",
    "from deap import creator\n",
    "from typing import List\n",
    "import itertools\n",
    "# import cuml\n",
    "# import cudf\n",
    "# import cupy\n",
    "import datetime\n",
    "import os\n",
    "from deep_rl_ga.diversity import (\n",
    "    Clusterer,\n",
    "    fitness_max_mean_ratio_diversity,\n",
    "    fitness_mean_min_ratio_diversity,\n",
    "    gene_mean_std_diversity,\n",
    "    gene_mean_unique_ratio_diversity,\n",
    "    number_of_clusters_diversity,\n",
    "    selBestPossible,\n",
    "    selWorstPossible,\n",
    ")\n",
    "\n",
    "# Genetic algorithm params\n",
    "IND_SIZE = 3\n",
    "LOW_BOUND = -5.12\n",
    "UP_BOUND = 5.12\n",
    "FITNESS_FUNCTION = benchmarks.rastrigin\n",
    "SEARCH_SPACE_CENTER = np.array([(UP_BOUND - LOW_BOUND / 2) for _ in range(IND_SIZE)])\n",
    "SEARCH_SPACE_DIAMETER = np.linalg.norm(np.array([UP_BOUND for _ in range(IND_SIZE)]) - np.array([LOW_BOUND for _ in range(IND_SIZE)]))\n",
    "\n",
    "INITIAL_POPULATION_SIZE = 150\n",
    "\n",
    "# Crossover + Mutation params\n",
    "MATING_RATE = 0.3\n",
    "INDIVIDUAL_MUTATION_RATE = 0.3\n",
    "ATTRIBUTE_MUTATION_RATE = 0.3\n",
    "\n",
    "MATING_RATE_VALUES = [0.05 * i for i in range(1, 20)]\n",
    "INDIVIDUAL_MUTATION_RATE_VALUES = [0.05 * i for i in range(1, 20)]\n",
    "\n",
    "# Selection params\n",
    "TOURNAMENT_SIZE = 3\n",
    "TOP_BEST_SIZE = 25\n",
    "\n",
    "TOURNAMENT_SIZE_VALUES = [10]\n",
    "TOP_BEST_SIZE_VALUES = [25]\n",
    "\n",
    "MAX_EVALS = 10_000\n",
    "\n",
    "RANDOM_SEED = 255\n",
    "\n",
    "random.seed(\n",
    "    RANDOM_SEED\n",
    "    )\n",
    "np.random.seed(\n",
    "    RANDOM_SEED\n",
    "    )\n",
    "\n",
    "\n",
    "ACTIONS_SEL = list(itertools.chain(\n",
    "    [{'function': tools.selTournament, 'tournsize': tsize} for tsize in TOURNAMENT_SIZE_VALUES],\n",
    "    # [{'function': lambda population, k: tools.selWorst(population, TOP_BEST_SIZE)}],\n",
    "    [{'function': selWorstPossible}],  # fill the population with the WORST individuals - this is the action the network should avoid\n",
    "    [{'function': selBestPossible, 'top_n': TOP_BEST_SIZE}],  # fill the population with the BEST individuals\n",
    "    # [{'function': lambda population, k: population}],  # no-op\n",
    "))\n",
    "\n",
    "ACTIONS_CX = [\n",
    "    {'function': tools.cxBlend, 'alpha': UP_BOUND},\n",
    "    # {'function': tools.cxTwoPoint},\n",
    "    # {'function': lambda ind1, ind2: (ind1, ind2)},  # no-op\n",
    "]\n",
    "\n",
    "ACTIONS_MU = [\n",
    "    {'function': tools.mutGaussian, 'mu': 0, 'sigma': 1, 'indpb': ATTRIBUTE_MUTATION_RATE},\n",
    "    # {'function': tools.mutShuffleIndexes, 'indpb': ATTRIBUTE_MUTATION_RATE},\n",
    "    # {'function': lambda ind: (ind,)},  # no-op\n",
    "]\n",
    "\n",
    "\n",
    "CLUSTERER = Clusterer()\n",
    "\n",
    "N_CLUSTERS = 10\n",
    "\n",
    "N_STACKED_STATES = 5\n",
    "\n",
    "# class RapidsClusteringMethod:\n",
    "#     def __init__(self, n_clusters, random_state):\n",
    "#         self.model = cuml.cluster.KMeans(init='k-means||', n_clusters=n_clusters, random_state=random_state)\n",
    "#\n",
    "#     def fit_predict(self, X):\n",
    "#         device_data = cudf.DataFrame(X)\n",
    "#         return self.model.fit_predict(device_data).to_numpy()\n",
    "\n",
    "STAT_FUNCTIONS = [\n",
    "    # (\"max_fitness\", lambda\n",
    "    #     pop: np.max(\n",
    "    #     [ind.fitness.values[0] for ind in pop]\n",
    "    #     )),\n",
    "    # (\"min_fitness\", lambda\n",
    "    #     pop: np.min(\n",
    "    #     [ind.fitness.values[0] for ind in pop]\n",
    "    #     )),\n",
    "    # (\"fitness_std_range_diversity\", lambda\n",
    "    #     pop: np.std(\n",
    "    #     [ind.fitness.values[0] for ind in pop]\n",
    "    #     )),\n",
    "    # (\"number_of_clusters_diversity\", number_of_clusters_diversity),  # This is very costly, takes 2x the total time it takes to cluster the population and evaluate other functions on each of the clusters\n",
    "    # (\"clusters_of_fitness_max_mean_ratio_diversity\", CLUSTERER.clusters_of(\n",
    "    #     fitness_max_mean_ratio_diversity\n",
    "    # )),\n",
    "    # (\"clusters_of_fitness_mean_min_ratio_diversity\", CLUSTERER.clusters_of(\n",
    "    #     fitness_mean_min_ratio_diversity\n",
    "    # )),\n",
    "    # (\"clusters_of_gene_mean_std_diversity\", CLUSTERER.clusters_of(\n",
    "    #     gene_mean_std_diversity\n",
    "    # )),\n",
    "    # (\"clusters_of_gene_mean_unique_ratio_diversity\", CLUSTERER.clusters_of(\n",
    "    #     gene_mean_unique_ratio_diversity\n",
    "    # )),\n",
    "    (\"clusters_of_multiple_fns\", CLUSTERER.clusters_of_fns([\n",
    "        fitness_max_mean_ratio_diversity,\n",
    "        fitness_mean_min_ratio_diversity,\n",
    "        gene_mean_std_diversity,\n",
    "        gene_mean_unique_ratio_diversity,\n",
    "        lambda p: len(p) / INITIAL_POPULATION_SIZE,  # Cluster population size as part of initial population size\n",
    "        lambda p: np.linalg.norm(np.mean(p, axis=0) - SEARCH_SPACE_CENTER) / SEARCH_SPACE_DIAMETER,  # Cluster centroid distance from the middle of search space; normalized by search space diameter\n",
    "    ], n_clusters=N_CLUSTERS, random_seed=RANDOM_SEED)),\n",
    "]\n",
    "\n",
    "# Neural network params\n",
    "batch_size = 256\n",
    "num_episodes = 100\n",
    "\n",
    "curr_device = torch.device('cuda' if torch.cuda.is_available() else 'cpu')\n",
    "em = GeneticAlgorithmEnv(\n",
    "    num_dims=IND_SIZE,\n",
    "    low_bound=LOW_BOUND,\n",
    "    up_bound=UP_BOUND,\n",
    "    fitness_fn=benchmarks.rastrigin,\n",
    "    max_evals=MAX_EVALS,\n",
    "    initial_population_size=INITIAL_POPULATION_SIZE,\n",
    "    actions_sel=ACTIONS_SEL,\n",
    "    actions_cx=ACTIONS_CX,\n",
    "    actions_mu=ACTIONS_MU,\n",
    "    stat_functions=STAT_FUNCTIONS,\n",
    "    clusterer=CLUSTERER,\n",
    "    device=curr_device,\n",
    "    number_of_stacked_states=N_STACKED_STATES,\n",
    ")\n",
    "\n",
    "\n",
    "# Saving model data\n",
    "save_every_num_episodes = 50\n",
    "\n",
    "# RL setup\n",
    "strategy = NoExplorationStrategy()\n",
    "agent = Agent(strategy, em.num_actions_available(), curr_device)\n",
    "\n",
    "policy_net = torch.load('../17-5-2022_22-4_5-states_3-actions_seed-127/policy_net_300_episodes').to(curr_device)\n",
    "\n",
    "episode_best_fitnesses = []\n",
    "episode_actions_chosen = []\n",
    "for episode in range(num_episodes):\n",
    "    start_episode = time.perf_counter()\n",
    "    em.reset()\n",
    "    state = em.get_state()\n",
    "    actions_chosen = []\n",
    "\n",
    "    for timestep in count():\n",
    "        action = agent.select_action(state, policy_net)\n",
    "        actions_chosen.append(action.item())\n",
    "        reward = em.take_action(action)  # this is a performance bottleneck, it takes 0.1seconds, almost 100% of the time required for a single timestep\n",
    "        state = em.get_state()\n",
    "\n",
    "        if em.done:\n",
    "            # TODO: This should be a value that we want to track across episodes, e.x. number of generations before global optimum was found\n",
    "            episode_best_fitnesses.append(em.hof[0].fitness.values[0])\n",
    "            episode_actions_chosen.append(actions_chosen)\n",
    "            print(f'Episode {len(episode_best_fitnesses)}\\nActions chosen: {actions_chosen}')\n",
    "            # plot(episode_best_fitnesses, 100)\n",
    "            break\n",
    "    stop_episode = time.perf_counter()\n",
    "    print(f'\\n\\nEpisode took {stop_episode - start_episode}\\n\\n')\n",
    "\n",
    "    if episode > 0 and episode % save_every_num_episodes == 0:\n",
    "        # Performance\n",
    "        plt.plot(episode_best_fitnesses)\n",
    "        plt.savefig(os.path.join(f'best_fitness_{episode}_episodes.png'))"
   ]
  }
 ],
 "metadata": {
  "kernelspec": {
   "display_name": "Python 3",
   "language": "python",
   "name": "python3"
  },
  "language_info": {
   "codemirror_mode": {
    "name": "ipython",
    "version": 2
   },
   "file_extension": ".py",
   "mimetype": "text/x-python",
   "name": "python",
   "nbconvert_exporter": "python",
   "pygments_lexer": "ipython2",
   "version": "2.7.6"
  }
 },
 "nbformat": 4,
 "nbformat_minor": 0
}