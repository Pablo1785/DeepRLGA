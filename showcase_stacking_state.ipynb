{
 "cells": [
  {
   "cell_type": "code",
   "execution_count": 1,
   "outputs": [
    {
     "name": "stderr",
     "output_type": "stream",
     "text": [
      "/home/pbilko/miniconda3/envs/PP/lib/python3.9/site-packages/deap/creator.py:138: RuntimeWarning: A class named 'FitnessMin' has already been created and it will be overwritten. Consider deleting previous creation of that class or rename it.\n",
      "  warnings.warn(\"A class named '{0}' has already been created and it \"\n",
      "/home/pbilko/miniconda3/envs/PP/lib/python3.9/site-packages/deap/creator.py:138: RuntimeWarning: A class named 'Individual' has already been created and it will be overwritten. Consider deleting previous creation of that class or rename it.\n",
      "  warnings.warn(\"A class named '{0}' has already been created and it \"\n",
      "/home/pbilko/STUDIA/Neuronowa Adaptacja Operatorów Wariacyjnych/deep_rl_ga/ga_env.py:320: RuntimeWarning: divide by zero encountered in log\n",
      "  return -np.log(self.curr_best_fitness / self.prev_best_fitness)\n"
     ]
    },
    {
     "name": "stdout",
     "output_type": "stream",
     "text": [
      "Episode 1 \n",
      "\n",
      "\n",
      "\n",
      "Episode took 2.1083046620005916\n",
      "\n",
      "\n"
     ]
    },
    {
     "name": "stderr",
     "output_type": "stream",
     "text": [
      "/home/pbilko/miniconda3/envs/PP/lib/python3.9/site-packages/deap/creator.py:138: RuntimeWarning: A class named 'FitnessMin' has already been created and it will be overwritten. Consider deleting previous creation of that class or rename it.\n",
      "  warnings.warn(\"A class named '{0}' has already been created and it \"\n",
      "/home/pbilko/miniconda3/envs/PP/lib/python3.9/site-packages/deap/creator.py:138: RuntimeWarning: A class named 'Individual' has already been created and it will be overwritten. Consider deleting previous creation of that class or rename it.\n",
      "  warnings.warn(\"A class named '{0}' has already been created and it \"\n",
      "/home/pbilko/STUDIA/Neuronowa Adaptacja Operatorów Wariacyjnych/deep_rl_ga/ga_env.py:320: RuntimeWarning: divide by zero encountered in log\n",
      "  return -np.log(self.curr_best_fitness / self.prev_best_fitness)\n"
     ]
    },
    {
     "name": "stdout",
     "output_type": "stream",
     "text": [
      "Episode 2 \n",
      "\n",
      "\n",
      "\n",
      "Episode took 1.6722161649995542\n",
      "\n",
      "\n"
     ]
    },
    {
     "name": "stderr",
     "output_type": "stream",
     "text": [
      "/home/pbilko/miniconda3/envs/PP/lib/python3.9/site-packages/deap/creator.py:138: RuntimeWarning: A class named 'FitnessMin' has already been created and it will be overwritten. Consider deleting previous creation of that class or rename it.\n",
      "  warnings.warn(\"A class named '{0}' has already been created and it \"\n",
      "/home/pbilko/miniconda3/envs/PP/lib/python3.9/site-packages/deap/creator.py:138: RuntimeWarning: A class named 'Individual' has already been created and it will be overwritten. Consider deleting previous creation of that class or rename it.\n",
      "  warnings.warn(\"A class named '{0}' has already been created and it \"\n",
      "/home/pbilko/STUDIA/Neuronowa Adaptacja Operatorów Wariacyjnych/deep_rl_ga/ga_env.py:320: RuntimeWarning: divide by zero encountered in log\n",
      "  return -np.log(self.curr_best_fitness / self.prev_best_fitness)\n"
     ]
    },
    {
     "name": "stdout",
     "output_type": "stream",
     "text": [
      "Episode 3 \n",
      "\n",
      "\n",
      "\n",
      "Episode took 1.6214420319993224\n",
      "\n",
      "\n"
     ]
    },
    {
     "name": "stderr",
     "output_type": "stream",
     "text": [
      "/home/pbilko/miniconda3/envs/PP/lib/python3.9/site-packages/deap/creator.py:138: RuntimeWarning: A class named 'FitnessMin' has already been created and it will be overwritten. Consider deleting previous creation of that class or rename it.\n",
      "  warnings.warn(\"A class named '{0}' has already been created and it \"\n",
      "/home/pbilko/miniconda3/envs/PP/lib/python3.9/site-packages/deap/creator.py:138: RuntimeWarning: A class named 'Individual' has already been created and it will be overwritten. Consider deleting previous creation of that class or rename it.\n",
      "  warnings.warn(\"A class named '{0}' has already been created and it \"\n",
      "/home/pbilko/STUDIA/Neuronowa Adaptacja Operatorów Wariacyjnych/deep_rl_ga/ga_env.py:320: RuntimeWarning: divide by zero encountered in log\n",
      "  return -np.log(self.curr_best_fitness / self.prev_best_fitness)\n"
     ]
    },
    {
     "name": "stdout",
     "output_type": "stream",
     "text": [
      "Episode 4 \n",
      "\n",
      "\n",
      "\n",
      "Episode took 1.9223221859992918\n",
      "\n",
      "\n"
     ]
    },
    {
     "name": "stderr",
     "output_type": "stream",
     "text": [
      "/home/pbilko/miniconda3/envs/PP/lib/python3.9/site-packages/deap/creator.py:138: RuntimeWarning: A class named 'FitnessMin' has already been created and it will be overwritten. Consider deleting previous creation of that class or rename it.\n",
      "  warnings.warn(\"A class named '{0}' has already been created and it \"\n",
      "/home/pbilko/miniconda3/envs/PP/lib/python3.9/site-packages/deap/creator.py:138: RuntimeWarning: A class named 'Individual' has already been created and it will be overwritten. Consider deleting previous creation of that class or rename it.\n",
      "  warnings.warn(\"A class named '{0}' has already been created and it \"\n",
      "/home/pbilko/STUDIA/Neuronowa Adaptacja Operatorów Wariacyjnych/deep_rl_ga/ga_env.py:320: RuntimeWarning: divide by zero encountered in log\n",
      "  return -np.log(self.curr_best_fitness / self.prev_best_fitness)\n"
     ]
    },
    {
     "name": "stdout",
     "output_type": "stream",
     "text": [
      "Episode 5 \n",
      "\n",
      "\n",
      "\n",
      "Episode took 2.852657162000469\n",
      "\n",
      "\n"
     ]
    },
    {
     "name": "stderr",
     "output_type": "stream",
     "text": [
      "/home/pbilko/miniconda3/envs/PP/lib/python3.9/site-packages/deap/creator.py:138: RuntimeWarning: A class named 'FitnessMin' has already been created and it will be overwritten. Consider deleting previous creation of that class or rename it.\n",
      "  warnings.warn(\"A class named '{0}' has already been created and it \"\n",
      "/home/pbilko/miniconda3/envs/PP/lib/python3.9/site-packages/deap/creator.py:138: RuntimeWarning: A class named 'Individual' has already been created and it will be overwritten. Consider deleting previous creation of that class or rename it.\n",
      "  warnings.warn(\"A class named '{0}' has already been created and it \"\n",
      "/home/pbilko/STUDIA/Neuronowa Adaptacja Operatorów Wariacyjnych/deep_rl_ga/ga_env.py:320: RuntimeWarning: divide by zero encountered in log\n",
      "  return -np.log(self.curr_best_fitness / self.prev_best_fitness)\n"
     ]
    },
    {
     "name": "stdout",
     "output_type": "stream",
     "text": [
      "Episode 6 \n",
      "\n",
      "\n",
      "\n",
      "Episode took 2.951048360000641\n",
      "\n",
      "\n"
     ]
    },
    {
     "name": "stderr",
     "output_type": "stream",
     "text": [
      "/home/pbilko/miniconda3/envs/PP/lib/python3.9/site-packages/deap/creator.py:138: RuntimeWarning: A class named 'FitnessMin' has already been created and it will be overwritten. Consider deleting previous creation of that class or rename it.\n",
      "  warnings.warn(\"A class named '{0}' has already been created and it \"\n",
      "/home/pbilko/miniconda3/envs/PP/lib/python3.9/site-packages/deap/creator.py:138: RuntimeWarning: A class named 'Individual' has already been created and it will be overwritten. Consider deleting previous creation of that class or rename it.\n",
      "  warnings.warn(\"A class named '{0}' has already been created and it \"\n",
      "/home/pbilko/STUDIA/Neuronowa Adaptacja Operatorów Wariacyjnych/deep_rl_ga/ga_env.py:320: RuntimeWarning: divide by zero encountered in log\n",
      "  return -np.log(self.curr_best_fitness / self.prev_best_fitness)\n"
     ]
    },
    {
     "name": "stdout",
     "output_type": "stream",
     "text": [
      "Episode 7 \n",
      "\n",
      "\n",
      "\n",
      "Episode took 2.797587661001671\n",
      "\n",
      "\n"
     ]
    },
    {
     "name": "stderr",
     "output_type": "stream",
     "text": [
      "/home/pbilko/miniconda3/envs/PP/lib/python3.9/site-packages/deap/creator.py:138: RuntimeWarning: A class named 'FitnessMin' has already been created and it will be overwritten. Consider deleting previous creation of that class or rename it.\n",
      "  warnings.warn(\"A class named '{0}' has already been created and it \"\n",
      "/home/pbilko/miniconda3/envs/PP/lib/python3.9/site-packages/deap/creator.py:138: RuntimeWarning: A class named 'Individual' has already been created and it will be overwritten. Consider deleting previous creation of that class or rename it.\n",
      "  warnings.warn(\"A class named '{0}' has already been created and it \"\n",
      "/home/pbilko/STUDIA/Neuronowa Adaptacja Operatorów Wariacyjnych/deep_rl_ga/ga_env.py:320: RuntimeWarning: divide by zero encountered in log\n",
      "  return -np.log(self.curr_best_fitness / self.prev_best_fitness)\n"
     ]
    },
    {
     "name": "stdout",
     "output_type": "stream",
     "text": [
      "Episode 8 \n",
      "\n",
      "\n",
      "\n",
      "Episode took 2.807019905998459\n",
      "\n",
      "\n"
     ]
    },
    {
     "name": "stderr",
     "output_type": "stream",
     "text": [
      "/home/pbilko/miniconda3/envs/PP/lib/python3.9/site-packages/deap/creator.py:138: RuntimeWarning: A class named 'FitnessMin' has already been created and it will be overwritten. Consider deleting previous creation of that class or rename it.\n",
      "  warnings.warn(\"A class named '{0}' has already been created and it \"\n",
      "/home/pbilko/miniconda3/envs/PP/lib/python3.9/site-packages/deap/creator.py:138: RuntimeWarning: A class named 'Individual' has already been created and it will be overwritten. Consider deleting previous creation of that class or rename it.\n",
      "  warnings.warn(\"A class named '{0}' has already been created and it \"\n",
      "/home/pbilko/STUDIA/Neuronowa Adaptacja Operatorów Wariacyjnych/deep_rl_ga/ga_env.py:320: RuntimeWarning: divide by zero encountered in log\n",
      "  return -np.log(self.curr_best_fitness / self.prev_best_fitness)\n"
     ]
    },
    {
     "name": "stdout",
     "output_type": "stream",
     "text": [
      "Episode 9 \n",
      "\n",
      "\n",
      "\n",
      "Episode took 2.7999685160011722\n",
      "\n",
      "\n"
     ]
    },
    {
     "name": "stderr",
     "output_type": "stream",
     "text": [
      "/home/pbilko/miniconda3/envs/PP/lib/python3.9/site-packages/deap/creator.py:138: RuntimeWarning: A class named 'FitnessMin' has already been created and it will be overwritten. Consider deleting previous creation of that class or rename it.\n",
      "  warnings.warn(\"A class named '{0}' has already been created and it \"\n",
      "/home/pbilko/miniconda3/envs/PP/lib/python3.9/site-packages/deap/creator.py:138: RuntimeWarning: A class named 'Individual' has already been created and it will be overwritten. Consider deleting previous creation of that class or rename it.\n",
      "  warnings.warn(\"A class named '{0}' has already been created and it \"\n",
      "/home/pbilko/STUDIA/Neuronowa Adaptacja Operatorów Wariacyjnych/deep_rl_ga/ga_env.py:320: RuntimeWarning: divide by zero encountered in log\n",
      "  return -np.log(self.curr_best_fitness / self.prev_best_fitness)\n"
     ]
    },
    {
     "name": "stdout",
     "output_type": "stream",
     "text": [
      "Episode 10 \n",
      "\n",
      "\n",
      "\n",
      "Episode took 2.7753904630008037\n",
      "\n",
      "\n"
     ]
    },
    {
     "name": "stderr",
     "output_type": "stream",
     "text": [
      "/home/pbilko/miniconda3/envs/PP/lib/python3.9/site-packages/deap/creator.py:138: RuntimeWarning: A class named 'FitnessMin' has already been created and it will be overwritten. Consider deleting previous creation of that class or rename it.\n",
      "  warnings.warn(\"A class named '{0}' has already been created and it \"\n",
      "/home/pbilko/miniconda3/envs/PP/lib/python3.9/site-packages/deap/creator.py:138: RuntimeWarning: A class named 'Individual' has already been created and it will be overwritten. Consider deleting previous creation of that class or rename it.\n",
      "  warnings.warn(\"A class named '{0}' has already been created and it \"\n",
      "/home/pbilko/STUDIA/Neuronowa Adaptacja Operatorów Wariacyjnych/deep_rl_ga/ga_env.py:320: RuntimeWarning: divide by zero encountered in log\n",
      "  return -np.log(self.curr_best_fitness / self.prev_best_fitness)\n"
     ]
    },
    {
     "name": "stdout",
     "output_type": "stream",
     "text": [
      "Episode 11 \n",
      "\n",
      "\n",
      "\n",
      "Episode took 2.8216269349995855\n",
      "\n",
      "\n"
     ]
    },
    {
     "name": "stderr",
     "output_type": "stream",
     "text": [
      "/home/pbilko/miniconda3/envs/PP/lib/python3.9/site-packages/deap/creator.py:138: RuntimeWarning: A class named 'FitnessMin' has already been created and it will be overwritten. Consider deleting previous creation of that class or rename it.\n",
      "  warnings.warn(\"A class named '{0}' has already been created and it \"\n",
      "/home/pbilko/miniconda3/envs/PP/lib/python3.9/site-packages/deap/creator.py:138: RuntimeWarning: A class named 'Individual' has already been created and it will be overwritten. Consider deleting previous creation of that class or rename it.\n",
      "  warnings.warn(\"A class named '{0}' has already been created and it \"\n",
      "/home/pbilko/STUDIA/Neuronowa Adaptacja Operatorów Wariacyjnych/deep_rl_ga/ga_env.py:320: RuntimeWarning: divide by zero encountered in log\n",
      "  return -np.log(self.curr_best_fitness / self.prev_best_fitness)\n"
     ]
    },
    {
     "name": "stdout",
     "output_type": "stream",
     "text": [
      "Episode 12 \n",
      "\n",
      "\n",
      "\n",
      "Episode took 2.7974132760009525\n",
      "\n",
      "\n"
     ]
    },
    {
     "name": "stderr",
     "output_type": "stream",
     "text": [
      "/home/pbilko/miniconda3/envs/PP/lib/python3.9/site-packages/deap/creator.py:138: RuntimeWarning: A class named 'FitnessMin' has already been created and it will be overwritten. Consider deleting previous creation of that class or rename it.\n",
      "  warnings.warn(\"A class named '{0}' has already been created and it \"\n",
      "/home/pbilko/miniconda3/envs/PP/lib/python3.9/site-packages/deap/creator.py:138: RuntimeWarning: A class named 'Individual' has already been created and it will be overwritten. Consider deleting previous creation of that class or rename it.\n",
      "  warnings.warn(\"A class named '{0}' has already been created and it \"\n",
      "/home/pbilko/STUDIA/Neuronowa Adaptacja Operatorów Wariacyjnych/deep_rl_ga/ga_env.py:320: RuntimeWarning: divide by zero encountered in log\n",
      "  return -np.log(self.curr_best_fitness / self.prev_best_fitness)\n"
     ]
    },
    {
     "name": "stdout",
     "output_type": "stream",
     "text": [
      "Episode 13 \n",
      "\n",
      "\n",
      "\n",
      "Episode took 2.908589269998629\n",
      "\n",
      "\n"
     ]
    },
    {
     "name": "stderr",
     "output_type": "stream",
     "text": [
      "/home/pbilko/miniconda3/envs/PP/lib/python3.9/site-packages/deap/creator.py:138: RuntimeWarning: A class named 'FitnessMin' has already been created and it will be overwritten. Consider deleting previous creation of that class or rename it.\n",
      "  warnings.warn(\"A class named '{0}' has already been created and it \"\n",
      "/home/pbilko/miniconda3/envs/PP/lib/python3.9/site-packages/deap/creator.py:138: RuntimeWarning: A class named 'Individual' has already been created and it will be overwritten. Consider deleting previous creation of that class or rename it.\n",
      "  warnings.warn(\"A class named '{0}' has already been created and it \"\n",
      "/home/pbilko/STUDIA/Neuronowa Adaptacja Operatorów Wariacyjnych/deep_rl_ga/ga_env.py:320: RuntimeWarning: divide by zero encountered in log\n",
      "  return -np.log(self.curr_best_fitness / self.prev_best_fitness)\n"
     ]
    },
    {
     "name": "stdout",
     "output_type": "stream",
     "text": [
      "Episode 14 \n",
      "\n",
      "\n",
      "\n",
      "Episode took 2.9138286959987454\n",
      "\n",
      "\n"
     ]
    },
    {
     "name": "stderr",
     "output_type": "stream",
     "text": [
      "/home/pbilko/miniconda3/envs/PP/lib/python3.9/site-packages/deap/creator.py:138: RuntimeWarning: A class named 'FitnessMin' has already been created and it will be overwritten. Consider deleting previous creation of that class or rename it.\n",
      "  warnings.warn(\"A class named '{0}' has already been created and it \"\n",
      "/home/pbilko/miniconda3/envs/PP/lib/python3.9/site-packages/deap/creator.py:138: RuntimeWarning: A class named 'Individual' has already been created and it will be overwritten. Consider deleting previous creation of that class or rename it.\n",
      "  warnings.warn(\"A class named '{0}' has already been created and it \"\n",
      "/home/pbilko/STUDIA/Neuronowa Adaptacja Operatorów Wariacyjnych/deep_rl_ga/ga_env.py:320: RuntimeWarning: divide by zero encountered in log\n",
      "  return -np.log(self.curr_best_fitness / self.prev_best_fitness)\n"
     ]
    },
    {
     "name": "stdout",
     "output_type": "stream",
     "text": [
      "Episode 15 \n",
      "\n",
      "\n",
      "\n",
      "Episode took 2.7064040599998407\n",
      "\n",
      "\n"
     ]
    },
    {
     "name": "stderr",
     "output_type": "stream",
     "text": [
      "/home/pbilko/miniconda3/envs/PP/lib/python3.9/site-packages/deap/creator.py:138: RuntimeWarning: A class named 'FitnessMin' has already been created and it will be overwritten. Consider deleting previous creation of that class or rename it.\n",
      "  warnings.warn(\"A class named '{0}' has already been created and it \"\n",
      "/home/pbilko/miniconda3/envs/PP/lib/python3.9/site-packages/deap/creator.py:138: RuntimeWarning: A class named 'Individual' has already been created and it will be overwritten. Consider deleting previous creation of that class or rename it.\n",
      "  warnings.warn(\"A class named '{0}' has already been created and it \"\n",
      "/home/pbilko/STUDIA/Neuronowa Adaptacja Operatorów Wariacyjnych/deep_rl_ga/ga_env.py:320: RuntimeWarning: divide by zero encountered in log\n",
      "  return -np.log(self.curr_best_fitness / self.prev_best_fitness)\n"
     ]
    },
    {
     "name": "stdout",
     "output_type": "stream",
     "text": [
      "Episode 16 \n",
      "\n",
      "\n",
      "\n",
      "Episode took 2.6705898709988105\n",
      "\n",
      "\n"
     ]
    },
    {
     "name": "stderr",
     "output_type": "stream",
     "text": [
      "/home/pbilko/miniconda3/envs/PP/lib/python3.9/site-packages/deap/creator.py:138: RuntimeWarning: A class named 'FitnessMin' has already been created and it will be overwritten. Consider deleting previous creation of that class or rename it.\n",
      "  warnings.warn(\"A class named '{0}' has already been created and it \"\n",
      "/home/pbilko/miniconda3/envs/PP/lib/python3.9/site-packages/deap/creator.py:138: RuntimeWarning: A class named 'Individual' has already been created and it will be overwritten. Consider deleting previous creation of that class or rename it.\n",
      "  warnings.warn(\"A class named '{0}' has already been created and it \"\n",
      "/home/pbilko/STUDIA/Neuronowa Adaptacja Operatorów Wariacyjnych/deep_rl_ga/ga_env.py:320: RuntimeWarning: divide by zero encountered in log\n",
      "  return -np.log(self.curr_best_fitness / self.prev_best_fitness)\n"
     ]
    },
    {
     "name": "stdout",
     "output_type": "stream",
     "text": [
      "Episode 17 \n",
      "\n",
      "\n",
      "\n",
      "Episode took 2.8658414030014683\n",
      "\n",
      "\n"
     ]
    },
    {
     "name": "stderr",
     "output_type": "stream",
     "text": [
      "/home/pbilko/miniconda3/envs/PP/lib/python3.9/site-packages/deap/creator.py:138: RuntimeWarning: A class named 'FitnessMin' has already been created and it will be overwritten. Consider deleting previous creation of that class or rename it.\n",
      "  warnings.warn(\"A class named '{0}' has already been created and it \"\n",
      "/home/pbilko/miniconda3/envs/PP/lib/python3.9/site-packages/deap/creator.py:138: RuntimeWarning: A class named 'Individual' has already been created and it will be overwritten. Consider deleting previous creation of that class or rename it.\n",
      "  warnings.warn(\"A class named '{0}' has already been created and it \"\n",
      "/home/pbilko/STUDIA/Neuronowa Adaptacja Operatorów Wariacyjnych/deep_rl_ga/ga_env.py:320: RuntimeWarning: divide by zero encountered in log\n",
      "  return -np.log(self.curr_best_fitness / self.prev_best_fitness)\n"
     ]
    },
    {
     "name": "stdout",
     "output_type": "stream",
     "text": [
      "Episode 18 \n",
      "\n",
      "\n",
      "\n",
      "Episode took 2.6461341049998737\n",
      "\n",
      "\n"
     ]
    },
    {
     "name": "stderr",
     "output_type": "stream",
     "text": [
      "/home/pbilko/miniconda3/envs/PP/lib/python3.9/site-packages/deap/creator.py:138: RuntimeWarning: A class named 'FitnessMin' has already been created and it will be overwritten. Consider deleting previous creation of that class or rename it.\n",
      "  warnings.warn(\"A class named '{0}' has already been created and it \"\n",
      "/home/pbilko/miniconda3/envs/PP/lib/python3.9/site-packages/deap/creator.py:138: RuntimeWarning: A class named 'Individual' has already been created and it will be overwritten. Consider deleting previous creation of that class or rename it.\n",
      "  warnings.warn(\"A class named '{0}' has already been created and it \"\n",
      "/home/pbilko/STUDIA/Neuronowa Adaptacja Operatorów Wariacyjnych/deep_rl_ga/ga_env.py:320: RuntimeWarning: divide by zero encountered in log\n",
      "  return -np.log(self.curr_best_fitness / self.prev_best_fitness)\n"
     ]
    },
    {
     "name": "stdout",
     "output_type": "stream",
     "text": [
      "Episode 19 \n",
      "\n",
      "\n",
      "\n",
      "Episode took 2.812601577999885\n",
      "\n",
      "\n"
     ]
    },
    {
     "name": "stderr",
     "output_type": "stream",
     "text": [
      "/home/pbilko/miniconda3/envs/PP/lib/python3.9/site-packages/deap/creator.py:138: RuntimeWarning: A class named 'FitnessMin' has already been created and it will be overwritten. Consider deleting previous creation of that class or rename it.\n",
      "  warnings.warn(\"A class named '{0}' has already been created and it \"\n",
      "/home/pbilko/miniconda3/envs/PP/lib/python3.9/site-packages/deap/creator.py:138: RuntimeWarning: A class named 'Individual' has already been created and it will be overwritten. Consider deleting previous creation of that class or rename it.\n",
      "  warnings.warn(\"A class named '{0}' has already been created and it \"\n",
      "/home/pbilko/STUDIA/Neuronowa Adaptacja Operatorów Wariacyjnych/deep_rl_ga/ga_env.py:320: RuntimeWarning: divide by zero encountered in log\n",
      "  return -np.log(self.curr_best_fitness / self.prev_best_fitness)\n"
     ]
    },
    {
     "name": "stdout",
     "output_type": "stream",
     "text": [
      "Episode 20 \n",
      "\n",
      "\n",
      "\n",
      "Episode took 2.940178711000044\n",
      "\n",
      "\n"
     ]
    },
    {
     "name": "stderr",
     "output_type": "stream",
     "text": [
      "/home/pbilko/miniconda3/envs/PP/lib/python3.9/site-packages/deap/creator.py:138: RuntimeWarning: A class named 'FitnessMin' has already been created and it will be overwritten. Consider deleting previous creation of that class or rename it.\n",
      "  warnings.warn(\"A class named '{0}' has already been created and it \"\n",
      "/home/pbilko/miniconda3/envs/PP/lib/python3.9/site-packages/deap/creator.py:138: RuntimeWarning: A class named 'Individual' has already been created and it will be overwritten. Consider deleting previous creation of that class or rename it.\n",
      "  warnings.warn(\"A class named '{0}' has already been created and it \"\n",
      "/home/pbilko/STUDIA/Neuronowa Adaptacja Operatorów Wariacyjnych/deep_rl_ga/ga_env.py:320: RuntimeWarning: divide by zero encountered in log\n",
      "  return -np.log(self.curr_best_fitness / self.prev_best_fitness)\n"
     ]
    },
    {
     "name": "stdout",
     "output_type": "stream",
     "text": [
      "Episode 21 \n",
      "\n",
      "\n",
      "\n",
      "Episode took 3.0229386539995176\n",
      "\n",
      "\n"
     ]
    },
    {
     "name": "stderr",
     "output_type": "stream",
     "text": [
      "/home/pbilko/miniconda3/envs/PP/lib/python3.9/site-packages/deap/creator.py:138: RuntimeWarning: A class named 'FitnessMin' has already been created and it will be overwritten. Consider deleting previous creation of that class or rename it.\n",
      "  warnings.warn(\"A class named '{0}' has already been created and it \"\n",
      "/home/pbilko/miniconda3/envs/PP/lib/python3.9/site-packages/deap/creator.py:138: RuntimeWarning: A class named 'Individual' has already been created and it will be overwritten. Consider deleting previous creation of that class or rename it.\n",
      "  warnings.warn(\"A class named '{0}' has already been created and it \"\n",
      "/home/pbilko/STUDIA/Neuronowa Adaptacja Operatorów Wariacyjnych/deep_rl_ga/ga_env.py:320: RuntimeWarning: divide by zero encountered in log\n",
      "  return -np.log(self.curr_best_fitness / self.prev_best_fitness)\n"
     ]
    },
    {
     "name": "stdout",
     "output_type": "stream",
     "text": [
      "Episode 22 \n",
      "\n",
      "\n",
      "\n",
      "Episode took 2.8660668440006702\n",
      "\n",
      "\n"
     ]
    },
    {
     "name": "stderr",
     "output_type": "stream",
     "text": [
      "/home/pbilko/miniconda3/envs/PP/lib/python3.9/site-packages/deap/creator.py:138: RuntimeWarning: A class named 'FitnessMin' has already been created and it will be overwritten. Consider deleting previous creation of that class or rename it.\n",
      "  warnings.warn(\"A class named '{0}' has already been created and it \"\n",
      "/home/pbilko/miniconda3/envs/PP/lib/python3.9/site-packages/deap/creator.py:138: RuntimeWarning: A class named 'Individual' has already been created and it will be overwritten. Consider deleting previous creation of that class or rename it.\n",
      "  warnings.warn(\"A class named '{0}' has already been created and it \"\n",
      "/home/pbilko/STUDIA/Neuronowa Adaptacja Operatorów Wariacyjnych/deep_rl_ga/ga_env.py:320: RuntimeWarning: divide by zero encountered in log\n",
      "  return -np.log(self.curr_best_fitness / self.prev_best_fitness)\n"
     ]
    },
    {
     "name": "stdout",
     "output_type": "stream",
     "text": [
      "Episode 23 \n",
      "\n",
      "\n",
      "\n",
      "Episode took 2.821431454998674\n",
      "\n",
      "\n"
     ]
    },
    {
     "name": "stderr",
     "output_type": "stream",
     "text": [
      "/home/pbilko/miniconda3/envs/PP/lib/python3.9/site-packages/deap/creator.py:138: RuntimeWarning: A class named 'FitnessMin' has already been created and it will be overwritten. Consider deleting previous creation of that class or rename it.\n",
      "  warnings.warn(\"A class named '{0}' has already been created and it \"\n",
      "/home/pbilko/miniconda3/envs/PP/lib/python3.9/site-packages/deap/creator.py:138: RuntimeWarning: A class named 'Individual' has already been created and it will be overwritten. Consider deleting previous creation of that class or rename it.\n",
      "  warnings.warn(\"A class named '{0}' has already been created and it \"\n",
      "/home/pbilko/STUDIA/Neuronowa Adaptacja Operatorów Wariacyjnych/deep_rl_ga/ga_env.py:320: RuntimeWarning: divide by zero encountered in log\n",
      "  return -np.log(self.curr_best_fitness / self.prev_best_fitness)\n"
     ]
    },
    {
     "name": "stdout",
     "output_type": "stream",
     "text": [
      "Episode 24 \n",
      "\n",
      "\n",
      "\n",
      "Episode took 2.745716875000653\n",
      "\n",
      "\n"
     ]
    },
    {
     "name": "stderr",
     "output_type": "stream",
     "text": [
      "/home/pbilko/miniconda3/envs/PP/lib/python3.9/site-packages/deap/creator.py:138: RuntimeWarning: A class named 'FitnessMin' has already been created and it will be overwritten. Consider deleting previous creation of that class or rename it.\n",
      "  warnings.warn(\"A class named '{0}' has already been created and it \"\n",
      "/home/pbilko/miniconda3/envs/PP/lib/python3.9/site-packages/deap/creator.py:138: RuntimeWarning: A class named 'Individual' has already been created and it will be overwritten. Consider deleting previous creation of that class or rename it.\n",
      "  warnings.warn(\"A class named '{0}' has already been created and it \"\n",
      "/home/pbilko/STUDIA/Neuronowa Adaptacja Operatorów Wariacyjnych/deep_rl_ga/ga_env.py:320: RuntimeWarning: divide by zero encountered in log\n",
      "  return -np.log(self.curr_best_fitness / self.prev_best_fitness)\n"
     ]
    },
    {
     "name": "stdout",
     "output_type": "stream",
     "text": [
      "Episode 25 \n",
      "\n",
      "\n",
      "\n",
      "Episode took 2.8104319169997325\n",
      "\n",
      "\n"
     ]
    },
    {
     "name": "stderr",
     "output_type": "stream",
     "text": [
      "/home/pbilko/miniconda3/envs/PP/lib/python3.9/site-packages/deap/creator.py:138: RuntimeWarning: A class named 'FitnessMin' has already been created and it will be overwritten. Consider deleting previous creation of that class or rename it.\n",
      "  warnings.warn(\"A class named '{0}' has already been created and it \"\n",
      "/home/pbilko/miniconda3/envs/PP/lib/python3.9/site-packages/deap/creator.py:138: RuntimeWarning: A class named 'Individual' has already been created and it will be overwritten. Consider deleting previous creation of that class or rename it.\n",
      "  warnings.warn(\"A class named '{0}' has already been created and it \"\n",
      "/home/pbilko/STUDIA/Neuronowa Adaptacja Operatorów Wariacyjnych/deep_rl_ga/ga_env.py:320: RuntimeWarning: divide by zero encountered in log\n",
      "  return -np.log(self.curr_best_fitness / self.prev_best_fitness)\n"
     ]
    },
    {
     "name": "stdout",
     "output_type": "stream",
     "text": [
      "Episode 26 \n",
      "\n",
      "\n",
      "\n",
      "Episode took 2.8937672810006916\n",
      "\n",
      "\n"
     ]
    },
    {
     "name": "stderr",
     "output_type": "stream",
     "text": [
      "/home/pbilko/miniconda3/envs/PP/lib/python3.9/site-packages/deap/creator.py:138: RuntimeWarning: A class named 'FitnessMin' has already been created and it will be overwritten. Consider deleting previous creation of that class or rename it.\n",
      "  warnings.warn(\"A class named '{0}' has already been created and it \"\n",
      "/home/pbilko/miniconda3/envs/PP/lib/python3.9/site-packages/deap/creator.py:138: RuntimeWarning: A class named 'Individual' has already been created and it will be overwritten. Consider deleting previous creation of that class or rename it.\n",
      "  warnings.warn(\"A class named '{0}' has already been created and it \"\n",
      "/home/pbilko/STUDIA/Neuronowa Adaptacja Operatorów Wariacyjnych/deep_rl_ga/ga_env.py:320: RuntimeWarning: divide by zero encountered in log\n",
      "  return -np.log(self.curr_best_fitness / self.prev_best_fitness)\n"
     ]
    },
    {
     "name": "stdout",
     "output_type": "stream",
     "text": [
      "Episode 27 \n",
      "\n",
      "\n",
      "\n",
      "Episode took 2.998188408000715\n",
      "\n",
      "\n"
     ]
    },
    {
     "name": "stderr",
     "output_type": "stream",
     "text": [
      "/home/pbilko/miniconda3/envs/PP/lib/python3.9/site-packages/deap/creator.py:138: RuntimeWarning: A class named 'FitnessMin' has already been created and it will be overwritten. Consider deleting previous creation of that class or rename it.\n",
      "  warnings.warn(\"A class named '{0}' has already been created and it \"\n",
      "/home/pbilko/miniconda3/envs/PP/lib/python3.9/site-packages/deap/creator.py:138: RuntimeWarning: A class named 'Individual' has already been created and it will be overwritten. Consider deleting previous creation of that class or rename it.\n",
      "  warnings.warn(\"A class named '{0}' has already been created and it \"\n",
      "/home/pbilko/STUDIA/Neuronowa Adaptacja Operatorów Wariacyjnych/deep_rl_ga/ga_env.py:320: RuntimeWarning: divide by zero encountered in log\n",
      "  return -np.log(self.curr_best_fitness / self.prev_best_fitness)\n"
     ]
    },
    {
     "name": "stdout",
     "output_type": "stream",
     "text": [
      "Episode 28 \n",
      "\n",
      "\n",
      "\n",
      "Episode took 2.884841477000009\n",
      "\n",
      "\n"
     ]
    },
    {
     "name": "stderr",
     "output_type": "stream",
     "text": [
      "/home/pbilko/miniconda3/envs/PP/lib/python3.9/site-packages/deap/creator.py:138: RuntimeWarning: A class named 'FitnessMin' has already been created and it will be overwritten. Consider deleting previous creation of that class or rename it.\n",
      "  warnings.warn(\"A class named '{0}' has already been created and it \"\n",
      "/home/pbilko/miniconda3/envs/PP/lib/python3.9/site-packages/deap/creator.py:138: RuntimeWarning: A class named 'Individual' has already been created and it will be overwritten. Consider deleting previous creation of that class or rename it.\n",
      "  warnings.warn(\"A class named '{0}' has already been created and it \"\n",
      "/home/pbilko/STUDIA/Neuronowa Adaptacja Operatorów Wariacyjnych/deep_rl_ga/ga_env.py:320: RuntimeWarning: divide by zero encountered in log\n",
      "  return -np.log(self.curr_best_fitness / self.prev_best_fitness)\n"
     ]
    },
    {
     "name": "stdout",
     "output_type": "stream",
     "text": [
      "Episode 29 \n",
      "\n",
      "\n",
      "\n",
      "Episode took 2.787712138999268\n",
      "\n",
      "\n"
     ]
    },
    {
     "name": "stderr",
     "output_type": "stream",
     "text": [
      "/home/pbilko/miniconda3/envs/PP/lib/python3.9/site-packages/deap/creator.py:138: RuntimeWarning: A class named 'FitnessMin' has already been created and it will be overwritten. Consider deleting previous creation of that class or rename it.\n",
      "  warnings.warn(\"A class named '{0}' has already been created and it \"\n",
      "/home/pbilko/miniconda3/envs/PP/lib/python3.9/site-packages/deap/creator.py:138: RuntimeWarning: A class named 'Individual' has already been created and it will be overwritten. Consider deleting previous creation of that class or rename it.\n",
      "  warnings.warn(\"A class named '{0}' has already been created and it \"\n",
      "/home/pbilko/STUDIA/Neuronowa Adaptacja Operatorów Wariacyjnych/deep_rl_ga/ga_env.py:320: RuntimeWarning: divide by zero encountered in log\n",
      "  return -np.log(self.curr_best_fitness / self.prev_best_fitness)\n"
     ]
    },
    {
     "name": "stdout",
     "output_type": "stream",
     "text": [
      "Episode 30 \n",
      "\n",
      "\n",
      "\n",
      "Episode took 2.8782245940001303\n",
      "\n",
      "\n"
     ]
    },
    {
     "name": "stderr",
     "output_type": "stream",
     "text": [
      "/home/pbilko/miniconda3/envs/PP/lib/python3.9/site-packages/deap/creator.py:138: RuntimeWarning: A class named 'FitnessMin' has already been created and it will be overwritten. Consider deleting previous creation of that class or rename it.\n",
      "  warnings.warn(\"A class named '{0}' has already been created and it \"\n",
      "/home/pbilko/miniconda3/envs/PP/lib/python3.9/site-packages/deap/creator.py:138: RuntimeWarning: A class named 'Individual' has already been created and it will be overwritten. Consider deleting previous creation of that class or rename it.\n",
      "  warnings.warn(\"A class named '{0}' has already been created and it \"\n",
      "/home/pbilko/STUDIA/Neuronowa Adaptacja Operatorów Wariacyjnych/deep_rl_ga/ga_env.py:320: RuntimeWarning: divide by zero encountered in log\n",
      "  return -np.log(self.curr_best_fitness / self.prev_best_fitness)\n"
     ]
    },
    {
     "name": "stdout",
     "output_type": "stream",
     "text": [
      "Episode 31 \n",
      "\n",
      "\n",
      "\n",
      "Episode took 2.8389359620014147\n",
      "\n",
      "\n"
     ]
    },
    {
     "name": "stderr",
     "output_type": "stream",
     "text": [
      "/home/pbilko/miniconda3/envs/PP/lib/python3.9/site-packages/deap/creator.py:138: RuntimeWarning: A class named 'FitnessMin' has already been created and it will be overwritten. Consider deleting previous creation of that class or rename it.\n",
      "  warnings.warn(\"A class named '{0}' has already been created and it \"\n",
      "/home/pbilko/miniconda3/envs/PP/lib/python3.9/site-packages/deap/creator.py:138: RuntimeWarning: A class named 'Individual' has already been created and it will be overwritten. Consider deleting previous creation of that class or rename it.\n",
      "  warnings.warn(\"A class named '{0}' has already been created and it \"\n",
      "/home/pbilko/STUDIA/Neuronowa Adaptacja Operatorów Wariacyjnych/deep_rl_ga/ga_env.py:320: RuntimeWarning: divide by zero encountered in log\n",
      "  return -np.log(self.curr_best_fitness / self.prev_best_fitness)\n"
     ]
    },
    {
     "name": "stdout",
     "output_type": "stream",
     "text": [
      "Episode 32 \n",
      "\n",
      "\n",
      "\n",
      "Episode took 2.960088486999666\n",
      "\n",
      "\n"
     ]
    },
    {
     "name": "stderr",
     "output_type": "stream",
     "text": [
      "/home/pbilko/miniconda3/envs/PP/lib/python3.9/site-packages/deap/creator.py:138: RuntimeWarning: A class named 'FitnessMin' has already been created and it will be overwritten. Consider deleting previous creation of that class or rename it.\n",
      "  warnings.warn(\"A class named '{0}' has already been created and it \"\n",
      "/home/pbilko/miniconda3/envs/PP/lib/python3.9/site-packages/deap/creator.py:138: RuntimeWarning: A class named 'Individual' has already been created and it will be overwritten. Consider deleting previous creation of that class or rename it.\n",
      "  warnings.warn(\"A class named '{0}' has already been created and it \"\n",
      "/home/pbilko/STUDIA/Neuronowa Adaptacja Operatorów Wariacyjnych/deep_rl_ga/ga_env.py:320: RuntimeWarning: divide by zero encountered in log\n",
      "  return -np.log(self.curr_best_fitness / self.prev_best_fitness)\n"
     ]
    },
    {
     "name": "stdout",
     "output_type": "stream",
     "text": [
      "Episode 33 \n",
      "\n",
      "\n",
      "\n",
      "Episode took 2.9254476300011447\n",
      "\n",
      "\n"
     ]
    },
    {
     "name": "stderr",
     "output_type": "stream",
     "text": [
      "/home/pbilko/miniconda3/envs/PP/lib/python3.9/site-packages/deap/creator.py:138: RuntimeWarning: A class named 'FitnessMin' has already been created and it will be overwritten. Consider deleting previous creation of that class or rename it.\n",
      "  warnings.warn(\"A class named '{0}' has already been created and it \"\n",
      "/home/pbilko/miniconda3/envs/PP/lib/python3.9/site-packages/deap/creator.py:138: RuntimeWarning: A class named 'Individual' has already been created and it will be overwritten. Consider deleting previous creation of that class or rename it.\n",
      "  warnings.warn(\"A class named '{0}' has already been created and it \"\n",
      "/home/pbilko/STUDIA/Neuronowa Adaptacja Operatorów Wariacyjnych/deep_rl_ga/ga_env.py:320: RuntimeWarning: divide by zero encountered in log\n",
      "  return -np.log(self.curr_best_fitness / self.prev_best_fitness)\n"
     ]
    },
    {
     "name": "stdout",
     "output_type": "stream",
     "text": [
      "Episode 34 \n",
      "\n",
      "\n",
      "\n",
      "Episode took 2.87615305700092\n",
      "\n",
      "\n"
     ]
    },
    {
     "name": "stderr",
     "output_type": "stream",
     "text": [
      "/home/pbilko/miniconda3/envs/PP/lib/python3.9/site-packages/deap/creator.py:138: RuntimeWarning: A class named 'FitnessMin' has already been created and it will be overwritten. Consider deleting previous creation of that class or rename it.\n",
      "  warnings.warn(\"A class named '{0}' has already been created and it \"\n",
      "/home/pbilko/miniconda3/envs/PP/lib/python3.9/site-packages/deap/creator.py:138: RuntimeWarning: A class named 'Individual' has already been created and it will be overwritten. Consider deleting previous creation of that class or rename it.\n",
      "  warnings.warn(\"A class named '{0}' has already been created and it \"\n",
      "/home/pbilko/STUDIA/Neuronowa Adaptacja Operatorów Wariacyjnych/deep_rl_ga/ga_env.py:320: RuntimeWarning: divide by zero encountered in log\n",
      "  return -np.log(self.curr_best_fitness / self.prev_best_fitness)\n"
     ]
    },
    {
     "name": "stdout",
     "output_type": "stream",
     "text": [
      "Episode 35 \n",
      "\n",
      "\n",
      "\n",
      "Episode took 2.900911429000189\n",
      "\n",
      "\n"
     ]
    },
    {
     "name": "stderr",
     "output_type": "stream",
     "text": [
      "/home/pbilko/miniconda3/envs/PP/lib/python3.9/site-packages/deap/creator.py:138: RuntimeWarning: A class named 'FitnessMin' has already been created and it will be overwritten. Consider deleting previous creation of that class or rename it.\n",
      "  warnings.warn(\"A class named '{0}' has already been created and it \"\n",
      "/home/pbilko/miniconda3/envs/PP/lib/python3.9/site-packages/deap/creator.py:138: RuntimeWarning: A class named 'Individual' has already been created and it will be overwritten. Consider deleting previous creation of that class or rename it.\n",
      "  warnings.warn(\"A class named '{0}' has already been created and it \"\n",
      "/home/pbilko/STUDIA/Neuronowa Adaptacja Operatorów Wariacyjnych/deep_rl_ga/ga_env.py:320: RuntimeWarning: divide by zero encountered in log\n",
      "  return -np.log(self.curr_best_fitness / self.prev_best_fitness)\n"
     ]
    },
    {
     "name": "stdout",
     "output_type": "stream",
     "text": [
      "Episode 36 \n",
      "\n",
      "\n",
      "\n",
      "Episode took 2.6906194530001812\n",
      "\n",
      "\n"
     ]
    },
    {
     "name": "stderr",
     "output_type": "stream",
     "text": [
      "/home/pbilko/miniconda3/envs/PP/lib/python3.9/site-packages/deap/creator.py:138: RuntimeWarning: A class named 'FitnessMin' has already been created and it will be overwritten. Consider deleting previous creation of that class or rename it.\n",
      "  warnings.warn(\"A class named '{0}' has already been created and it \"\n",
      "/home/pbilko/miniconda3/envs/PP/lib/python3.9/site-packages/deap/creator.py:138: RuntimeWarning: A class named 'Individual' has already been created and it will be overwritten. Consider deleting previous creation of that class or rename it.\n",
      "  warnings.warn(\"A class named '{0}' has already been created and it \"\n",
      "/home/pbilko/STUDIA/Neuronowa Adaptacja Operatorów Wariacyjnych/deep_rl_ga/ga_env.py:320: RuntimeWarning: divide by zero encountered in log\n",
      "  return -np.log(self.curr_best_fitness / self.prev_best_fitness)\n"
     ]
    },
    {
     "name": "stdout",
     "output_type": "stream",
     "text": [
      "Episode 37 \n",
      "\n",
      "\n",
      "\n",
      "Episode took 2.8863874819999182\n",
      "\n",
      "\n"
     ]
    },
    {
     "name": "stderr",
     "output_type": "stream",
     "text": [
      "/home/pbilko/miniconda3/envs/PP/lib/python3.9/site-packages/deap/creator.py:138: RuntimeWarning: A class named 'FitnessMin' has already been created and it will be overwritten. Consider deleting previous creation of that class or rename it.\n",
      "  warnings.warn(\"A class named '{0}' has already been created and it \"\n",
      "/home/pbilko/miniconda3/envs/PP/lib/python3.9/site-packages/deap/creator.py:138: RuntimeWarning: A class named 'Individual' has already been created and it will be overwritten. Consider deleting previous creation of that class or rename it.\n",
      "  warnings.warn(\"A class named '{0}' has already been created and it \"\n",
      "/home/pbilko/STUDIA/Neuronowa Adaptacja Operatorów Wariacyjnych/deep_rl_ga/ga_env.py:320: RuntimeWarning: divide by zero encountered in log\n",
      "  return -np.log(self.curr_best_fitness / self.prev_best_fitness)\n"
     ]
    },
    {
     "name": "stdout",
     "output_type": "stream",
     "text": [
      "Episode 38 \n",
      "\n",
      "\n",
      "\n",
      "Episode took 2.887601579999682\n",
      "\n",
      "\n"
     ]
    },
    {
     "name": "stderr",
     "output_type": "stream",
     "text": [
      "/home/pbilko/miniconda3/envs/PP/lib/python3.9/site-packages/deap/creator.py:138: RuntimeWarning: A class named 'FitnessMin' has already been created and it will be overwritten. Consider deleting previous creation of that class or rename it.\n",
      "  warnings.warn(\"A class named '{0}' has already been created and it \"\n",
      "/home/pbilko/miniconda3/envs/PP/lib/python3.9/site-packages/deap/creator.py:138: RuntimeWarning: A class named 'Individual' has already been created and it will be overwritten. Consider deleting previous creation of that class or rename it.\n",
      "  warnings.warn(\"A class named '{0}' has already been created and it \"\n",
      "/home/pbilko/STUDIA/Neuronowa Adaptacja Operatorów Wariacyjnych/deep_rl_ga/ga_env.py:320: RuntimeWarning: divide by zero encountered in log\n",
      "  return -np.log(self.curr_best_fitness / self.prev_best_fitness)\n"
     ]
    },
    {
     "name": "stdout",
     "output_type": "stream",
     "text": [
      "Episode 39 \n",
      "\n",
      "\n",
      "\n",
      "Episode took 2.8914639630002057\n",
      "\n",
      "\n"
     ]
    },
    {
     "name": "stderr",
     "output_type": "stream",
     "text": [
      "/home/pbilko/miniconda3/envs/PP/lib/python3.9/site-packages/deap/creator.py:138: RuntimeWarning: A class named 'FitnessMin' has already been created and it will be overwritten. Consider deleting previous creation of that class or rename it.\n",
      "  warnings.warn(\"A class named '{0}' has already been created and it \"\n",
      "/home/pbilko/miniconda3/envs/PP/lib/python3.9/site-packages/deap/creator.py:138: RuntimeWarning: A class named 'Individual' has already been created and it will be overwritten. Consider deleting previous creation of that class or rename it.\n",
      "  warnings.warn(\"A class named '{0}' has already been created and it \"\n",
      "/home/pbilko/STUDIA/Neuronowa Adaptacja Operatorów Wariacyjnych/deep_rl_ga/ga_env.py:320: RuntimeWarning: divide by zero encountered in log\n",
      "  return -np.log(self.curr_best_fitness / self.prev_best_fitness)\n"
     ]
    },
    {
     "name": "stdout",
     "output_type": "stream",
     "text": [
      "Episode 40 \n",
      "\n",
      "\n",
      "\n",
      "Episode took 2.9276512739997997\n",
      "\n",
      "\n"
     ]
    },
    {
     "name": "stderr",
     "output_type": "stream",
     "text": [
      "/home/pbilko/miniconda3/envs/PP/lib/python3.9/site-packages/deap/creator.py:138: RuntimeWarning: A class named 'FitnessMin' has already been created and it will be overwritten. Consider deleting previous creation of that class or rename it.\n",
      "  warnings.warn(\"A class named '{0}' has already been created and it \"\n",
      "/home/pbilko/miniconda3/envs/PP/lib/python3.9/site-packages/deap/creator.py:138: RuntimeWarning: A class named 'Individual' has already been created and it will be overwritten. Consider deleting previous creation of that class or rename it.\n",
      "  warnings.warn(\"A class named '{0}' has already been created and it \"\n",
      "/home/pbilko/STUDIA/Neuronowa Adaptacja Operatorów Wariacyjnych/deep_rl_ga/ga_env.py:320: RuntimeWarning: divide by zero encountered in log\n",
      "  return -np.log(self.curr_best_fitness / self.prev_best_fitness)\n"
     ]
    },
    {
     "name": "stdout",
     "output_type": "stream",
     "text": [
      "Episode 41 \n",
      "\n",
      "\n",
      "\n",
      "Episode took 2.8659547139995993\n",
      "\n",
      "\n"
     ]
    },
    {
     "name": "stderr",
     "output_type": "stream",
     "text": [
      "/home/pbilko/miniconda3/envs/PP/lib/python3.9/site-packages/deap/creator.py:138: RuntimeWarning: A class named 'FitnessMin' has already been created and it will be overwritten. Consider deleting previous creation of that class or rename it.\n",
      "  warnings.warn(\"A class named '{0}' has already been created and it \"\n",
      "/home/pbilko/miniconda3/envs/PP/lib/python3.9/site-packages/deap/creator.py:138: RuntimeWarning: A class named 'Individual' has already been created and it will be overwritten. Consider deleting previous creation of that class or rename it.\n",
      "  warnings.warn(\"A class named '{0}' has already been created and it \"\n",
      "/home/pbilko/STUDIA/Neuronowa Adaptacja Operatorów Wariacyjnych/deep_rl_ga/ga_env.py:320: RuntimeWarning: divide by zero encountered in log\n",
      "  return -np.log(self.curr_best_fitness / self.prev_best_fitness)\n"
     ]
    },
    {
     "name": "stdout",
     "output_type": "stream",
     "text": [
      "Episode 42 \n",
      "\n",
      "\n",
      "\n",
      "Episode took 2.7682781929997873\n",
      "\n",
      "\n"
     ]
    },
    {
     "name": "stderr",
     "output_type": "stream",
     "text": [
      "/home/pbilko/miniconda3/envs/PP/lib/python3.9/site-packages/deap/creator.py:138: RuntimeWarning: A class named 'FitnessMin' has already been created and it will be overwritten. Consider deleting previous creation of that class or rename it.\n",
      "  warnings.warn(\"A class named '{0}' has already been created and it \"\n",
      "/home/pbilko/miniconda3/envs/PP/lib/python3.9/site-packages/deap/creator.py:138: RuntimeWarning: A class named 'Individual' has already been created and it will be overwritten. Consider deleting previous creation of that class or rename it.\n",
      "  warnings.warn(\"A class named '{0}' has already been created and it \"\n",
      "/home/pbilko/STUDIA/Neuronowa Adaptacja Operatorów Wariacyjnych/deep_rl_ga/ga_env.py:320: RuntimeWarning: divide by zero encountered in log\n",
      "  return -np.log(self.curr_best_fitness / self.prev_best_fitness)\n"
     ]
    },
    {
     "name": "stdout",
     "output_type": "stream",
     "text": [
      "Episode 43 \n",
      "\n",
      "\n",
      "\n",
      "Episode took 2.906448856001589\n",
      "\n",
      "\n"
     ]
    },
    {
     "name": "stderr",
     "output_type": "stream",
     "text": [
      "/home/pbilko/miniconda3/envs/PP/lib/python3.9/site-packages/deap/creator.py:138: RuntimeWarning: A class named 'FitnessMin' has already been created and it will be overwritten. Consider deleting previous creation of that class or rename it.\n",
      "  warnings.warn(\"A class named '{0}' has already been created and it \"\n",
      "/home/pbilko/miniconda3/envs/PP/lib/python3.9/site-packages/deap/creator.py:138: RuntimeWarning: A class named 'Individual' has already been created and it will be overwritten. Consider deleting previous creation of that class or rename it.\n",
      "  warnings.warn(\"A class named '{0}' has already been created and it \"\n",
      "/home/pbilko/STUDIA/Neuronowa Adaptacja Operatorów Wariacyjnych/deep_rl_ga/ga_env.py:320: RuntimeWarning: divide by zero encountered in log\n",
      "  return -np.log(self.curr_best_fitness / self.prev_best_fitness)\n"
     ]
    },
    {
     "name": "stdout",
     "output_type": "stream",
     "text": [
      "Episode 44 \n",
      "\n",
      "\n",
      "\n",
      "Episode took 2.8469401499987725\n",
      "\n",
      "\n"
     ]
    },
    {
     "name": "stderr",
     "output_type": "stream",
     "text": [
      "/home/pbilko/miniconda3/envs/PP/lib/python3.9/site-packages/deap/creator.py:138: RuntimeWarning: A class named 'FitnessMin' has already been created and it will be overwritten. Consider deleting previous creation of that class or rename it.\n",
      "  warnings.warn(\"A class named '{0}' has already been created and it \"\n",
      "/home/pbilko/miniconda3/envs/PP/lib/python3.9/site-packages/deap/creator.py:138: RuntimeWarning: A class named 'Individual' has already been created and it will be overwritten. Consider deleting previous creation of that class or rename it.\n",
      "  warnings.warn(\"A class named '{0}' has already been created and it \"\n",
      "/home/pbilko/STUDIA/Neuronowa Adaptacja Operatorów Wariacyjnych/deep_rl_ga/ga_env.py:320: RuntimeWarning: divide by zero encountered in log\n",
      "  return -np.log(self.curr_best_fitness / self.prev_best_fitness)\n"
     ]
    },
    {
     "name": "stdout",
     "output_type": "stream",
     "text": [
      "Episode 45 \n",
      "\n",
      "\n",
      "\n",
      "Episode took 2.845432323998466\n",
      "\n",
      "\n"
     ]
    },
    {
     "name": "stderr",
     "output_type": "stream",
     "text": [
      "/home/pbilko/miniconda3/envs/PP/lib/python3.9/site-packages/deap/creator.py:138: RuntimeWarning: A class named 'FitnessMin' has already been created and it will be overwritten. Consider deleting previous creation of that class or rename it.\n",
      "  warnings.warn(\"A class named '{0}' has already been created and it \"\n",
      "/home/pbilko/miniconda3/envs/PP/lib/python3.9/site-packages/deap/creator.py:138: RuntimeWarning: A class named 'Individual' has already been created and it will be overwritten. Consider deleting previous creation of that class or rename it.\n",
      "  warnings.warn(\"A class named '{0}' has already been created and it \"\n",
      "/home/pbilko/STUDIA/Neuronowa Adaptacja Operatorów Wariacyjnych/deep_rl_ga/ga_env.py:320: RuntimeWarning: divide by zero encountered in log\n",
      "  return -np.log(self.curr_best_fitness / self.prev_best_fitness)\n"
     ]
    },
    {
     "name": "stdout",
     "output_type": "stream",
     "text": [
      "Episode 46 \n",
      "\n",
      "\n",
      "\n",
      "Episode took 2.8482059449997905\n",
      "\n",
      "\n"
     ]
    },
    {
     "name": "stderr",
     "output_type": "stream",
     "text": [
      "/home/pbilko/miniconda3/envs/PP/lib/python3.9/site-packages/deap/creator.py:138: RuntimeWarning: A class named 'FitnessMin' has already been created and it will be overwritten. Consider deleting previous creation of that class or rename it.\n",
      "  warnings.warn(\"A class named '{0}' has already been created and it \"\n",
      "/home/pbilko/miniconda3/envs/PP/lib/python3.9/site-packages/deap/creator.py:138: RuntimeWarning: A class named 'Individual' has already been created and it will be overwritten. Consider deleting previous creation of that class or rename it.\n",
      "  warnings.warn(\"A class named '{0}' has already been created and it \"\n",
      "/home/pbilko/STUDIA/Neuronowa Adaptacja Operatorów Wariacyjnych/deep_rl_ga/ga_env.py:320: RuntimeWarning: divide by zero encountered in log\n",
      "  return -np.log(self.curr_best_fitness / self.prev_best_fitness)\n"
     ]
    },
    {
     "name": "stdout",
     "output_type": "stream",
     "text": [
      "Episode 47 \n",
      "\n",
      "\n",
      "\n",
      "Episode took 2.952460335000069\n",
      "\n",
      "\n"
     ]
    },
    {
     "name": "stderr",
     "output_type": "stream",
     "text": [
      "/home/pbilko/miniconda3/envs/PP/lib/python3.9/site-packages/deap/creator.py:138: RuntimeWarning: A class named 'FitnessMin' has already been created and it will be overwritten. Consider deleting previous creation of that class or rename it.\n",
      "  warnings.warn(\"A class named '{0}' has already been created and it \"\n",
      "/home/pbilko/miniconda3/envs/PP/lib/python3.9/site-packages/deap/creator.py:138: RuntimeWarning: A class named 'Individual' has already been created and it will be overwritten. Consider deleting previous creation of that class or rename it.\n",
      "  warnings.warn(\"A class named '{0}' has already been created and it \"\n",
      "/home/pbilko/STUDIA/Neuronowa Adaptacja Operatorów Wariacyjnych/deep_rl_ga/ga_env.py:320: RuntimeWarning: divide by zero encountered in log\n",
      "  return -np.log(self.curr_best_fitness / self.prev_best_fitness)\n"
     ]
    },
    {
     "name": "stdout",
     "output_type": "stream",
     "text": [
      "Episode 48 \n",
      "\n",
      "\n",
      "\n",
      "Episode took 2.9984569030002604\n",
      "\n",
      "\n"
     ]
    },
    {
     "name": "stderr",
     "output_type": "stream",
     "text": [
      "/home/pbilko/miniconda3/envs/PP/lib/python3.9/site-packages/deap/creator.py:138: RuntimeWarning: A class named 'FitnessMin' has already been created and it will be overwritten. Consider deleting previous creation of that class or rename it.\n",
      "  warnings.warn(\"A class named '{0}' has already been created and it \"\n",
      "/home/pbilko/miniconda3/envs/PP/lib/python3.9/site-packages/deap/creator.py:138: RuntimeWarning: A class named 'Individual' has already been created and it will be overwritten. Consider deleting previous creation of that class or rename it.\n",
      "  warnings.warn(\"A class named '{0}' has already been created and it \"\n",
      "/home/pbilko/STUDIA/Neuronowa Adaptacja Operatorów Wariacyjnych/deep_rl_ga/ga_env.py:320: RuntimeWarning: divide by zero encountered in log\n",
      "  return -np.log(self.curr_best_fitness / self.prev_best_fitness)\n"
     ]
    },
    {
     "name": "stdout",
     "output_type": "stream",
     "text": [
      "Episode 49 \n",
      "\n",
      "\n",
      "\n",
      "Episode took 2.919525731000249\n",
      "\n",
      "\n"
     ]
    },
    {
     "name": "stderr",
     "output_type": "stream",
     "text": [
      "/home/pbilko/miniconda3/envs/PP/lib/python3.9/site-packages/deap/creator.py:138: RuntimeWarning: A class named 'FitnessMin' has already been created and it will be overwritten. Consider deleting previous creation of that class or rename it.\n",
      "  warnings.warn(\"A class named '{0}' has already been created and it \"\n",
      "/home/pbilko/miniconda3/envs/PP/lib/python3.9/site-packages/deap/creator.py:138: RuntimeWarning: A class named 'Individual' has already been created and it will be overwritten. Consider deleting previous creation of that class or rename it.\n",
      "  warnings.warn(\"A class named '{0}' has already been created and it \"\n",
      "/home/pbilko/STUDIA/Neuronowa Adaptacja Operatorów Wariacyjnych/deep_rl_ga/ga_env.py:320: RuntimeWarning: divide by zero encountered in log\n",
      "  return -np.log(self.curr_best_fitness / self.prev_best_fitness)\n"
     ]
    },
    {
     "name": "stdout",
     "output_type": "stream",
     "text": [
      "Episode 50 \n",
      "\n",
      "\n",
      "\n",
      "Episode took 2.926039549000052\n",
      "\n",
      "\n"
     ]
    },
    {
     "name": "stderr",
     "output_type": "stream",
     "text": [
      "/home/pbilko/miniconda3/envs/PP/lib/python3.9/site-packages/deap/creator.py:138: RuntimeWarning: A class named 'FitnessMin' has already been created and it will be overwritten. Consider deleting previous creation of that class or rename it.\n",
      "  warnings.warn(\"A class named '{0}' has already been created and it \"\n",
      "/home/pbilko/miniconda3/envs/PP/lib/python3.9/site-packages/deap/creator.py:138: RuntimeWarning: A class named 'Individual' has already been created and it will be overwritten. Consider deleting previous creation of that class or rename it.\n",
      "  warnings.warn(\"A class named '{0}' has already been created and it \"\n",
      "/home/pbilko/STUDIA/Neuronowa Adaptacja Operatorów Wariacyjnych/deep_rl_ga/ga_env.py:320: RuntimeWarning: divide by zero encountered in log\n",
      "  return -np.log(self.curr_best_fitness / self.prev_best_fitness)\n"
     ]
    },
    {
     "name": "stdout",
     "output_type": "stream",
     "text": [
      "Episode 51 \n",
      "\n",
      "\n",
      "\n",
      "Episode took 2.9151527100002568\n",
      "\n",
      "\n"
     ]
    },
    {
     "name": "stderr",
     "output_type": "stream",
     "text": [
      "/home/pbilko/miniconda3/envs/PP/lib/python3.9/site-packages/deap/creator.py:138: RuntimeWarning: A class named 'FitnessMin' has already been created and it will be overwritten. Consider deleting previous creation of that class or rename it.\n",
      "  warnings.warn(\"A class named '{0}' has already been created and it \"\n",
      "/home/pbilko/miniconda3/envs/PP/lib/python3.9/site-packages/deap/creator.py:138: RuntimeWarning: A class named 'Individual' has already been created and it will be overwritten. Consider deleting previous creation of that class or rename it.\n",
      "  warnings.warn(\"A class named '{0}' has already been created and it \"\n",
      "/home/pbilko/STUDIA/Neuronowa Adaptacja Operatorów Wariacyjnych/deep_rl_ga/ga_env.py:320: RuntimeWarning: divide by zero encountered in log\n",
      "  return -np.log(self.curr_best_fitness / self.prev_best_fitness)\n"
     ]
    },
    {
     "name": "stdout",
     "output_type": "stream",
     "text": [
      "Episode 52 \n",
      "\n",
      "\n",
      "\n",
      "Episode took 2.856290177000119\n",
      "\n",
      "\n"
     ]
    },
    {
     "name": "stderr",
     "output_type": "stream",
     "text": [
      "/home/pbilko/miniconda3/envs/PP/lib/python3.9/site-packages/deap/creator.py:138: RuntimeWarning: A class named 'FitnessMin' has already been created and it will be overwritten. Consider deleting previous creation of that class or rename it.\n",
      "  warnings.warn(\"A class named '{0}' has already been created and it \"\n",
      "/home/pbilko/miniconda3/envs/PP/lib/python3.9/site-packages/deap/creator.py:138: RuntimeWarning: A class named 'Individual' has already been created and it will be overwritten. Consider deleting previous creation of that class or rename it.\n",
      "  warnings.warn(\"A class named '{0}' has already been created and it \"\n",
      "/home/pbilko/STUDIA/Neuronowa Adaptacja Operatorów Wariacyjnych/deep_rl_ga/ga_env.py:320: RuntimeWarning: divide by zero encountered in log\n",
      "  return -np.log(self.curr_best_fitness / self.prev_best_fitness)\n"
     ]
    },
    {
     "name": "stdout",
     "output_type": "stream",
     "text": [
      "Episode 53 \n",
      "\n",
      "\n",
      "\n",
      "Episode took 2.7011196879993804\n",
      "\n",
      "\n"
     ]
    },
    {
     "name": "stderr",
     "output_type": "stream",
     "text": [
      "/home/pbilko/miniconda3/envs/PP/lib/python3.9/site-packages/deap/creator.py:138: RuntimeWarning: A class named 'FitnessMin' has already been created and it will be overwritten. Consider deleting previous creation of that class or rename it.\n",
      "  warnings.warn(\"A class named '{0}' has already been created and it \"\n",
      "/home/pbilko/miniconda3/envs/PP/lib/python3.9/site-packages/deap/creator.py:138: RuntimeWarning: A class named 'Individual' has already been created and it will be overwritten. Consider deleting previous creation of that class or rename it.\n",
      "  warnings.warn(\"A class named '{0}' has already been created and it \"\n",
      "/home/pbilko/STUDIA/Neuronowa Adaptacja Operatorów Wariacyjnych/deep_rl_ga/ga_env.py:320: RuntimeWarning: divide by zero encountered in log\n",
      "  return -np.log(self.curr_best_fitness / self.prev_best_fitness)\n"
     ]
    },
    {
     "name": "stdout",
     "output_type": "stream",
     "text": [
      "Episode 54 \n",
      "\n",
      "\n",
      "\n",
      "Episode took 2.9355304760010767\n",
      "\n",
      "\n"
     ]
    },
    {
     "name": "stderr",
     "output_type": "stream",
     "text": [
      "/home/pbilko/miniconda3/envs/PP/lib/python3.9/site-packages/deap/creator.py:138: RuntimeWarning: A class named 'FitnessMin' has already been created and it will be overwritten. Consider deleting previous creation of that class or rename it.\n",
      "  warnings.warn(\"A class named '{0}' has already been created and it \"\n",
      "/home/pbilko/miniconda3/envs/PP/lib/python3.9/site-packages/deap/creator.py:138: RuntimeWarning: A class named 'Individual' has already been created and it will be overwritten. Consider deleting previous creation of that class or rename it.\n",
      "  warnings.warn(\"A class named '{0}' has already been created and it \"\n",
      "/home/pbilko/STUDIA/Neuronowa Adaptacja Operatorów Wariacyjnych/deep_rl_ga/ga_env.py:320: RuntimeWarning: divide by zero encountered in log\n",
      "  return -np.log(self.curr_best_fitness / self.prev_best_fitness)\n"
     ]
    },
    {
     "name": "stdout",
     "output_type": "stream",
     "text": [
      "Episode 55 \n",
      "\n",
      "\n",
      "\n",
      "Episode took 2.908915356001671\n",
      "\n",
      "\n"
     ]
    },
    {
     "name": "stderr",
     "output_type": "stream",
     "text": [
      "/home/pbilko/miniconda3/envs/PP/lib/python3.9/site-packages/deap/creator.py:138: RuntimeWarning: A class named 'FitnessMin' has already been created and it will be overwritten. Consider deleting previous creation of that class or rename it.\n",
      "  warnings.warn(\"A class named '{0}' has already been created and it \"\n",
      "/home/pbilko/miniconda3/envs/PP/lib/python3.9/site-packages/deap/creator.py:138: RuntimeWarning: A class named 'Individual' has already been created and it will be overwritten. Consider deleting previous creation of that class or rename it.\n",
      "  warnings.warn(\"A class named '{0}' has already been created and it \"\n",
      "/home/pbilko/STUDIA/Neuronowa Adaptacja Operatorów Wariacyjnych/deep_rl_ga/ga_env.py:320: RuntimeWarning: divide by zero encountered in log\n",
      "  return -np.log(self.curr_best_fitness / self.prev_best_fitness)\n"
     ]
    },
    {
     "name": "stdout",
     "output_type": "stream",
     "text": [
      "Episode 56 \n",
      "\n",
      "\n",
      "\n",
      "Episode took 2.9636235299985856\n",
      "\n",
      "\n"
     ]
    },
    {
     "name": "stderr",
     "output_type": "stream",
     "text": [
      "/home/pbilko/miniconda3/envs/PP/lib/python3.9/site-packages/deap/creator.py:138: RuntimeWarning: A class named 'FitnessMin' has already been created and it will be overwritten. Consider deleting previous creation of that class or rename it.\n",
      "  warnings.warn(\"A class named '{0}' has already been created and it \"\n",
      "/home/pbilko/miniconda3/envs/PP/lib/python3.9/site-packages/deap/creator.py:138: RuntimeWarning: A class named 'Individual' has already been created and it will be overwritten. Consider deleting previous creation of that class or rename it.\n",
      "  warnings.warn(\"A class named '{0}' has already been created and it \"\n",
      "/home/pbilko/STUDIA/Neuronowa Adaptacja Operatorów Wariacyjnych/deep_rl_ga/ga_env.py:320: RuntimeWarning: divide by zero encountered in log\n",
      "  return -np.log(self.curr_best_fitness / self.prev_best_fitness)\n"
     ]
    },
    {
     "name": "stdout",
     "output_type": "stream",
     "text": [
      "Episode 57 \n",
      "\n",
      "\n",
      "\n",
      "Episode took 2.829169753000315\n",
      "\n",
      "\n"
     ]
    },
    {
     "name": "stderr",
     "output_type": "stream",
     "text": [
      "/home/pbilko/miniconda3/envs/PP/lib/python3.9/site-packages/deap/creator.py:138: RuntimeWarning: A class named 'FitnessMin' has already been created and it will be overwritten. Consider deleting previous creation of that class or rename it.\n",
      "  warnings.warn(\"A class named '{0}' has already been created and it \"\n",
      "/home/pbilko/miniconda3/envs/PP/lib/python3.9/site-packages/deap/creator.py:138: RuntimeWarning: A class named 'Individual' has already been created and it will be overwritten. Consider deleting previous creation of that class or rename it.\n",
      "  warnings.warn(\"A class named '{0}' has already been created and it \"\n",
      "/home/pbilko/STUDIA/Neuronowa Adaptacja Operatorów Wariacyjnych/deep_rl_ga/ga_env.py:320: RuntimeWarning: divide by zero encountered in log\n",
      "  return -np.log(self.curr_best_fitness / self.prev_best_fitness)\n"
     ]
    },
    {
     "name": "stdout",
     "output_type": "stream",
     "text": [
      "Episode 58 \n",
      "\n",
      "\n",
      "\n",
      "Episode took 2.9350502000015695\n",
      "\n",
      "\n"
     ]
    },
    {
     "name": "stderr",
     "output_type": "stream",
     "text": [
      "/home/pbilko/miniconda3/envs/PP/lib/python3.9/site-packages/deap/creator.py:138: RuntimeWarning: A class named 'FitnessMin' has already been created and it will be overwritten. Consider deleting previous creation of that class or rename it.\n",
      "  warnings.warn(\"A class named '{0}' has already been created and it \"\n",
      "/home/pbilko/miniconda3/envs/PP/lib/python3.9/site-packages/deap/creator.py:138: RuntimeWarning: A class named 'Individual' has already been created and it will be overwritten. Consider deleting previous creation of that class or rename it.\n",
      "  warnings.warn(\"A class named '{0}' has already been created and it \"\n",
      "/home/pbilko/STUDIA/Neuronowa Adaptacja Operatorów Wariacyjnych/deep_rl_ga/ga_env.py:320: RuntimeWarning: divide by zero encountered in log\n",
      "  return -np.log(self.curr_best_fitness / self.prev_best_fitness)\n"
     ]
    },
    {
     "name": "stdout",
     "output_type": "stream",
     "text": [
      "Episode 59 \n",
      "\n",
      "\n",
      "\n",
      "Episode took 2.9114825439992273\n",
      "\n",
      "\n"
     ]
    },
    {
     "name": "stderr",
     "output_type": "stream",
     "text": [
      "/home/pbilko/miniconda3/envs/PP/lib/python3.9/site-packages/deap/creator.py:138: RuntimeWarning: A class named 'FitnessMin' has already been created and it will be overwritten. Consider deleting previous creation of that class or rename it.\n",
      "  warnings.warn(\"A class named '{0}' has already been created and it \"\n",
      "/home/pbilko/miniconda3/envs/PP/lib/python3.9/site-packages/deap/creator.py:138: RuntimeWarning: A class named 'Individual' has already been created and it will be overwritten. Consider deleting previous creation of that class or rename it.\n",
      "  warnings.warn(\"A class named '{0}' has already been created and it \"\n",
      "/home/pbilko/STUDIA/Neuronowa Adaptacja Operatorów Wariacyjnych/deep_rl_ga/ga_env.py:320: RuntimeWarning: divide by zero encountered in log\n",
      "  return -np.log(self.curr_best_fitness / self.prev_best_fitness)\n"
     ]
    },
    {
     "name": "stdout",
     "output_type": "stream",
     "text": [
      "Episode 60 \n",
      "\n",
      "\n",
      "\n",
      "Episode took 2.8510771419987577\n",
      "\n",
      "\n"
     ]
    },
    {
     "name": "stderr",
     "output_type": "stream",
     "text": [
      "/home/pbilko/miniconda3/envs/PP/lib/python3.9/site-packages/deap/creator.py:138: RuntimeWarning: A class named 'FitnessMin' has already been created and it will be overwritten. Consider deleting previous creation of that class or rename it.\n",
      "  warnings.warn(\"A class named '{0}' has already been created and it \"\n",
      "/home/pbilko/miniconda3/envs/PP/lib/python3.9/site-packages/deap/creator.py:138: RuntimeWarning: A class named 'Individual' has already been created and it will be overwritten. Consider deleting previous creation of that class or rename it.\n",
      "  warnings.warn(\"A class named '{0}' has already been created and it \"\n",
      "/home/pbilko/STUDIA/Neuronowa Adaptacja Operatorów Wariacyjnych/deep_rl_ga/ga_env.py:320: RuntimeWarning: divide by zero encountered in log\n",
      "  return -np.log(self.curr_best_fitness / self.prev_best_fitness)\n"
     ]
    },
    {
     "name": "stdout",
     "output_type": "stream",
     "text": [
      "Episode 61 \n",
      "\n",
      "\n",
      "\n",
      "Episode took 2.8147340399991663\n",
      "\n",
      "\n"
     ]
    },
    {
     "name": "stderr",
     "output_type": "stream",
     "text": [
      "/home/pbilko/miniconda3/envs/PP/lib/python3.9/site-packages/deap/creator.py:138: RuntimeWarning: A class named 'FitnessMin' has already been created and it will be overwritten. Consider deleting previous creation of that class or rename it.\n",
      "  warnings.warn(\"A class named '{0}' has already been created and it \"\n",
      "/home/pbilko/miniconda3/envs/PP/lib/python3.9/site-packages/deap/creator.py:138: RuntimeWarning: A class named 'Individual' has already been created and it will be overwritten. Consider deleting previous creation of that class or rename it.\n",
      "  warnings.warn(\"A class named '{0}' has already been created and it \"\n",
      "/home/pbilko/STUDIA/Neuronowa Adaptacja Operatorów Wariacyjnych/deep_rl_ga/ga_env.py:320: RuntimeWarning: divide by zero encountered in log\n",
      "  return -np.log(self.curr_best_fitness / self.prev_best_fitness)\n"
     ]
    },
    {
     "name": "stdout",
     "output_type": "stream",
     "text": [
      "Episode 62 \n",
      "\n",
      "\n",
      "\n",
      "Episode took 2.8435253190000367\n",
      "\n",
      "\n"
     ]
    },
    {
     "name": "stderr",
     "output_type": "stream",
     "text": [
      "/home/pbilko/miniconda3/envs/PP/lib/python3.9/site-packages/deap/creator.py:138: RuntimeWarning: A class named 'FitnessMin' has already been created and it will be overwritten. Consider deleting previous creation of that class or rename it.\n",
      "  warnings.warn(\"A class named '{0}' has already been created and it \"\n",
      "/home/pbilko/miniconda3/envs/PP/lib/python3.9/site-packages/deap/creator.py:138: RuntimeWarning: A class named 'Individual' has already been created and it will be overwritten. Consider deleting previous creation of that class or rename it.\n",
      "  warnings.warn(\"A class named '{0}' has already been created and it \"\n",
      "/home/pbilko/STUDIA/Neuronowa Adaptacja Operatorów Wariacyjnych/deep_rl_ga/ga_env.py:320: RuntimeWarning: divide by zero encountered in log\n",
      "  return -np.log(self.curr_best_fitness / self.prev_best_fitness)\n"
     ]
    },
    {
     "name": "stdout",
     "output_type": "stream",
     "text": [
      "Episode 63 \n",
      "\n",
      "\n",
      "\n",
      "Episode took 2.7817179470002884\n",
      "\n",
      "\n"
     ]
    },
    {
     "name": "stderr",
     "output_type": "stream",
     "text": [
      "/home/pbilko/miniconda3/envs/PP/lib/python3.9/site-packages/deap/creator.py:138: RuntimeWarning: A class named 'FitnessMin' has already been created and it will be overwritten. Consider deleting previous creation of that class or rename it.\n",
      "  warnings.warn(\"A class named '{0}' has already been created and it \"\n",
      "/home/pbilko/miniconda3/envs/PP/lib/python3.9/site-packages/deap/creator.py:138: RuntimeWarning: A class named 'Individual' has already been created and it will be overwritten. Consider deleting previous creation of that class or rename it.\n",
      "  warnings.warn(\"A class named '{0}' has already been created and it \"\n",
      "/home/pbilko/STUDIA/Neuronowa Adaptacja Operatorów Wariacyjnych/deep_rl_ga/ga_env.py:320: RuntimeWarning: divide by zero encountered in log\n",
      "  return -np.log(self.curr_best_fitness / self.prev_best_fitness)\n"
     ]
    },
    {
     "name": "stdout",
     "output_type": "stream",
     "text": [
      "Episode 64 \n",
      "\n",
      "\n",
      "\n",
      "Episode took 2.7792608959989593\n",
      "\n",
      "\n"
     ]
    },
    {
     "name": "stderr",
     "output_type": "stream",
     "text": [
      "/home/pbilko/miniconda3/envs/PP/lib/python3.9/site-packages/deap/creator.py:138: RuntimeWarning: A class named 'FitnessMin' has already been created and it will be overwritten. Consider deleting previous creation of that class or rename it.\n",
      "  warnings.warn(\"A class named '{0}' has already been created and it \"\n",
      "/home/pbilko/miniconda3/envs/PP/lib/python3.9/site-packages/deap/creator.py:138: RuntimeWarning: A class named 'Individual' has already been created and it will be overwritten. Consider deleting previous creation of that class or rename it.\n",
      "  warnings.warn(\"A class named '{0}' has already been created and it \"\n",
      "/home/pbilko/STUDIA/Neuronowa Adaptacja Operatorów Wariacyjnych/deep_rl_ga/ga_env.py:320: RuntimeWarning: divide by zero encountered in log\n",
      "  return -np.log(self.curr_best_fitness / self.prev_best_fitness)\n"
     ]
    },
    {
     "name": "stdout",
     "output_type": "stream",
     "text": [
      "Episode 65 \n",
      "\n",
      "\n",
      "\n",
      "Episode took 2.6606727100006538\n",
      "\n",
      "\n"
     ]
    },
    {
     "name": "stderr",
     "output_type": "stream",
     "text": [
      "/home/pbilko/miniconda3/envs/PP/lib/python3.9/site-packages/deap/creator.py:138: RuntimeWarning: A class named 'FitnessMin' has already been created and it will be overwritten. Consider deleting previous creation of that class or rename it.\n",
      "  warnings.warn(\"A class named '{0}' has already been created and it \"\n",
      "/home/pbilko/miniconda3/envs/PP/lib/python3.9/site-packages/deap/creator.py:138: RuntimeWarning: A class named 'Individual' has already been created and it will be overwritten. Consider deleting previous creation of that class or rename it.\n",
      "  warnings.warn(\"A class named '{0}' has already been created and it \"\n",
      "/home/pbilko/STUDIA/Neuronowa Adaptacja Operatorów Wariacyjnych/deep_rl_ga/ga_env.py:320: RuntimeWarning: divide by zero encountered in log\n",
      "  return -np.log(self.curr_best_fitness / self.prev_best_fitness)\n"
     ]
    },
    {
     "name": "stdout",
     "output_type": "stream",
     "text": [
      "Episode 66 \n",
      "\n",
      "\n",
      "\n",
      "Episode took 2.8506005340004776\n",
      "\n",
      "\n"
     ]
    },
    {
     "name": "stderr",
     "output_type": "stream",
     "text": [
      "/home/pbilko/miniconda3/envs/PP/lib/python3.9/site-packages/deap/creator.py:138: RuntimeWarning: A class named 'FitnessMin' has already been created and it will be overwritten. Consider deleting previous creation of that class or rename it.\n",
      "  warnings.warn(\"A class named '{0}' has already been created and it \"\n",
      "/home/pbilko/miniconda3/envs/PP/lib/python3.9/site-packages/deap/creator.py:138: RuntimeWarning: A class named 'Individual' has already been created and it will be overwritten. Consider deleting previous creation of that class or rename it.\n",
      "  warnings.warn(\"A class named '{0}' has already been created and it \"\n",
      "/home/pbilko/STUDIA/Neuronowa Adaptacja Operatorów Wariacyjnych/deep_rl_ga/ga_env.py:320: RuntimeWarning: divide by zero encountered in log\n",
      "  return -np.log(self.curr_best_fitness / self.prev_best_fitness)\n"
     ]
    },
    {
     "name": "stdout",
     "output_type": "stream",
     "text": [
      "Episode 67 \n",
      "\n",
      "\n",
      "\n",
      "Episode took 2.91824665599961\n",
      "\n",
      "\n"
     ]
    },
    {
     "name": "stderr",
     "output_type": "stream",
     "text": [
      "/home/pbilko/miniconda3/envs/PP/lib/python3.9/site-packages/deap/creator.py:138: RuntimeWarning: A class named 'FitnessMin' has already been created and it will be overwritten. Consider deleting previous creation of that class or rename it.\n",
      "  warnings.warn(\"A class named '{0}' has already been created and it \"\n",
      "/home/pbilko/miniconda3/envs/PP/lib/python3.9/site-packages/deap/creator.py:138: RuntimeWarning: A class named 'Individual' has already been created and it will be overwritten. Consider deleting previous creation of that class or rename it.\n",
      "  warnings.warn(\"A class named '{0}' has already been created and it \"\n",
      "/home/pbilko/STUDIA/Neuronowa Adaptacja Operatorów Wariacyjnych/deep_rl_ga/ga_env.py:320: RuntimeWarning: divide by zero encountered in log\n",
      "  return -np.log(self.curr_best_fitness / self.prev_best_fitness)\n"
     ]
    },
    {
     "name": "stdout",
     "output_type": "stream",
     "text": [
      "Episode 68 \n",
      "\n",
      "\n",
      "\n",
      "Episode took 2.843569282000317\n",
      "\n",
      "\n"
     ]
    },
    {
     "name": "stderr",
     "output_type": "stream",
     "text": [
      "/home/pbilko/miniconda3/envs/PP/lib/python3.9/site-packages/deap/creator.py:138: RuntimeWarning: A class named 'FitnessMin' has already been created and it will be overwritten. Consider deleting previous creation of that class or rename it.\n",
      "  warnings.warn(\"A class named '{0}' has already been created and it \"\n",
      "/home/pbilko/miniconda3/envs/PP/lib/python3.9/site-packages/deap/creator.py:138: RuntimeWarning: A class named 'Individual' has already been created and it will be overwritten. Consider deleting previous creation of that class or rename it.\n",
      "  warnings.warn(\"A class named '{0}' has already been created and it \"\n",
      "/home/pbilko/STUDIA/Neuronowa Adaptacja Operatorów Wariacyjnych/deep_rl_ga/ga_env.py:320: RuntimeWarning: divide by zero encountered in log\n",
      "  return -np.log(self.curr_best_fitness / self.prev_best_fitness)\n"
     ]
    },
    {
     "name": "stdout",
     "output_type": "stream",
     "text": [
      "Episode 69 \n",
      "\n",
      "\n",
      "\n",
      "Episode took 2.7043908199993894\n",
      "\n",
      "\n"
     ]
    },
    {
     "name": "stderr",
     "output_type": "stream",
     "text": [
      "/home/pbilko/miniconda3/envs/PP/lib/python3.9/site-packages/deap/creator.py:138: RuntimeWarning: A class named 'FitnessMin' has already been created and it will be overwritten. Consider deleting previous creation of that class or rename it.\n",
      "  warnings.warn(\"A class named '{0}' has already been created and it \"\n",
      "/home/pbilko/miniconda3/envs/PP/lib/python3.9/site-packages/deap/creator.py:138: RuntimeWarning: A class named 'Individual' has already been created and it will be overwritten. Consider deleting previous creation of that class or rename it.\n",
      "  warnings.warn(\"A class named '{0}' has already been created and it \"\n",
      "/home/pbilko/STUDIA/Neuronowa Adaptacja Operatorów Wariacyjnych/deep_rl_ga/ga_env.py:320: RuntimeWarning: divide by zero encountered in log\n",
      "  return -np.log(self.curr_best_fitness / self.prev_best_fitness)\n"
     ]
    },
    {
     "name": "stdout",
     "output_type": "stream",
     "text": [
      "Episode 70 \n",
      "\n",
      "\n",
      "\n",
      "Episode took 3.046308979000969\n",
      "\n",
      "\n"
     ]
    },
    {
     "name": "stderr",
     "output_type": "stream",
     "text": [
      "/home/pbilko/miniconda3/envs/PP/lib/python3.9/site-packages/deap/creator.py:138: RuntimeWarning: A class named 'FitnessMin' has already been created and it will be overwritten. Consider deleting previous creation of that class or rename it.\n",
      "  warnings.warn(\"A class named '{0}' has already been created and it \"\n",
      "/home/pbilko/miniconda3/envs/PP/lib/python3.9/site-packages/deap/creator.py:138: RuntimeWarning: A class named 'Individual' has already been created and it will be overwritten. Consider deleting previous creation of that class or rename it.\n",
      "  warnings.warn(\"A class named '{0}' has already been created and it \"\n",
      "/home/pbilko/STUDIA/Neuronowa Adaptacja Operatorów Wariacyjnych/deep_rl_ga/ga_env.py:320: RuntimeWarning: divide by zero encountered in log\n",
      "  return -np.log(self.curr_best_fitness / self.prev_best_fitness)\n"
     ]
    },
    {
     "name": "stdout",
     "output_type": "stream",
     "text": [
      "Episode 71 \n",
      "\n",
      "\n",
      "\n",
      "Episode took 3.070385555998655\n",
      "\n",
      "\n"
     ]
    },
    {
     "name": "stderr",
     "output_type": "stream",
     "text": [
      "/home/pbilko/miniconda3/envs/PP/lib/python3.9/site-packages/deap/creator.py:138: RuntimeWarning: A class named 'FitnessMin' has already been created and it will be overwritten. Consider deleting previous creation of that class or rename it.\n",
      "  warnings.warn(\"A class named '{0}' has already been created and it \"\n",
      "/home/pbilko/miniconda3/envs/PP/lib/python3.9/site-packages/deap/creator.py:138: RuntimeWarning: A class named 'Individual' has already been created and it will be overwritten. Consider deleting previous creation of that class or rename it.\n",
      "  warnings.warn(\"A class named '{0}' has already been created and it \"\n",
      "/home/pbilko/STUDIA/Neuronowa Adaptacja Operatorów Wariacyjnych/deep_rl_ga/ga_env.py:320: RuntimeWarning: divide by zero encountered in log\n",
      "  return -np.log(self.curr_best_fitness / self.prev_best_fitness)\n"
     ]
    },
    {
     "name": "stdout",
     "output_type": "stream",
     "text": [
      "Episode 72 \n",
      "\n",
      "\n",
      "\n",
      "Episode took 3.0639012310002727\n",
      "\n",
      "\n"
     ]
    },
    {
     "name": "stderr",
     "output_type": "stream",
     "text": [
      "/home/pbilko/miniconda3/envs/PP/lib/python3.9/site-packages/deap/creator.py:138: RuntimeWarning: A class named 'FitnessMin' has already been created and it will be overwritten. Consider deleting previous creation of that class or rename it.\n",
      "  warnings.warn(\"A class named '{0}' has already been created and it \"\n",
      "/home/pbilko/miniconda3/envs/PP/lib/python3.9/site-packages/deap/creator.py:138: RuntimeWarning: A class named 'Individual' has already been created and it will be overwritten. Consider deleting previous creation of that class or rename it.\n",
      "  warnings.warn(\"A class named '{0}' has already been created and it \"\n",
      "/home/pbilko/STUDIA/Neuronowa Adaptacja Operatorów Wariacyjnych/deep_rl_ga/ga_env.py:320: RuntimeWarning: divide by zero encountered in log\n",
      "  return -np.log(self.curr_best_fitness / self.prev_best_fitness)\n"
     ]
    },
    {
     "name": "stdout",
     "output_type": "stream",
     "text": [
      "Episode 73 \n",
      "\n",
      "\n",
      "\n",
      "Episode took 2.906300126000133\n",
      "\n",
      "\n"
     ]
    },
    {
     "name": "stderr",
     "output_type": "stream",
     "text": [
      "/home/pbilko/miniconda3/envs/PP/lib/python3.9/site-packages/deap/creator.py:138: RuntimeWarning: A class named 'FitnessMin' has already been created and it will be overwritten. Consider deleting previous creation of that class or rename it.\n",
      "  warnings.warn(\"A class named '{0}' has already been created and it \"\n",
      "/home/pbilko/miniconda3/envs/PP/lib/python3.9/site-packages/deap/creator.py:138: RuntimeWarning: A class named 'Individual' has already been created and it will be overwritten. Consider deleting previous creation of that class or rename it.\n",
      "  warnings.warn(\"A class named '{0}' has already been created and it \"\n",
      "/home/pbilko/STUDIA/Neuronowa Adaptacja Operatorów Wariacyjnych/deep_rl_ga/ga_env.py:320: RuntimeWarning: divide by zero encountered in log\n",
      "  return -np.log(self.curr_best_fitness / self.prev_best_fitness)\n"
     ]
    },
    {
     "name": "stdout",
     "output_type": "stream",
     "text": [
      "Episode 74 \n",
      "\n",
      "\n",
      "\n",
      "Episode took 2.879153313000643\n",
      "\n",
      "\n"
     ]
    },
    {
     "name": "stderr",
     "output_type": "stream",
     "text": [
      "/home/pbilko/miniconda3/envs/PP/lib/python3.9/site-packages/deap/creator.py:138: RuntimeWarning: A class named 'FitnessMin' has already been created and it will be overwritten. Consider deleting previous creation of that class or rename it.\n",
      "  warnings.warn(\"A class named '{0}' has already been created and it \"\n",
      "/home/pbilko/miniconda3/envs/PP/lib/python3.9/site-packages/deap/creator.py:138: RuntimeWarning: A class named 'Individual' has already been created and it will be overwritten. Consider deleting previous creation of that class or rename it.\n",
      "  warnings.warn(\"A class named '{0}' has already been created and it \"\n",
      "/home/pbilko/STUDIA/Neuronowa Adaptacja Operatorów Wariacyjnych/deep_rl_ga/ga_env.py:320: RuntimeWarning: divide by zero encountered in log\n",
      "  return -np.log(self.curr_best_fitness / self.prev_best_fitness)\n"
     ]
    },
    {
     "name": "stdout",
     "output_type": "stream",
     "text": [
      "Episode 75 \n",
      "\n",
      "\n",
      "\n",
      "Episode took 2.9154104059998645\n",
      "\n",
      "\n"
     ]
    },
    {
     "name": "stderr",
     "output_type": "stream",
     "text": [
      "/home/pbilko/miniconda3/envs/PP/lib/python3.9/site-packages/deap/creator.py:138: RuntimeWarning: A class named 'FitnessMin' has already been created and it will be overwritten. Consider deleting previous creation of that class or rename it.\n",
      "  warnings.warn(\"A class named '{0}' has already been created and it \"\n",
      "/home/pbilko/miniconda3/envs/PP/lib/python3.9/site-packages/deap/creator.py:138: RuntimeWarning: A class named 'Individual' has already been created and it will be overwritten. Consider deleting previous creation of that class or rename it.\n",
      "  warnings.warn(\"A class named '{0}' has already been created and it \"\n",
      "/home/pbilko/STUDIA/Neuronowa Adaptacja Operatorów Wariacyjnych/deep_rl_ga/ga_env.py:320: RuntimeWarning: divide by zero encountered in log\n",
      "  return -np.log(self.curr_best_fitness / self.prev_best_fitness)\n"
     ]
    },
    {
     "name": "stdout",
     "output_type": "stream",
     "text": [
      "Episode 76 \n",
      "\n",
      "\n",
      "\n",
      "Episode took 2.9180978149997827\n",
      "\n",
      "\n"
     ]
    },
    {
     "name": "stderr",
     "output_type": "stream",
     "text": [
      "/home/pbilko/miniconda3/envs/PP/lib/python3.9/site-packages/deap/creator.py:138: RuntimeWarning: A class named 'FitnessMin' has already been created and it will be overwritten. Consider deleting previous creation of that class or rename it.\n",
      "  warnings.warn(\"A class named '{0}' has already been created and it \"\n",
      "/home/pbilko/miniconda3/envs/PP/lib/python3.9/site-packages/deap/creator.py:138: RuntimeWarning: A class named 'Individual' has already been created and it will be overwritten. Consider deleting previous creation of that class or rename it.\n",
      "  warnings.warn(\"A class named '{0}' has already been created and it \"\n",
      "/home/pbilko/STUDIA/Neuronowa Adaptacja Operatorów Wariacyjnych/deep_rl_ga/ga_env.py:320: RuntimeWarning: divide by zero encountered in log\n",
      "  return -np.log(self.curr_best_fitness / self.prev_best_fitness)\n"
     ]
    },
    {
     "name": "stdout",
     "output_type": "stream",
     "text": [
      "Episode 77 \n",
      "\n",
      "\n",
      "\n",
      "Episode took 3.085771891001059\n",
      "\n",
      "\n"
     ]
    },
    {
     "name": "stderr",
     "output_type": "stream",
     "text": [
      "/home/pbilko/miniconda3/envs/PP/lib/python3.9/site-packages/deap/creator.py:138: RuntimeWarning: A class named 'FitnessMin' has already been created and it will be overwritten. Consider deleting previous creation of that class or rename it.\n",
      "  warnings.warn(\"A class named '{0}' has already been created and it \"\n",
      "/home/pbilko/miniconda3/envs/PP/lib/python3.9/site-packages/deap/creator.py:138: RuntimeWarning: A class named 'Individual' has already been created and it will be overwritten. Consider deleting previous creation of that class or rename it.\n",
      "  warnings.warn(\"A class named '{0}' has already been created and it \"\n",
      "/home/pbilko/STUDIA/Neuronowa Adaptacja Operatorów Wariacyjnych/deep_rl_ga/ga_env.py:320: RuntimeWarning: divide by zero encountered in log\n",
      "  return -np.log(self.curr_best_fitness / self.prev_best_fitness)\n"
     ]
    },
    {
     "name": "stdout",
     "output_type": "stream",
     "text": [
      "Episode 78 \n",
      "\n",
      "\n",
      "\n",
      "Episode took 3.1314731519996712\n",
      "\n",
      "\n"
     ]
    },
    {
     "name": "stderr",
     "output_type": "stream",
     "text": [
      "/home/pbilko/miniconda3/envs/PP/lib/python3.9/site-packages/deap/creator.py:138: RuntimeWarning: A class named 'FitnessMin' has already been created and it will be overwritten. Consider deleting previous creation of that class or rename it.\n",
      "  warnings.warn(\"A class named '{0}' has already been created and it \"\n",
      "/home/pbilko/miniconda3/envs/PP/lib/python3.9/site-packages/deap/creator.py:138: RuntimeWarning: A class named 'Individual' has already been created and it will be overwritten. Consider deleting previous creation of that class or rename it.\n",
      "  warnings.warn(\"A class named '{0}' has already been created and it \"\n",
      "/home/pbilko/STUDIA/Neuronowa Adaptacja Operatorów Wariacyjnych/deep_rl_ga/ga_env.py:320: RuntimeWarning: divide by zero encountered in log\n",
      "  return -np.log(self.curr_best_fitness / self.prev_best_fitness)\n"
     ]
    },
    {
     "name": "stdout",
     "output_type": "stream",
     "text": [
      "Episode 79 \n",
      "\n",
      "\n",
      "\n",
      "Episode took 3.3050341369998932\n",
      "\n",
      "\n"
     ]
    },
    {
     "name": "stderr",
     "output_type": "stream",
     "text": [
      "/home/pbilko/miniconda3/envs/PP/lib/python3.9/site-packages/deap/creator.py:138: RuntimeWarning: A class named 'FitnessMin' has already been created and it will be overwritten. Consider deleting previous creation of that class or rename it.\n",
      "  warnings.warn(\"A class named '{0}' has already been created and it \"\n",
      "/home/pbilko/miniconda3/envs/PP/lib/python3.9/site-packages/deap/creator.py:138: RuntimeWarning: A class named 'Individual' has already been created and it will be overwritten. Consider deleting previous creation of that class or rename it.\n",
      "  warnings.warn(\"A class named '{0}' has already been created and it \"\n",
      "/home/pbilko/STUDIA/Neuronowa Adaptacja Operatorów Wariacyjnych/deep_rl_ga/ga_env.py:320: RuntimeWarning: divide by zero encountered in log\n",
      "  return -np.log(self.curr_best_fitness / self.prev_best_fitness)\n"
     ]
    },
    {
     "name": "stdout",
     "output_type": "stream",
     "text": [
      "Episode 80 \n",
      "\n",
      "\n",
      "\n",
      "Episode took 3.107587661999787\n",
      "\n",
      "\n"
     ]
    },
    {
     "name": "stderr",
     "output_type": "stream",
     "text": [
      "/home/pbilko/miniconda3/envs/PP/lib/python3.9/site-packages/deap/creator.py:138: RuntimeWarning: A class named 'FitnessMin' has already been created and it will be overwritten. Consider deleting previous creation of that class or rename it.\n",
      "  warnings.warn(\"A class named '{0}' has already been created and it \"\n",
      "/home/pbilko/miniconda3/envs/PP/lib/python3.9/site-packages/deap/creator.py:138: RuntimeWarning: A class named 'Individual' has already been created and it will be overwritten. Consider deleting previous creation of that class or rename it.\n",
      "  warnings.warn(\"A class named '{0}' has already been created and it \"\n",
      "/home/pbilko/STUDIA/Neuronowa Adaptacja Operatorów Wariacyjnych/deep_rl_ga/ga_env.py:320: RuntimeWarning: divide by zero encountered in log\n",
      "  return -np.log(self.curr_best_fitness / self.prev_best_fitness)\n"
     ]
    },
    {
     "name": "stdout",
     "output_type": "stream",
     "text": [
      "Episode 81 \n",
      "\n",
      "\n",
      "\n",
      "Episode took 3.4043782919998193\n",
      "\n",
      "\n"
     ]
    },
    {
     "name": "stderr",
     "output_type": "stream",
     "text": [
      "/home/pbilko/miniconda3/envs/PP/lib/python3.9/site-packages/deap/creator.py:138: RuntimeWarning: A class named 'FitnessMin' has already been created and it will be overwritten. Consider deleting previous creation of that class or rename it.\n",
      "  warnings.warn(\"A class named '{0}' has already been created and it \"\n",
      "/home/pbilko/miniconda3/envs/PP/lib/python3.9/site-packages/deap/creator.py:138: RuntimeWarning: A class named 'Individual' has already been created and it will be overwritten. Consider deleting previous creation of that class or rename it.\n",
      "  warnings.warn(\"A class named '{0}' has already been created and it \"\n",
      "/home/pbilko/STUDIA/Neuronowa Adaptacja Operatorów Wariacyjnych/deep_rl_ga/ga_env.py:320: RuntimeWarning: divide by zero encountered in log\n",
      "  return -np.log(self.curr_best_fitness / self.prev_best_fitness)\n"
     ]
    },
    {
     "name": "stdout",
     "output_type": "stream",
     "text": [
      "Episode 82 \n",
      "\n",
      "\n",
      "\n",
      "Episode took 3.181839492999643\n",
      "\n",
      "\n"
     ]
    },
    {
     "name": "stderr",
     "output_type": "stream",
     "text": [
      "/home/pbilko/miniconda3/envs/PP/lib/python3.9/site-packages/deap/creator.py:138: RuntimeWarning: A class named 'FitnessMin' has already been created and it will be overwritten. Consider deleting previous creation of that class or rename it.\n",
      "  warnings.warn(\"A class named '{0}' has already been created and it \"\n",
      "/home/pbilko/miniconda3/envs/PP/lib/python3.9/site-packages/deap/creator.py:138: RuntimeWarning: A class named 'Individual' has already been created and it will be overwritten. Consider deleting previous creation of that class or rename it.\n",
      "  warnings.warn(\"A class named '{0}' has already been created and it \"\n",
      "/home/pbilko/STUDIA/Neuronowa Adaptacja Operatorów Wariacyjnych/deep_rl_ga/ga_env.py:320: RuntimeWarning: divide by zero encountered in log\n",
      "  return -np.log(self.curr_best_fitness / self.prev_best_fitness)\n"
     ]
    },
    {
     "name": "stdout",
     "output_type": "stream",
     "text": [
      "Episode 83 \n",
      "\n",
      "\n",
      "\n",
      "Episode took 3.0421871449998434\n",
      "\n",
      "\n"
     ]
    },
    {
     "name": "stderr",
     "output_type": "stream",
     "text": [
      "/home/pbilko/miniconda3/envs/PP/lib/python3.9/site-packages/deap/creator.py:138: RuntimeWarning: A class named 'FitnessMin' has already been created and it will be overwritten. Consider deleting previous creation of that class or rename it.\n",
      "  warnings.warn(\"A class named '{0}' has already been created and it \"\n",
      "/home/pbilko/miniconda3/envs/PP/lib/python3.9/site-packages/deap/creator.py:138: RuntimeWarning: A class named 'Individual' has already been created and it will be overwritten. Consider deleting previous creation of that class or rename it.\n",
      "  warnings.warn(\"A class named '{0}' has already been created and it \"\n",
      "/home/pbilko/STUDIA/Neuronowa Adaptacja Operatorów Wariacyjnych/deep_rl_ga/ga_env.py:320: RuntimeWarning: divide by zero encountered in log\n",
      "  return -np.log(self.curr_best_fitness / self.prev_best_fitness)\n"
     ]
    },
    {
     "name": "stdout",
     "output_type": "stream",
     "text": [
      "Episode 84 \n",
      "\n",
      "\n",
      "\n",
      "Episode took 2.965197060000719\n",
      "\n",
      "\n"
     ]
    },
    {
     "name": "stderr",
     "output_type": "stream",
     "text": [
      "/home/pbilko/miniconda3/envs/PP/lib/python3.9/site-packages/deap/creator.py:138: RuntimeWarning: A class named 'FitnessMin' has already been created and it will be overwritten. Consider deleting previous creation of that class or rename it.\n",
      "  warnings.warn(\"A class named '{0}' has already been created and it \"\n",
      "/home/pbilko/miniconda3/envs/PP/lib/python3.9/site-packages/deap/creator.py:138: RuntimeWarning: A class named 'Individual' has already been created and it will be overwritten. Consider deleting previous creation of that class or rename it.\n",
      "  warnings.warn(\"A class named '{0}' has already been created and it \"\n",
      "/home/pbilko/STUDIA/Neuronowa Adaptacja Operatorów Wariacyjnych/deep_rl_ga/ga_env.py:320: RuntimeWarning: divide by zero encountered in log\n",
      "  return -np.log(self.curr_best_fitness / self.prev_best_fitness)\n"
     ]
    },
    {
     "name": "stdout",
     "output_type": "stream",
     "text": [
      "Episode 85 \n",
      "\n",
      "\n",
      "\n",
      "Episode took 2.9869005759992433\n",
      "\n",
      "\n"
     ]
    },
    {
     "name": "stderr",
     "output_type": "stream",
     "text": [
      "/home/pbilko/miniconda3/envs/PP/lib/python3.9/site-packages/deap/creator.py:138: RuntimeWarning: A class named 'FitnessMin' has already been created and it will be overwritten. Consider deleting previous creation of that class or rename it.\n",
      "  warnings.warn(\"A class named '{0}' has already been created and it \"\n",
      "/home/pbilko/miniconda3/envs/PP/lib/python3.9/site-packages/deap/creator.py:138: RuntimeWarning: A class named 'Individual' has already been created and it will be overwritten. Consider deleting previous creation of that class or rename it.\n",
      "  warnings.warn(\"A class named '{0}' has already been created and it \"\n",
      "/home/pbilko/STUDIA/Neuronowa Adaptacja Operatorów Wariacyjnych/deep_rl_ga/ga_env.py:320: RuntimeWarning: divide by zero encountered in log\n",
      "  return -np.log(self.curr_best_fitness / self.prev_best_fitness)\n"
     ]
    },
    {
     "name": "stdout",
     "output_type": "stream",
     "text": [
      "Episode 86 \n",
      "\n",
      "\n",
      "\n",
      "Episode took 3.095699961999344\n",
      "\n",
      "\n"
     ]
    },
    {
     "name": "stderr",
     "output_type": "stream",
     "text": [
      "/home/pbilko/miniconda3/envs/PP/lib/python3.9/site-packages/deap/creator.py:138: RuntimeWarning: A class named 'FitnessMin' has already been created and it will be overwritten. Consider deleting previous creation of that class or rename it.\n",
      "  warnings.warn(\"A class named '{0}' has already been created and it \"\n",
      "/home/pbilko/miniconda3/envs/PP/lib/python3.9/site-packages/deap/creator.py:138: RuntimeWarning: A class named 'Individual' has already been created and it will be overwritten. Consider deleting previous creation of that class or rename it.\n",
      "  warnings.warn(\"A class named '{0}' has already been created and it \"\n",
      "/home/pbilko/STUDIA/Neuronowa Adaptacja Operatorów Wariacyjnych/deep_rl_ga/ga_env.py:320: RuntimeWarning: divide by zero encountered in log\n",
      "  return -np.log(self.curr_best_fitness / self.prev_best_fitness)\n"
     ]
    },
    {
     "name": "stdout",
     "output_type": "stream",
     "text": [
      "Episode 87 \n",
      "\n",
      "\n",
      "\n",
      "Episode took 3.0069099140000617\n",
      "\n",
      "\n"
     ]
    },
    {
     "name": "stderr",
     "output_type": "stream",
     "text": [
      "/home/pbilko/miniconda3/envs/PP/lib/python3.9/site-packages/deap/creator.py:138: RuntimeWarning: A class named 'FitnessMin' has already been created and it will be overwritten. Consider deleting previous creation of that class or rename it.\n",
      "  warnings.warn(\"A class named '{0}' has already been created and it \"\n",
      "/home/pbilko/miniconda3/envs/PP/lib/python3.9/site-packages/deap/creator.py:138: RuntimeWarning: A class named 'Individual' has already been created and it will be overwritten. Consider deleting previous creation of that class or rename it.\n",
      "  warnings.warn(\"A class named '{0}' has already been created and it \"\n",
      "/home/pbilko/STUDIA/Neuronowa Adaptacja Operatorów Wariacyjnych/deep_rl_ga/ga_env.py:320: RuntimeWarning: divide by zero encountered in log\n",
      "  return -np.log(self.curr_best_fitness / self.prev_best_fitness)\n"
     ]
    },
    {
     "name": "stdout",
     "output_type": "stream",
     "text": [
      "Episode 88 \n",
      "\n",
      "\n",
      "\n",
      "Episode took 2.8849444500010577\n",
      "\n",
      "\n"
     ]
    },
    {
     "name": "stderr",
     "output_type": "stream",
     "text": [
      "/home/pbilko/miniconda3/envs/PP/lib/python3.9/site-packages/deap/creator.py:138: RuntimeWarning: A class named 'FitnessMin' has already been created and it will be overwritten. Consider deleting previous creation of that class or rename it.\n",
      "  warnings.warn(\"A class named '{0}' has already been created and it \"\n",
      "/home/pbilko/miniconda3/envs/PP/lib/python3.9/site-packages/deap/creator.py:138: RuntimeWarning: A class named 'Individual' has already been created and it will be overwritten. Consider deleting previous creation of that class or rename it.\n",
      "  warnings.warn(\"A class named '{0}' has already been created and it \"\n",
      "/home/pbilko/STUDIA/Neuronowa Adaptacja Operatorów Wariacyjnych/deep_rl_ga/ga_env.py:320: RuntimeWarning: divide by zero encountered in log\n",
      "  return -np.log(self.curr_best_fitness / self.prev_best_fitness)\n"
     ]
    },
    {
     "name": "stdout",
     "output_type": "stream",
     "text": [
      "Episode 89 \n",
      "\n",
      "\n",
      "\n",
      "Episode took 2.9971466699989833\n",
      "\n",
      "\n"
     ]
    },
    {
     "name": "stderr",
     "output_type": "stream",
     "text": [
      "/home/pbilko/miniconda3/envs/PP/lib/python3.9/site-packages/deap/creator.py:138: RuntimeWarning: A class named 'FitnessMin' has already been created and it will be overwritten. Consider deleting previous creation of that class or rename it.\n",
      "  warnings.warn(\"A class named '{0}' has already been created and it \"\n",
      "/home/pbilko/miniconda3/envs/PP/lib/python3.9/site-packages/deap/creator.py:138: RuntimeWarning: A class named 'Individual' has already been created and it will be overwritten. Consider deleting previous creation of that class or rename it.\n",
      "  warnings.warn(\"A class named '{0}' has already been created and it \"\n",
      "/home/pbilko/STUDIA/Neuronowa Adaptacja Operatorów Wariacyjnych/deep_rl_ga/ga_env.py:320: RuntimeWarning: divide by zero encountered in log\n",
      "  return -np.log(self.curr_best_fitness / self.prev_best_fitness)\n"
     ]
    },
    {
     "name": "stdout",
     "output_type": "stream",
     "text": [
      "Episode 90 \n",
      "\n",
      "\n",
      "\n",
      "Episode took 2.8542027130006318\n",
      "\n",
      "\n"
     ]
    },
    {
     "name": "stderr",
     "output_type": "stream",
     "text": [
      "/home/pbilko/miniconda3/envs/PP/lib/python3.9/site-packages/deap/creator.py:138: RuntimeWarning: A class named 'FitnessMin' has already been created and it will be overwritten. Consider deleting previous creation of that class or rename it.\n",
      "  warnings.warn(\"A class named '{0}' has already been created and it \"\n",
      "/home/pbilko/miniconda3/envs/PP/lib/python3.9/site-packages/deap/creator.py:138: RuntimeWarning: A class named 'Individual' has already been created and it will be overwritten. Consider deleting previous creation of that class or rename it.\n",
      "  warnings.warn(\"A class named '{0}' has already been created and it \"\n",
      "/home/pbilko/STUDIA/Neuronowa Adaptacja Operatorów Wariacyjnych/deep_rl_ga/ga_env.py:320: RuntimeWarning: divide by zero encountered in log\n",
      "  return -np.log(self.curr_best_fitness / self.prev_best_fitness)\n"
     ]
    },
    {
     "name": "stdout",
     "output_type": "stream",
     "text": [
      "Episode 91 \n",
      "\n",
      "\n",
      "\n",
      "Episode took 2.8747997259997646\n",
      "\n",
      "\n"
     ]
    },
    {
     "name": "stderr",
     "output_type": "stream",
     "text": [
      "/home/pbilko/miniconda3/envs/PP/lib/python3.9/site-packages/deap/creator.py:138: RuntimeWarning: A class named 'FitnessMin' has already been created and it will be overwritten. Consider deleting previous creation of that class or rename it.\n",
      "  warnings.warn(\"A class named '{0}' has already been created and it \"\n",
      "/home/pbilko/miniconda3/envs/PP/lib/python3.9/site-packages/deap/creator.py:138: RuntimeWarning: A class named 'Individual' has already been created and it will be overwritten. Consider deleting previous creation of that class or rename it.\n",
      "  warnings.warn(\"A class named '{0}' has already been created and it \"\n",
      "/home/pbilko/STUDIA/Neuronowa Adaptacja Operatorów Wariacyjnych/deep_rl_ga/ga_env.py:320: RuntimeWarning: divide by zero encountered in log\n",
      "  return -np.log(self.curr_best_fitness / self.prev_best_fitness)\n"
     ]
    },
    {
     "name": "stdout",
     "output_type": "stream",
     "text": [
      "Episode 92 \n",
      "\n",
      "\n",
      "\n",
      "Episode took 2.8409000350002316\n",
      "\n",
      "\n"
     ]
    },
    {
     "name": "stderr",
     "output_type": "stream",
     "text": [
      "/home/pbilko/miniconda3/envs/PP/lib/python3.9/site-packages/deap/creator.py:138: RuntimeWarning: A class named 'FitnessMin' has already been created and it will be overwritten. Consider deleting previous creation of that class or rename it.\n",
      "  warnings.warn(\"A class named '{0}' has already been created and it \"\n",
      "/home/pbilko/miniconda3/envs/PP/lib/python3.9/site-packages/deap/creator.py:138: RuntimeWarning: A class named 'Individual' has already been created and it will be overwritten. Consider deleting previous creation of that class or rename it.\n",
      "  warnings.warn(\"A class named '{0}' has already been created and it \"\n",
      "/home/pbilko/STUDIA/Neuronowa Adaptacja Operatorów Wariacyjnych/deep_rl_ga/ga_env.py:320: RuntimeWarning: divide by zero encountered in log\n",
      "  return -np.log(self.curr_best_fitness / self.prev_best_fitness)\n"
     ]
    },
    {
     "name": "stdout",
     "output_type": "stream",
     "text": [
      "Episode 93 \n",
      "\n",
      "\n",
      "\n",
      "Episode took 2.827788993001377\n",
      "\n",
      "\n"
     ]
    },
    {
     "name": "stderr",
     "output_type": "stream",
     "text": [
      "/home/pbilko/miniconda3/envs/PP/lib/python3.9/site-packages/deap/creator.py:138: RuntimeWarning: A class named 'FitnessMin' has already been created and it will be overwritten. Consider deleting previous creation of that class or rename it.\n",
      "  warnings.warn(\"A class named '{0}' has already been created and it \"\n",
      "/home/pbilko/miniconda3/envs/PP/lib/python3.9/site-packages/deap/creator.py:138: RuntimeWarning: A class named 'Individual' has already been created and it will be overwritten. Consider deleting previous creation of that class or rename it.\n",
      "  warnings.warn(\"A class named '{0}' has already been created and it \"\n",
      "/home/pbilko/STUDIA/Neuronowa Adaptacja Operatorów Wariacyjnych/deep_rl_ga/ga_env.py:320: RuntimeWarning: divide by zero encountered in log\n",
      "  return -np.log(self.curr_best_fitness / self.prev_best_fitness)\n"
     ]
    },
    {
     "name": "stdout",
     "output_type": "stream",
     "text": [
      "Episode 94 \n",
      "\n",
      "\n",
      "\n",
      "Episode took 2.9886004569998477\n",
      "\n",
      "\n"
     ]
    },
    {
     "name": "stderr",
     "output_type": "stream",
     "text": [
      "/home/pbilko/miniconda3/envs/PP/lib/python3.9/site-packages/deap/creator.py:138: RuntimeWarning: A class named 'FitnessMin' has already been created and it will be overwritten. Consider deleting previous creation of that class or rename it.\n",
      "  warnings.warn(\"A class named '{0}' has already been created and it \"\n",
      "/home/pbilko/miniconda3/envs/PP/lib/python3.9/site-packages/deap/creator.py:138: RuntimeWarning: A class named 'Individual' has already been created and it will be overwritten. Consider deleting previous creation of that class or rename it.\n",
      "  warnings.warn(\"A class named '{0}' has already been created and it \"\n",
      "/home/pbilko/STUDIA/Neuronowa Adaptacja Operatorów Wariacyjnych/deep_rl_ga/ga_env.py:320: RuntimeWarning: divide by zero encountered in log\n",
      "  return -np.log(self.curr_best_fitness / self.prev_best_fitness)\n"
     ]
    },
    {
     "name": "stdout",
     "output_type": "stream",
     "text": [
      "Episode 95 \n",
      "\n",
      "\n",
      "\n",
      "Episode took 2.8692458329987858\n",
      "\n",
      "\n"
     ]
    },
    {
     "name": "stderr",
     "output_type": "stream",
     "text": [
      "/home/pbilko/miniconda3/envs/PP/lib/python3.9/site-packages/deap/creator.py:138: RuntimeWarning: A class named 'FitnessMin' has already been created and it will be overwritten. Consider deleting previous creation of that class or rename it.\n",
      "  warnings.warn(\"A class named '{0}' has already been created and it \"\n",
      "/home/pbilko/miniconda3/envs/PP/lib/python3.9/site-packages/deap/creator.py:138: RuntimeWarning: A class named 'Individual' has already been created and it will be overwritten. Consider deleting previous creation of that class or rename it.\n",
      "  warnings.warn(\"A class named '{0}' has already been created and it \"\n",
      "/home/pbilko/STUDIA/Neuronowa Adaptacja Operatorów Wariacyjnych/deep_rl_ga/ga_env.py:320: RuntimeWarning: divide by zero encountered in log\n",
      "  return -np.log(self.curr_best_fitness / self.prev_best_fitness)\n"
     ]
    },
    {
     "name": "stdout",
     "output_type": "stream",
     "text": [
      "Episode 96 \n",
      "\n",
      "\n",
      "\n",
      "Episode took 2.845949317999839\n",
      "\n",
      "\n"
     ]
    },
    {
     "name": "stderr",
     "output_type": "stream",
     "text": [
      "/home/pbilko/miniconda3/envs/PP/lib/python3.9/site-packages/deap/creator.py:138: RuntimeWarning: A class named 'FitnessMin' has already been created and it will be overwritten. Consider deleting previous creation of that class or rename it.\n",
      "  warnings.warn(\"A class named '{0}' has already been created and it \"\n",
      "/home/pbilko/miniconda3/envs/PP/lib/python3.9/site-packages/deap/creator.py:138: RuntimeWarning: A class named 'Individual' has already been created and it will be overwritten. Consider deleting previous creation of that class or rename it.\n",
      "  warnings.warn(\"A class named '{0}' has already been created and it \"\n",
      "/home/pbilko/STUDIA/Neuronowa Adaptacja Operatorów Wariacyjnych/deep_rl_ga/ga_env.py:320: RuntimeWarning: divide by zero encountered in log\n",
      "  return -np.log(self.curr_best_fitness / self.prev_best_fitness)\n"
     ]
    },
    {
     "name": "stdout",
     "output_type": "stream",
     "text": [
      "Episode 97 \n",
      "\n",
      "\n",
      "\n",
      "Episode took 2.8751766059995134\n",
      "\n",
      "\n"
     ]
    },
    {
     "name": "stderr",
     "output_type": "stream",
     "text": [
      "/home/pbilko/miniconda3/envs/PP/lib/python3.9/site-packages/deap/creator.py:138: RuntimeWarning: A class named 'FitnessMin' has already been created and it will be overwritten. Consider deleting previous creation of that class or rename it.\n",
      "  warnings.warn(\"A class named '{0}' has already been created and it \"\n",
      "/home/pbilko/miniconda3/envs/PP/lib/python3.9/site-packages/deap/creator.py:138: RuntimeWarning: A class named 'Individual' has already been created and it will be overwritten. Consider deleting previous creation of that class or rename it.\n",
      "  warnings.warn(\"A class named '{0}' has already been created and it \"\n",
      "/home/pbilko/STUDIA/Neuronowa Adaptacja Operatorów Wariacyjnych/deep_rl_ga/ga_env.py:320: RuntimeWarning: divide by zero encountered in log\n",
      "  return -np.log(self.curr_best_fitness / self.prev_best_fitness)\n"
     ]
    },
    {
     "name": "stdout",
     "output_type": "stream",
     "text": [
      "Episode 98 \n",
      "\n",
      "\n",
      "\n",
      "Episode took 3.058654592001403\n",
      "\n",
      "\n"
     ]
    },
    {
     "name": "stderr",
     "output_type": "stream",
     "text": [
      "/home/pbilko/miniconda3/envs/PP/lib/python3.9/site-packages/deap/creator.py:138: RuntimeWarning: A class named 'FitnessMin' has already been created and it will be overwritten. Consider deleting previous creation of that class or rename it.\n",
      "  warnings.warn(\"A class named '{0}' has already been created and it \"\n",
      "/home/pbilko/miniconda3/envs/PP/lib/python3.9/site-packages/deap/creator.py:138: RuntimeWarning: A class named 'Individual' has already been created and it will be overwritten. Consider deleting previous creation of that class or rename it.\n",
      "  warnings.warn(\"A class named '{0}' has already been created and it \"\n",
      "/home/pbilko/STUDIA/Neuronowa Adaptacja Operatorów Wariacyjnych/deep_rl_ga/ga_env.py:320: RuntimeWarning: divide by zero encountered in log\n",
      "  return -np.log(self.curr_best_fitness / self.prev_best_fitness)\n"
     ]
    },
    {
     "name": "stdout",
     "output_type": "stream",
     "text": [
      "Episode 99 \n",
      "\n",
      "\n",
      "\n",
      "Episode took 2.8381867649986816\n",
      "\n",
      "\n"
     ]
    },
    {
     "name": "stderr",
     "output_type": "stream",
     "text": [
      "/home/pbilko/miniconda3/envs/PP/lib/python3.9/site-packages/deap/creator.py:138: RuntimeWarning: A class named 'FitnessMin' has already been created and it will be overwritten. Consider deleting previous creation of that class or rename it.\n",
      "  warnings.warn(\"A class named '{0}' has already been created and it \"\n",
      "/home/pbilko/miniconda3/envs/PP/lib/python3.9/site-packages/deap/creator.py:138: RuntimeWarning: A class named 'Individual' has already been created and it will be overwritten. Consider deleting previous creation of that class or rename it.\n",
      "  warnings.warn(\"A class named '{0}' has already been created and it \"\n",
      "/home/pbilko/STUDIA/Neuronowa Adaptacja Operatorów Wariacyjnych/deep_rl_ga/ga_env.py:320: RuntimeWarning: divide by zero encountered in log\n",
      "  return -np.log(self.curr_best_fitness / self.prev_best_fitness)\n"
     ]
    },
    {
     "name": "stdout",
     "output_type": "stream",
     "text": [
      "Episode 100 \n",
      "\n",
      "\n",
      "\n",
      "Episode took 2.8196033779986465\n",
      "\n",
      "\n"
     ]
    },
    {
     "name": "stderr",
     "output_type": "stream",
     "text": [
      "/home/pbilko/miniconda3/envs/PP/lib/python3.9/site-packages/deap/creator.py:138: RuntimeWarning: A class named 'FitnessMin' has already been created and it will be overwritten. Consider deleting previous creation of that class or rename it.\n",
      "  warnings.warn(\"A class named '{0}' has already been created and it \"\n",
      "/home/pbilko/miniconda3/envs/PP/lib/python3.9/site-packages/deap/creator.py:138: RuntimeWarning: A class named 'Individual' has already been created and it will be overwritten. Consider deleting previous creation of that class or rename it.\n",
      "  warnings.warn(\"A class named '{0}' has already been created and it \"\n",
      "/home/pbilko/STUDIA/Neuronowa Adaptacja Operatorów Wariacyjnych/deep_rl_ga/ga_env.py:320: RuntimeWarning: divide by zero encountered in log\n",
      "  return -np.log(self.curr_best_fitness / self.prev_best_fitness)\n"
     ]
    },
    {
     "name": "stdout",
     "output_type": "stream",
     "text": [
      "Episode 101 \n",
      "\n",
      "\n",
      "\n",
      "Episode took 2.943221273000745\n",
      "\n",
      "\n"
     ]
    },
    {
     "name": "stderr",
     "output_type": "stream",
     "text": [
      "/home/pbilko/miniconda3/envs/PP/lib/python3.9/site-packages/deap/creator.py:138: RuntimeWarning: A class named 'FitnessMin' has already been created and it will be overwritten. Consider deleting previous creation of that class or rename it.\n",
      "  warnings.warn(\"A class named '{0}' has already been created and it \"\n",
      "/home/pbilko/miniconda3/envs/PP/lib/python3.9/site-packages/deap/creator.py:138: RuntimeWarning: A class named 'Individual' has already been created and it will be overwritten. Consider deleting previous creation of that class or rename it.\n",
      "  warnings.warn(\"A class named '{0}' has already been created and it \"\n",
      "/home/pbilko/STUDIA/Neuronowa Adaptacja Operatorów Wariacyjnych/deep_rl_ga/ga_env.py:320: RuntimeWarning: divide by zero encountered in log\n",
      "  return -np.log(self.curr_best_fitness / self.prev_best_fitness)\n"
     ]
    },
    {
     "name": "stdout",
     "output_type": "stream",
     "text": [
      "Episode 102 \n",
      "\n",
      "\n",
      "\n",
      "Episode took 2.8983544139991864\n",
      "\n",
      "\n"
     ]
    },
    {
     "name": "stderr",
     "output_type": "stream",
     "text": [
      "/home/pbilko/miniconda3/envs/PP/lib/python3.9/site-packages/deap/creator.py:138: RuntimeWarning: A class named 'FitnessMin' has already been created and it will be overwritten. Consider deleting previous creation of that class or rename it.\n",
      "  warnings.warn(\"A class named '{0}' has already been created and it \"\n",
      "/home/pbilko/miniconda3/envs/PP/lib/python3.9/site-packages/deap/creator.py:138: RuntimeWarning: A class named 'Individual' has already been created and it will be overwritten. Consider deleting previous creation of that class or rename it.\n",
      "  warnings.warn(\"A class named '{0}' has already been created and it \"\n",
      "/home/pbilko/STUDIA/Neuronowa Adaptacja Operatorów Wariacyjnych/deep_rl_ga/ga_env.py:320: RuntimeWarning: divide by zero encountered in log\n",
      "  return -np.log(self.curr_best_fitness / self.prev_best_fitness)\n"
     ]
    },
    {
     "name": "stdout",
     "output_type": "stream",
     "text": [
      "Episode 103 \n",
      "\n",
      "\n",
      "\n",
      "Episode took 2.8966772460007633\n",
      "\n",
      "\n"
     ]
    },
    {
     "name": "stderr",
     "output_type": "stream",
     "text": [
      "/home/pbilko/miniconda3/envs/PP/lib/python3.9/site-packages/deap/creator.py:138: RuntimeWarning: A class named 'FitnessMin' has already been created and it will be overwritten. Consider deleting previous creation of that class or rename it.\n",
      "  warnings.warn(\"A class named '{0}' has already been created and it \"\n",
      "/home/pbilko/miniconda3/envs/PP/lib/python3.9/site-packages/deap/creator.py:138: RuntimeWarning: A class named 'Individual' has already been created and it will be overwritten. Consider deleting previous creation of that class or rename it.\n",
      "  warnings.warn(\"A class named '{0}' has already been created and it \"\n",
      "/home/pbilko/STUDIA/Neuronowa Adaptacja Operatorów Wariacyjnych/deep_rl_ga/ga_env.py:320: RuntimeWarning: divide by zero encountered in log\n",
      "  return -np.log(self.curr_best_fitness / self.prev_best_fitness)\n"
     ]
    },
    {
     "name": "stdout",
     "output_type": "stream",
     "text": [
      "Episode 104 \n",
      "\n",
      "\n",
      "\n",
      "Episode took 2.9049158110010467\n",
      "\n",
      "\n"
     ]
    },
    {
     "name": "stderr",
     "output_type": "stream",
     "text": [
      "/home/pbilko/miniconda3/envs/PP/lib/python3.9/site-packages/deap/creator.py:138: RuntimeWarning: A class named 'FitnessMin' has already been created and it will be overwritten. Consider deleting previous creation of that class or rename it.\n",
      "  warnings.warn(\"A class named '{0}' has already been created and it \"\n",
      "/home/pbilko/miniconda3/envs/PP/lib/python3.9/site-packages/deap/creator.py:138: RuntimeWarning: A class named 'Individual' has already been created and it will be overwritten. Consider deleting previous creation of that class or rename it.\n",
      "  warnings.warn(\"A class named '{0}' has already been created and it \"\n",
      "/home/pbilko/STUDIA/Neuronowa Adaptacja Operatorów Wariacyjnych/deep_rl_ga/ga_env.py:320: RuntimeWarning: divide by zero encountered in log\n",
      "  return -np.log(self.curr_best_fitness / self.prev_best_fitness)\n"
     ]
    },
    {
     "name": "stdout",
     "output_type": "stream",
     "text": [
      "Episode 105 \n",
      "\n",
      "\n",
      "\n",
      "Episode took 2.990253316000235\n",
      "\n",
      "\n"
     ]
    },
    {
     "name": "stderr",
     "output_type": "stream",
     "text": [
      "/home/pbilko/miniconda3/envs/PP/lib/python3.9/site-packages/deap/creator.py:138: RuntimeWarning: A class named 'FitnessMin' has already been created and it will be overwritten. Consider deleting previous creation of that class or rename it.\n",
      "  warnings.warn(\"A class named '{0}' has already been created and it \"\n",
      "/home/pbilko/miniconda3/envs/PP/lib/python3.9/site-packages/deap/creator.py:138: RuntimeWarning: A class named 'Individual' has already been created and it will be overwritten. Consider deleting previous creation of that class or rename it.\n",
      "  warnings.warn(\"A class named '{0}' has already been created and it \"\n",
      "/home/pbilko/STUDIA/Neuronowa Adaptacja Operatorów Wariacyjnych/deep_rl_ga/ga_env.py:320: RuntimeWarning: divide by zero encountered in log\n",
      "  return -np.log(self.curr_best_fitness / self.prev_best_fitness)\n"
     ]
    },
    {
     "name": "stdout",
     "output_type": "stream",
     "text": [
      "Episode 106 \n",
      "\n",
      "\n",
      "\n",
      "Episode took 2.913390136000089\n",
      "\n",
      "\n"
     ]
    },
    {
     "name": "stderr",
     "output_type": "stream",
     "text": [
      "/home/pbilko/miniconda3/envs/PP/lib/python3.9/site-packages/deap/creator.py:138: RuntimeWarning: A class named 'FitnessMin' has already been created and it will be overwritten. Consider deleting previous creation of that class or rename it.\n",
      "  warnings.warn(\"A class named '{0}' has already been created and it \"\n",
      "/home/pbilko/miniconda3/envs/PP/lib/python3.9/site-packages/deap/creator.py:138: RuntimeWarning: A class named 'Individual' has already been created and it will be overwritten. Consider deleting previous creation of that class or rename it.\n",
      "  warnings.warn(\"A class named '{0}' has already been created and it \"\n",
      "/home/pbilko/STUDIA/Neuronowa Adaptacja Operatorów Wariacyjnych/deep_rl_ga/ga_env.py:320: RuntimeWarning: divide by zero encountered in log\n",
      "  return -np.log(self.curr_best_fitness / self.prev_best_fitness)\n"
     ]
    },
    {
     "name": "stdout",
     "output_type": "stream",
     "text": [
      "Episode 107 \n",
      "\n",
      "\n",
      "\n",
      "Episode took 2.9148670979993767\n",
      "\n",
      "\n"
     ]
    },
    {
     "name": "stderr",
     "output_type": "stream",
     "text": [
      "/home/pbilko/miniconda3/envs/PP/lib/python3.9/site-packages/deap/creator.py:138: RuntimeWarning: A class named 'FitnessMin' has already been created and it will be overwritten. Consider deleting previous creation of that class or rename it.\n",
      "  warnings.warn(\"A class named '{0}' has already been created and it \"\n",
      "/home/pbilko/miniconda3/envs/PP/lib/python3.9/site-packages/deap/creator.py:138: RuntimeWarning: A class named 'Individual' has already been created and it will be overwritten. Consider deleting previous creation of that class or rename it.\n",
      "  warnings.warn(\"A class named '{0}' has already been created and it \"\n",
      "/home/pbilko/STUDIA/Neuronowa Adaptacja Operatorów Wariacyjnych/deep_rl_ga/ga_env.py:320: RuntimeWarning: divide by zero encountered in log\n",
      "  return -np.log(self.curr_best_fitness / self.prev_best_fitness)\n"
     ]
    },
    {
     "name": "stdout",
     "output_type": "stream",
     "text": [
      "Episode 108 \n",
      "\n",
      "\n",
      "\n",
      "Episode took 2.920411735000016\n",
      "\n",
      "\n"
     ]
    },
    {
     "name": "stderr",
     "output_type": "stream",
     "text": [
      "/home/pbilko/miniconda3/envs/PP/lib/python3.9/site-packages/deap/creator.py:138: RuntimeWarning: A class named 'FitnessMin' has already been created and it will be overwritten. Consider deleting previous creation of that class or rename it.\n",
      "  warnings.warn(\"A class named '{0}' has already been created and it \"\n",
      "/home/pbilko/miniconda3/envs/PP/lib/python3.9/site-packages/deap/creator.py:138: RuntimeWarning: A class named 'Individual' has already been created and it will be overwritten. Consider deleting previous creation of that class or rename it.\n",
      "  warnings.warn(\"A class named '{0}' has already been created and it \"\n",
      "/home/pbilko/STUDIA/Neuronowa Adaptacja Operatorów Wariacyjnych/deep_rl_ga/ga_env.py:320: RuntimeWarning: divide by zero encountered in log\n",
      "  return -np.log(self.curr_best_fitness / self.prev_best_fitness)\n"
     ]
    },
    {
     "name": "stdout",
     "output_type": "stream",
     "text": [
      "Episode 109 \n",
      "\n",
      "\n",
      "\n",
      "Episode took 2.8202915000001667\n",
      "\n",
      "\n"
     ]
    },
    {
     "name": "stderr",
     "output_type": "stream",
     "text": [
      "/home/pbilko/miniconda3/envs/PP/lib/python3.9/site-packages/deap/creator.py:138: RuntimeWarning: A class named 'FitnessMin' has already been created and it will be overwritten. Consider deleting previous creation of that class or rename it.\n",
      "  warnings.warn(\"A class named '{0}' has already been created and it \"\n",
      "/home/pbilko/miniconda3/envs/PP/lib/python3.9/site-packages/deap/creator.py:138: RuntimeWarning: A class named 'Individual' has already been created and it will be overwritten. Consider deleting previous creation of that class or rename it.\n",
      "  warnings.warn(\"A class named '{0}' has already been created and it \"\n",
      "/home/pbilko/STUDIA/Neuronowa Adaptacja Operatorów Wariacyjnych/deep_rl_ga/ga_env.py:320: RuntimeWarning: divide by zero encountered in log\n",
      "  return -np.log(self.curr_best_fitness / self.prev_best_fitness)\n"
     ]
    },
    {
     "name": "stdout",
     "output_type": "stream",
     "text": [
      "Episode 110 \n",
      "\n",
      "\n",
      "\n",
      "Episode took 2.9430985010003496\n",
      "\n",
      "\n"
     ]
    },
    {
     "name": "stderr",
     "output_type": "stream",
     "text": [
      "/home/pbilko/miniconda3/envs/PP/lib/python3.9/site-packages/deap/creator.py:138: RuntimeWarning: A class named 'FitnessMin' has already been created and it will be overwritten. Consider deleting previous creation of that class or rename it.\n",
      "  warnings.warn(\"A class named '{0}' has already been created and it \"\n",
      "/home/pbilko/miniconda3/envs/PP/lib/python3.9/site-packages/deap/creator.py:138: RuntimeWarning: A class named 'Individual' has already been created and it will be overwritten. Consider deleting previous creation of that class or rename it.\n",
      "  warnings.warn(\"A class named '{0}' has already been created and it \"\n",
      "/home/pbilko/STUDIA/Neuronowa Adaptacja Operatorów Wariacyjnych/deep_rl_ga/ga_env.py:320: RuntimeWarning: divide by zero encountered in log\n",
      "  return -np.log(self.curr_best_fitness / self.prev_best_fitness)\n"
     ]
    },
    {
     "name": "stdout",
     "output_type": "stream",
     "text": [
      "Episode 111 \n",
      "\n",
      "\n",
      "\n",
      "Episode took 2.821128937001049\n",
      "\n",
      "\n"
     ]
    },
    {
     "name": "stderr",
     "output_type": "stream",
     "text": [
      "/home/pbilko/miniconda3/envs/PP/lib/python3.9/site-packages/deap/creator.py:138: RuntimeWarning: A class named 'FitnessMin' has already been created and it will be overwritten. Consider deleting previous creation of that class or rename it.\n",
      "  warnings.warn(\"A class named '{0}' has already been created and it \"\n",
      "/home/pbilko/miniconda3/envs/PP/lib/python3.9/site-packages/deap/creator.py:138: RuntimeWarning: A class named 'Individual' has already been created and it will be overwritten. Consider deleting previous creation of that class or rename it.\n",
      "  warnings.warn(\"A class named '{0}' has already been created and it \"\n",
      "/home/pbilko/STUDIA/Neuronowa Adaptacja Operatorów Wariacyjnych/deep_rl_ga/ga_env.py:320: RuntimeWarning: divide by zero encountered in log\n",
      "  return -np.log(self.curr_best_fitness / self.prev_best_fitness)\n"
     ]
    },
    {
     "name": "stdout",
     "output_type": "stream",
     "text": [
      "Episode 112 \n",
      "\n",
      "\n",
      "\n",
      "Episode took 2.876045814000463\n",
      "\n",
      "\n"
     ]
    },
    {
     "name": "stderr",
     "output_type": "stream",
     "text": [
      "/home/pbilko/miniconda3/envs/PP/lib/python3.9/site-packages/deap/creator.py:138: RuntimeWarning: A class named 'FitnessMin' has already been created and it will be overwritten. Consider deleting previous creation of that class or rename it.\n",
      "  warnings.warn(\"A class named '{0}' has already been created and it \"\n",
      "/home/pbilko/miniconda3/envs/PP/lib/python3.9/site-packages/deap/creator.py:138: RuntimeWarning: A class named 'Individual' has already been created and it will be overwritten. Consider deleting previous creation of that class or rename it.\n",
      "  warnings.warn(\"A class named '{0}' has already been created and it \"\n",
      "/home/pbilko/STUDIA/Neuronowa Adaptacja Operatorów Wariacyjnych/deep_rl_ga/ga_env.py:320: RuntimeWarning: divide by zero encountered in log\n",
      "  return -np.log(self.curr_best_fitness / self.prev_best_fitness)\n"
     ]
    },
    {
     "name": "stdout",
     "output_type": "stream",
     "text": [
      "Episode 113 \n",
      "\n",
      "\n",
      "\n",
      "Episode took 2.8650559189991327\n",
      "\n",
      "\n"
     ]
    },
    {
     "name": "stderr",
     "output_type": "stream",
     "text": [
      "/home/pbilko/miniconda3/envs/PP/lib/python3.9/site-packages/deap/creator.py:138: RuntimeWarning: A class named 'FitnessMin' has already been created and it will be overwritten. Consider deleting previous creation of that class or rename it.\n",
      "  warnings.warn(\"A class named '{0}' has already been created and it \"\n",
      "/home/pbilko/miniconda3/envs/PP/lib/python3.9/site-packages/deap/creator.py:138: RuntimeWarning: A class named 'Individual' has already been created and it will be overwritten. Consider deleting previous creation of that class or rename it.\n",
      "  warnings.warn(\"A class named '{0}' has already been created and it \"\n",
      "/home/pbilko/STUDIA/Neuronowa Adaptacja Operatorów Wariacyjnych/deep_rl_ga/ga_env.py:320: RuntimeWarning: divide by zero encountered in log\n",
      "  return -np.log(self.curr_best_fitness / self.prev_best_fitness)\n"
     ]
    },
    {
     "name": "stdout",
     "output_type": "stream",
     "text": [
      "Episode 114 \n",
      "\n",
      "\n",
      "\n",
      "Episode took 2.839311016001375\n",
      "\n",
      "\n"
     ]
    },
    {
     "name": "stderr",
     "output_type": "stream",
     "text": [
      "/home/pbilko/miniconda3/envs/PP/lib/python3.9/site-packages/deap/creator.py:138: RuntimeWarning: A class named 'FitnessMin' has already been created and it will be overwritten. Consider deleting previous creation of that class or rename it.\n",
      "  warnings.warn(\"A class named '{0}' has already been created and it \"\n",
      "/home/pbilko/miniconda3/envs/PP/lib/python3.9/site-packages/deap/creator.py:138: RuntimeWarning: A class named 'Individual' has already been created and it will be overwritten. Consider deleting previous creation of that class or rename it.\n",
      "  warnings.warn(\"A class named '{0}' has already been created and it \"\n",
      "/home/pbilko/STUDIA/Neuronowa Adaptacja Operatorów Wariacyjnych/deep_rl_ga/ga_env.py:320: RuntimeWarning: divide by zero encountered in log\n",
      "  return -np.log(self.curr_best_fitness / self.prev_best_fitness)\n"
     ]
    },
    {
     "name": "stdout",
     "output_type": "stream",
     "text": [
      "Episode 115 \n",
      "\n",
      "\n",
      "\n",
      "Episode took 2.8740881549983897\n",
      "\n",
      "\n"
     ]
    },
    {
     "name": "stderr",
     "output_type": "stream",
     "text": [
      "/home/pbilko/miniconda3/envs/PP/lib/python3.9/site-packages/deap/creator.py:138: RuntimeWarning: A class named 'FitnessMin' has already been created and it will be overwritten. Consider deleting previous creation of that class or rename it.\n",
      "  warnings.warn(\"A class named '{0}' has already been created and it \"\n",
      "/home/pbilko/miniconda3/envs/PP/lib/python3.9/site-packages/deap/creator.py:138: RuntimeWarning: A class named 'Individual' has already been created and it will be overwritten. Consider deleting previous creation of that class or rename it.\n",
      "  warnings.warn(\"A class named '{0}' has already been created and it \"\n",
      "/home/pbilko/STUDIA/Neuronowa Adaptacja Operatorów Wariacyjnych/deep_rl_ga/ga_env.py:320: RuntimeWarning: divide by zero encountered in log\n",
      "  return -np.log(self.curr_best_fitness / self.prev_best_fitness)\n"
     ]
    },
    {
     "name": "stdout",
     "output_type": "stream",
     "text": [
      "Episode 116 \n",
      "\n",
      "\n",
      "\n",
      "Episode took 2.9378030040006706\n",
      "\n",
      "\n"
     ]
    },
    {
     "name": "stderr",
     "output_type": "stream",
     "text": [
      "/home/pbilko/miniconda3/envs/PP/lib/python3.9/site-packages/deap/creator.py:138: RuntimeWarning: A class named 'FitnessMin' has already been created and it will be overwritten. Consider deleting previous creation of that class or rename it.\n",
      "  warnings.warn(\"A class named '{0}' has already been created and it \"\n",
      "/home/pbilko/miniconda3/envs/PP/lib/python3.9/site-packages/deap/creator.py:138: RuntimeWarning: A class named 'Individual' has already been created and it will be overwritten. Consider deleting previous creation of that class or rename it.\n",
      "  warnings.warn(\"A class named '{0}' has already been created and it \"\n",
      "/home/pbilko/STUDIA/Neuronowa Adaptacja Operatorów Wariacyjnych/deep_rl_ga/ga_env.py:320: RuntimeWarning: divide by zero encountered in log\n",
      "  return -np.log(self.curr_best_fitness / self.prev_best_fitness)\n"
     ]
    },
    {
     "name": "stdout",
     "output_type": "stream",
     "text": [
      "Episode 117 \n",
      "\n",
      "\n",
      "\n",
      "Episode took 2.882603469000969\n",
      "\n",
      "\n"
     ]
    },
    {
     "name": "stderr",
     "output_type": "stream",
     "text": [
      "/home/pbilko/miniconda3/envs/PP/lib/python3.9/site-packages/deap/creator.py:138: RuntimeWarning: A class named 'FitnessMin' has already been created and it will be overwritten. Consider deleting previous creation of that class or rename it.\n",
      "  warnings.warn(\"A class named '{0}' has already been created and it \"\n",
      "/home/pbilko/miniconda3/envs/PP/lib/python3.9/site-packages/deap/creator.py:138: RuntimeWarning: A class named 'Individual' has already been created and it will be overwritten. Consider deleting previous creation of that class or rename it.\n",
      "  warnings.warn(\"A class named '{0}' has already been created and it \"\n",
      "/home/pbilko/STUDIA/Neuronowa Adaptacja Operatorów Wariacyjnych/deep_rl_ga/ga_env.py:320: RuntimeWarning: divide by zero encountered in log\n",
      "  return -np.log(self.curr_best_fitness / self.prev_best_fitness)\n"
     ]
    },
    {
     "name": "stdout",
     "output_type": "stream",
     "text": [
      "Episode 118 \n",
      "\n",
      "\n",
      "\n",
      "Episode took 2.9853883830000996\n",
      "\n",
      "\n"
     ]
    },
    {
     "name": "stderr",
     "output_type": "stream",
     "text": [
      "/home/pbilko/miniconda3/envs/PP/lib/python3.9/site-packages/deap/creator.py:138: RuntimeWarning: A class named 'FitnessMin' has already been created and it will be overwritten. Consider deleting previous creation of that class or rename it.\n",
      "  warnings.warn(\"A class named '{0}' has already been created and it \"\n",
      "/home/pbilko/miniconda3/envs/PP/lib/python3.9/site-packages/deap/creator.py:138: RuntimeWarning: A class named 'Individual' has already been created and it will be overwritten. Consider deleting previous creation of that class or rename it.\n",
      "  warnings.warn(\"A class named '{0}' has already been created and it \"\n",
      "/home/pbilko/STUDIA/Neuronowa Adaptacja Operatorów Wariacyjnych/deep_rl_ga/ga_env.py:320: RuntimeWarning: divide by zero encountered in log\n",
      "  return -np.log(self.curr_best_fitness / self.prev_best_fitness)\n"
     ]
    },
    {
     "name": "stdout",
     "output_type": "stream",
     "text": [
      "Episode 119 \n",
      "\n",
      "\n",
      "\n",
      "Episode took 3.0073069160007435\n",
      "\n",
      "\n"
     ]
    },
    {
     "name": "stderr",
     "output_type": "stream",
     "text": [
      "/home/pbilko/miniconda3/envs/PP/lib/python3.9/site-packages/deap/creator.py:138: RuntimeWarning: A class named 'FitnessMin' has already been created and it will be overwritten. Consider deleting previous creation of that class or rename it.\n",
      "  warnings.warn(\"A class named '{0}' has already been created and it \"\n",
      "/home/pbilko/miniconda3/envs/PP/lib/python3.9/site-packages/deap/creator.py:138: RuntimeWarning: A class named 'Individual' has already been created and it will be overwritten. Consider deleting previous creation of that class or rename it.\n",
      "  warnings.warn(\"A class named '{0}' has already been created and it \"\n",
      "/home/pbilko/STUDIA/Neuronowa Adaptacja Operatorów Wariacyjnych/deep_rl_ga/ga_env.py:320: RuntimeWarning: divide by zero encountered in log\n",
      "  return -np.log(self.curr_best_fitness / self.prev_best_fitness)\n"
     ]
    },
    {
     "name": "stdout",
     "output_type": "stream",
     "text": [
      "Episode 120 \n",
      "\n",
      "\n",
      "\n",
      "Episode took 2.8876895510002214\n",
      "\n",
      "\n"
     ]
    },
    {
     "name": "stderr",
     "output_type": "stream",
     "text": [
      "/home/pbilko/miniconda3/envs/PP/lib/python3.9/site-packages/deap/creator.py:138: RuntimeWarning: A class named 'FitnessMin' has already been created and it will be overwritten. Consider deleting previous creation of that class or rename it.\n",
      "  warnings.warn(\"A class named '{0}' has already been created and it \"\n",
      "/home/pbilko/miniconda3/envs/PP/lib/python3.9/site-packages/deap/creator.py:138: RuntimeWarning: A class named 'Individual' has already been created and it will be overwritten. Consider deleting previous creation of that class or rename it.\n",
      "  warnings.warn(\"A class named '{0}' has already been created and it \"\n",
      "/home/pbilko/STUDIA/Neuronowa Adaptacja Operatorów Wariacyjnych/deep_rl_ga/ga_env.py:320: RuntimeWarning: divide by zero encountered in log\n",
      "  return -np.log(self.curr_best_fitness / self.prev_best_fitness)\n"
     ]
    },
    {
     "name": "stdout",
     "output_type": "stream",
     "text": [
      "Episode 121 \n",
      "\n",
      "\n",
      "\n",
      "Episode took 2.8550150499995652\n",
      "\n",
      "\n"
     ]
    },
    {
     "name": "stderr",
     "output_type": "stream",
     "text": [
      "/home/pbilko/miniconda3/envs/PP/lib/python3.9/site-packages/deap/creator.py:138: RuntimeWarning: A class named 'FitnessMin' has already been created and it will be overwritten. Consider deleting previous creation of that class or rename it.\n",
      "  warnings.warn(\"A class named '{0}' has already been created and it \"\n",
      "/home/pbilko/miniconda3/envs/PP/lib/python3.9/site-packages/deap/creator.py:138: RuntimeWarning: A class named 'Individual' has already been created and it will be overwritten. Consider deleting previous creation of that class or rename it.\n",
      "  warnings.warn(\"A class named '{0}' has already been created and it \"\n",
      "/home/pbilko/STUDIA/Neuronowa Adaptacja Operatorów Wariacyjnych/deep_rl_ga/ga_env.py:320: RuntimeWarning: divide by zero encountered in log\n",
      "  return -np.log(self.curr_best_fitness / self.prev_best_fitness)\n"
     ]
    },
    {
     "name": "stdout",
     "output_type": "stream",
     "text": [
      "Episode 122 \n",
      "\n",
      "\n",
      "\n",
      "Episode took 2.890138029000809\n",
      "\n",
      "\n"
     ]
    },
    {
     "name": "stderr",
     "output_type": "stream",
     "text": [
      "/home/pbilko/miniconda3/envs/PP/lib/python3.9/site-packages/deap/creator.py:138: RuntimeWarning: A class named 'FitnessMin' has already been created and it will be overwritten. Consider deleting previous creation of that class or rename it.\n",
      "  warnings.warn(\"A class named '{0}' has already been created and it \"\n",
      "/home/pbilko/miniconda3/envs/PP/lib/python3.9/site-packages/deap/creator.py:138: RuntimeWarning: A class named 'Individual' has already been created and it will be overwritten. Consider deleting previous creation of that class or rename it.\n",
      "  warnings.warn(\"A class named '{0}' has already been created and it \"\n",
      "/home/pbilko/STUDIA/Neuronowa Adaptacja Operatorów Wariacyjnych/deep_rl_ga/ga_env.py:320: RuntimeWarning: divide by zero encountered in log\n",
      "  return -np.log(self.curr_best_fitness / self.prev_best_fitness)\n"
     ]
    },
    {
     "name": "stdout",
     "output_type": "stream",
     "text": [
      "Episode 123 \n",
      "\n",
      "\n",
      "\n",
      "Episode took 2.9815308369998093\n",
      "\n",
      "\n"
     ]
    },
    {
     "name": "stderr",
     "output_type": "stream",
     "text": [
      "/home/pbilko/miniconda3/envs/PP/lib/python3.9/site-packages/deap/creator.py:138: RuntimeWarning: A class named 'FitnessMin' has already been created and it will be overwritten. Consider deleting previous creation of that class or rename it.\n",
      "  warnings.warn(\"A class named '{0}' has already been created and it \"\n",
      "/home/pbilko/miniconda3/envs/PP/lib/python3.9/site-packages/deap/creator.py:138: RuntimeWarning: A class named 'Individual' has already been created and it will be overwritten. Consider deleting previous creation of that class or rename it.\n",
      "  warnings.warn(\"A class named '{0}' has already been created and it \"\n",
      "/home/pbilko/STUDIA/Neuronowa Adaptacja Operatorów Wariacyjnych/deep_rl_ga/ga_env.py:320: RuntimeWarning: divide by zero encountered in log\n",
      "  return -np.log(self.curr_best_fitness / self.prev_best_fitness)\n"
     ]
    },
    {
     "name": "stdout",
     "output_type": "stream",
     "text": [
      "Episode 124 \n",
      "\n",
      "\n",
      "\n",
      "Episode took 2.8478231169992796\n",
      "\n",
      "\n"
     ]
    },
    {
     "name": "stderr",
     "output_type": "stream",
     "text": [
      "/home/pbilko/miniconda3/envs/PP/lib/python3.9/site-packages/deap/creator.py:138: RuntimeWarning: A class named 'FitnessMin' has already been created and it will be overwritten. Consider deleting previous creation of that class or rename it.\n",
      "  warnings.warn(\"A class named '{0}' has already been created and it \"\n",
      "/home/pbilko/miniconda3/envs/PP/lib/python3.9/site-packages/deap/creator.py:138: RuntimeWarning: A class named 'Individual' has already been created and it will be overwritten. Consider deleting previous creation of that class or rename it.\n",
      "  warnings.warn(\"A class named '{0}' has already been created and it \"\n",
      "/home/pbilko/STUDIA/Neuronowa Adaptacja Operatorów Wariacyjnych/deep_rl_ga/ga_env.py:320: RuntimeWarning: divide by zero encountered in log\n",
      "  return -np.log(self.curr_best_fitness / self.prev_best_fitness)\n"
     ]
    },
    {
     "name": "stdout",
     "output_type": "stream",
     "text": [
      "Episode 125 \n",
      "\n",
      "\n",
      "\n",
      "Episode took 2.928080404000866\n",
      "\n",
      "\n"
     ]
    },
    {
     "name": "stderr",
     "output_type": "stream",
     "text": [
      "/home/pbilko/miniconda3/envs/PP/lib/python3.9/site-packages/deap/creator.py:138: RuntimeWarning: A class named 'FitnessMin' has already been created and it will be overwritten. Consider deleting previous creation of that class or rename it.\n",
      "  warnings.warn(\"A class named '{0}' has already been created and it \"\n",
      "/home/pbilko/miniconda3/envs/PP/lib/python3.9/site-packages/deap/creator.py:138: RuntimeWarning: A class named 'Individual' has already been created and it will be overwritten. Consider deleting previous creation of that class or rename it.\n",
      "  warnings.warn(\"A class named '{0}' has already been created and it \"\n",
      "/home/pbilko/STUDIA/Neuronowa Adaptacja Operatorów Wariacyjnych/deep_rl_ga/ga_env.py:320: RuntimeWarning: divide by zero encountered in log\n",
      "  return -np.log(self.curr_best_fitness / self.prev_best_fitness)\n"
     ]
    },
    {
     "name": "stdout",
     "output_type": "stream",
     "text": [
      "Episode 126 \n",
      "\n",
      "\n",
      "\n",
      "Episode took 2.906075303999387\n",
      "\n",
      "\n"
     ]
    },
    {
     "name": "stderr",
     "output_type": "stream",
     "text": [
      "/home/pbilko/miniconda3/envs/PP/lib/python3.9/site-packages/deap/creator.py:138: RuntimeWarning: A class named 'FitnessMin' has already been created and it will be overwritten. Consider deleting previous creation of that class or rename it.\n",
      "  warnings.warn(\"A class named '{0}' has already been created and it \"\n",
      "/home/pbilko/miniconda3/envs/PP/lib/python3.9/site-packages/deap/creator.py:138: RuntimeWarning: A class named 'Individual' has already been created and it will be overwritten. Consider deleting previous creation of that class or rename it.\n",
      "  warnings.warn(\"A class named '{0}' has already been created and it \"\n",
      "/home/pbilko/STUDIA/Neuronowa Adaptacja Operatorów Wariacyjnych/deep_rl_ga/ga_env.py:320: RuntimeWarning: divide by zero encountered in log\n",
      "  return -np.log(self.curr_best_fitness / self.prev_best_fitness)\n"
     ]
    },
    {
     "name": "stdout",
     "output_type": "stream",
     "text": [
      "Episode 127 \n",
      "\n",
      "\n",
      "\n",
      "Episode took 3.007131559001209\n",
      "\n",
      "\n"
     ]
    },
    {
     "name": "stderr",
     "output_type": "stream",
     "text": [
      "/home/pbilko/miniconda3/envs/PP/lib/python3.9/site-packages/deap/creator.py:138: RuntimeWarning: A class named 'FitnessMin' has already been created and it will be overwritten. Consider deleting previous creation of that class or rename it.\n",
      "  warnings.warn(\"A class named '{0}' has already been created and it \"\n",
      "/home/pbilko/miniconda3/envs/PP/lib/python3.9/site-packages/deap/creator.py:138: RuntimeWarning: A class named 'Individual' has already been created and it will be overwritten. Consider deleting previous creation of that class or rename it.\n",
      "  warnings.warn(\"A class named '{0}' has already been created and it \"\n",
      "/home/pbilko/STUDIA/Neuronowa Adaptacja Operatorów Wariacyjnych/deep_rl_ga/ga_env.py:320: RuntimeWarning: divide by zero encountered in log\n",
      "  return -np.log(self.curr_best_fitness / self.prev_best_fitness)\n"
     ]
    },
    {
     "name": "stdout",
     "output_type": "stream",
     "text": [
      "Episode 128 \n",
      "\n",
      "\n",
      "\n",
      "Episode took 2.943177556999217\n",
      "\n",
      "\n"
     ]
    },
    {
     "name": "stderr",
     "output_type": "stream",
     "text": [
      "/home/pbilko/miniconda3/envs/PP/lib/python3.9/site-packages/deap/creator.py:138: RuntimeWarning: A class named 'FitnessMin' has already been created and it will be overwritten. Consider deleting previous creation of that class or rename it.\n",
      "  warnings.warn(\"A class named '{0}' has already been created and it \"\n",
      "/home/pbilko/miniconda3/envs/PP/lib/python3.9/site-packages/deap/creator.py:138: RuntimeWarning: A class named 'Individual' has already been created and it will be overwritten. Consider deleting previous creation of that class or rename it.\n",
      "  warnings.warn(\"A class named '{0}' has already been created and it \"\n",
      "/home/pbilko/STUDIA/Neuronowa Adaptacja Operatorów Wariacyjnych/deep_rl_ga/ga_env.py:320: RuntimeWarning: divide by zero encountered in log\n",
      "  return -np.log(self.curr_best_fitness / self.prev_best_fitness)\n"
     ]
    },
    {
     "name": "stdout",
     "output_type": "stream",
     "text": [
      "Episode 129 \n",
      "\n",
      "\n",
      "\n",
      "Episode took 2.952279188999455\n",
      "\n",
      "\n"
     ]
    },
    {
     "name": "stderr",
     "output_type": "stream",
     "text": [
      "/home/pbilko/miniconda3/envs/PP/lib/python3.9/site-packages/deap/creator.py:138: RuntimeWarning: A class named 'FitnessMin' has already been created and it will be overwritten. Consider deleting previous creation of that class or rename it.\n",
      "  warnings.warn(\"A class named '{0}' has already been created and it \"\n",
      "/home/pbilko/miniconda3/envs/PP/lib/python3.9/site-packages/deap/creator.py:138: RuntimeWarning: A class named 'Individual' has already been created and it will be overwritten. Consider deleting previous creation of that class or rename it.\n",
      "  warnings.warn(\"A class named '{0}' has already been created and it \"\n",
      "/home/pbilko/STUDIA/Neuronowa Adaptacja Operatorów Wariacyjnych/deep_rl_ga/ga_env.py:320: RuntimeWarning: divide by zero encountered in log\n",
      "  return -np.log(self.curr_best_fitness / self.prev_best_fitness)\n"
     ]
    },
    {
     "name": "stdout",
     "output_type": "stream",
     "text": [
      "Episode 130 \n",
      "\n",
      "\n",
      "\n",
      "Episode took 2.99732605600002\n",
      "\n",
      "\n"
     ]
    },
    {
     "name": "stderr",
     "output_type": "stream",
     "text": [
      "/home/pbilko/miniconda3/envs/PP/lib/python3.9/site-packages/deap/creator.py:138: RuntimeWarning: A class named 'FitnessMin' has already been created and it will be overwritten. Consider deleting previous creation of that class or rename it.\n",
      "  warnings.warn(\"A class named '{0}' has already been created and it \"\n",
      "/home/pbilko/miniconda3/envs/PP/lib/python3.9/site-packages/deap/creator.py:138: RuntimeWarning: A class named 'Individual' has already been created and it will be overwritten. Consider deleting previous creation of that class or rename it.\n",
      "  warnings.warn(\"A class named '{0}' has already been created and it \"\n",
      "/home/pbilko/STUDIA/Neuronowa Adaptacja Operatorów Wariacyjnych/deep_rl_ga/ga_env.py:320: RuntimeWarning: divide by zero encountered in log\n",
      "  return -np.log(self.curr_best_fitness / self.prev_best_fitness)\n"
     ]
    },
    {
     "name": "stdout",
     "output_type": "stream",
     "text": [
      "Episode 131 \n",
      "\n",
      "\n",
      "\n",
      "Episode took 3.1348619119999057\n",
      "\n",
      "\n"
     ]
    },
    {
     "name": "stderr",
     "output_type": "stream",
     "text": [
      "/home/pbilko/miniconda3/envs/PP/lib/python3.9/site-packages/deap/creator.py:138: RuntimeWarning: A class named 'FitnessMin' has already been created and it will be overwritten. Consider deleting previous creation of that class or rename it.\n",
      "  warnings.warn(\"A class named '{0}' has already been created and it \"\n",
      "/home/pbilko/miniconda3/envs/PP/lib/python3.9/site-packages/deap/creator.py:138: RuntimeWarning: A class named 'Individual' has already been created and it will be overwritten. Consider deleting previous creation of that class or rename it.\n",
      "  warnings.warn(\"A class named '{0}' has already been created and it \"\n",
      "/home/pbilko/STUDIA/Neuronowa Adaptacja Operatorów Wariacyjnych/deep_rl_ga/ga_env.py:320: RuntimeWarning: divide by zero encountered in log\n",
      "  return -np.log(self.curr_best_fitness / self.prev_best_fitness)\n"
     ]
    },
    {
     "name": "stdout",
     "output_type": "stream",
     "text": [
      "Episode 132 \n",
      "\n",
      "\n",
      "\n",
      "Episode took 3.05378114099949\n",
      "\n",
      "\n"
     ]
    },
    {
     "name": "stderr",
     "output_type": "stream",
     "text": [
      "/home/pbilko/miniconda3/envs/PP/lib/python3.9/site-packages/deap/creator.py:138: RuntimeWarning: A class named 'FitnessMin' has already been created and it will be overwritten. Consider deleting previous creation of that class or rename it.\n",
      "  warnings.warn(\"A class named '{0}' has already been created and it \"\n",
      "/home/pbilko/miniconda3/envs/PP/lib/python3.9/site-packages/deap/creator.py:138: RuntimeWarning: A class named 'Individual' has already been created and it will be overwritten. Consider deleting previous creation of that class or rename it.\n",
      "  warnings.warn(\"A class named '{0}' has already been created and it \"\n",
      "/home/pbilko/STUDIA/Neuronowa Adaptacja Operatorów Wariacyjnych/deep_rl_ga/ga_env.py:320: RuntimeWarning: divide by zero encountered in log\n",
      "  return -np.log(self.curr_best_fitness / self.prev_best_fitness)\n"
     ]
    },
    {
     "name": "stdout",
     "output_type": "stream",
     "text": [
      "Episode 133 \n",
      "\n",
      "\n",
      "\n",
      "Episode took 3.069060227000591\n",
      "\n",
      "\n"
     ]
    },
    {
     "name": "stderr",
     "output_type": "stream",
     "text": [
      "/home/pbilko/miniconda3/envs/PP/lib/python3.9/site-packages/deap/creator.py:138: RuntimeWarning: A class named 'FitnessMin' has already been created and it will be overwritten. Consider deleting previous creation of that class or rename it.\n",
      "  warnings.warn(\"A class named '{0}' has already been created and it \"\n",
      "/home/pbilko/miniconda3/envs/PP/lib/python3.9/site-packages/deap/creator.py:138: RuntimeWarning: A class named 'Individual' has already been created and it will be overwritten. Consider deleting previous creation of that class or rename it.\n",
      "  warnings.warn(\"A class named '{0}' has already been created and it \"\n",
      "/home/pbilko/STUDIA/Neuronowa Adaptacja Operatorów Wariacyjnych/deep_rl_ga/ga_env.py:320: RuntimeWarning: divide by zero encountered in log\n",
      "  return -np.log(self.curr_best_fitness / self.prev_best_fitness)\n"
     ]
    },
    {
     "name": "stdout",
     "output_type": "stream",
     "text": [
      "Episode 134 \n",
      "\n",
      "\n",
      "\n",
      "Episode took 3.100639352000144\n",
      "\n",
      "\n"
     ]
    },
    {
     "name": "stderr",
     "output_type": "stream",
     "text": [
      "/home/pbilko/miniconda3/envs/PP/lib/python3.9/site-packages/deap/creator.py:138: RuntimeWarning: A class named 'FitnessMin' has already been created and it will be overwritten. Consider deleting previous creation of that class or rename it.\n",
      "  warnings.warn(\"A class named '{0}' has already been created and it \"\n",
      "/home/pbilko/miniconda3/envs/PP/lib/python3.9/site-packages/deap/creator.py:138: RuntimeWarning: A class named 'Individual' has already been created and it will be overwritten. Consider deleting previous creation of that class or rename it.\n",
      "  warnings.warn(\"A class named '{0}' has already been created and it \"\n",
      "/home/pbilko/STUDIA/Neuronowa Adaptacja Operatorów Wariacyjnych/deep_rl_ga/ga_env.py:320: RuntimeWarning: divide by zero encountered in log\n",
      "  return -np.log(self.curr_best_fitness / self.prev_best_fitness)\n"
     ]
    },
    {
     "name": "stdout",
     "output_type": "stream",
     "text": [
      "Episode 135 \n",
      "\n",
      "\n",
      "\n",
      "Episode took 2.8309918329996435\n",
      "\n",
      "\n"
     ]
    },
    {
     "name": "stderr",
     "output_type": "stream",
     "text": [
      "/home/pbilko/miniconda3/envs/PP/lib/python3.9/site-packages/deap/creator.py:138: RuntimeWarning: A class named 'FitnessMin' has already been created and it will be overwritten. Consider deleting previous creation of that class or rename it.\n",
      "  warnings.warn(\"A class named '{0}' has already been created and it \"\n",
      "/home/pbilko/miniconda3/envs/PP/lib/python3.9/site-packages/deap/creator.py:138: RuntimeWarning: A class named 'Individual' has already been created and it will be overwritten. Consider deleting previous creation of that class or rename it.\n",
      "  warnings.warn(\"A class named '{0}' has already been created and it \"\n",
      "/home/pbilko/STUDIA/Neuronowa Adaptacja Operatorów Wariacyjnych/deep_rl_ga/ga_env.py:320: RuntimeWarning: divide by zero encountered in log\n",
      "  return -np.log(self.curr_best_fitness / self.prev_best_fitness)\n"
     ]
    },
    {
     "name": "stdout",
     "output_type": "stream",
     "text": [
      "Episode 136 \n",
      "\n",
      "\n",
      "\n",
      "Episode took 3.0535704220001207\n",
      "\n",
      "\n"
     ]
    },
    {
     "name": "stderr",
     "output_type": "stream",
     "text": [
      "/home/pbilko/miniconda3/envs/PP/lib/python3.9/site-packages/deap/creator.py:138: RuntimeWarning: A class named 'FitnessMin' has already been created and it will be overwritten. Consider deleting previous creation of that class or rename it.\n",
      "  warnings.warn(\"A class named '{0}' has already been created and it \"\n",
      "/home/pbilko/miniconda3/envs/PP/lib/python3.9/site-packages/deap/creator.py:138: RuntimeWarning: A class named 'Individual' has already been created and it will be overwritten. Consider deleting previous creation of that class or rename it.\n",
      "  warnings.warn(\"A class named '{0}' has already been created and it \"\n",
      "/home/pbilko/STUDIA/Neuronowa Adaptacja Operatorów Wariacyjnych/deep_rl_ga/ga_env.py:320: RuntimeWarning: divide by zero encountered in log\n",
      "  return -np.log(self.curr_best_fitness / self.prev_best_fitness)\n"
     ]
    },
    {
     "name": "stdout",
     "output_type": "stream",
     "text": [
      "Episode 137 \n",
      "\n",
      "\n",
      "\n",
      "Episode took 3.0410417880011664\n",
      "\n",
      "\n"
     ]
    },
    {
     "name": "stderr",
     "output_type": "stream",
     "text": [
      "/home/pbilko/miniconda3/envs/PP/lib/python3.9/site-packages/deap/creator.py:138: RuntimeWarning: A class named 'FitnessMin' has already been created and it will be overwritten. Consider deleting previous creation of that class or rename it.\n",
      "  warnings.warn(\"A class named '{0}' has already been created and it \"\n",
      "/home/pbilko/miniconda3/envs/PP/lib/python3.9/site-packages/deap/creator.py:138: RuntimeWarning: A class named 'Individual' has already been created and it will be overwritten. Consider deleting previous creation of that class or rename it.\n",
      "  warnings.warn(\"A class named '{0}' has already been created and it \"\n",
      "/home/pbilko/STUDIA/Neuronowa Adaptacja Operatorów Wariacyjnych/deep_rl_ga/ga_env.py:320: RuntimeWarning: divide by zero encountered in log\n",
      "  return -np.log(self.curr_best_fitness / self.prev_best_fitness)\n"
     ]
    },
    {
     "name": "stdout",
     "output_type": "stream",
     "text": [
      "Episode 138 \n",
      "\n",
      "\n",
      "\n",
      "Episode took 2.965730992000317\n",
      "\n",
      "\n"
     ]
    },
    {
     "name": "stderr",
     "output_type": "stream",
     "text": [
      "/home/pbilko/miniconda3/envs/PP/lib/python3.9/site-packages/deap/creator.py:138: RuntimeWarning: A class named 'FitnessMin' has already been created and it will be overwritten. Consider deleting previous creation of that class or rename it.\n",
      "  warnings.warn(\"A class named '{0}' has already been created and it \"\n",
      "/home/pbilko/miniconda3/envs/PP/lib/python3.9/site-packages/deap/creator.py:138: RuntimeWarning: A class named 'Individual' has already been created and it will be overwritten. Consider deleting previous creation of that class or rename it.\n",
      "  warnings.warn(\"A class named '{0}' has already been created and it \"\n",
      "/home/pbilko/STUDIA/Neuronowa Adaptacja Operatorów Wariacyjnych/deep_rl_ga/ga_env.py:320: RuntimeWarning: divide by zero encountered in log\n",
      "  return -np.log(self.curr_best_fitness / self.prev_best_fitness)\n"
     ]
    },
    {
     "name": "stdout",
     "output_type": "stream",
     "text": [
      "Episode 139 \n",
      "\n",
      "\n",
      "\n",
      "Episode took 3.17086512700007\n",
      "\n",
      "\n"
     ]
    },
    {
     "name": "stderr",
     "output_type": "stream",
     "text": [
      "/home/pbilko/miniconda3/envs/PP/lib/python3.9/site-packages/deap/creator.py:138: RuntimeWarning: A class named 'FitnessMin' has already been created and it will be overwritten. Consider deleting previous creation of that class or rename it.\n",
      "  warnings.warn(\"A class named '{0}' has already been created and it \"\n",
      "/home/pbilko/miniconda3/envs/PP/lib/python3.9/site-packages/deap/creator.py:138: RuntimeWarning: A class named 'Individual' has already been created and it will be overwritten. Consider deleting previous creation of that class or rename it.\n",
      "  warnings.warn(\"A class named '{0}' has already been created and it \"\n",
      "/home/pbilko/STUDIA/Neuronowa Adaptacja Operatorów Wariacyjnych/deep_rl_ga/ga_env.py:320: RuntimeWarning: divide by zero encountered in log\n",
      "  return -np.log(self.curr_best_fitness / self.prev_best_fitness)\n"
     ]
    },
    {
     "name": "stdout",
     "output_type": "stream",
     "text": [
      "Episode 140 \n",
      "\n",
      "\n",
      "\n",
      "Episode took 3.0834331380010553\n",
      "\n",
      "\n"
     ]
    },
    {
     "name": "stderr",
     "output_type": "stream",
     "text": [
      "/home/pbilko/miniconda3/envs/PP/lib/python3.9/site-packages/deap/creator.py:138: RuntimeWarning: A class named 'FitnessMin' has already been created and it will be overwritten. Consider deleting previous creation of that class or rename it.\n",
      "  warnings.warn(\"A class named '{0}' has already been created and it \"\n",
      "/home/pbilko/miniconda3/envs/PP/lib/python3.9/site-packages/deap/creator.py:138: RuntimeWarning: A class named 'Individual' has already been created and it will be overwritten. Consider deleting previous creation of that class or rename it.\n",
      "  warnings.warn(\"A class named '{0}' has already been created and it \"\n",
      "/home/pbilko/STUDIA/Neuronowa Adaptacja Operatorów Wariacyjnych/deep_rl_ga/ga_env.py:320: RuntimeWarning: divide by zero encountered in log\n",
      "  return -np.log(self.curr_best_fitness / self.prev_best_fitness)\n"
     ]
    },
    {
     "name": "stdout",
     "output_type": "stream",
     "text": [
      "Episode 141 \n",
      "\n",
      "\n",
      "\n",
      "Episode took 3.0950228349993267\n",
      "\n",
      "\n"
     ]
    },
    {
     "name": "stderr",
     "output_type": "stream",
     "text": [
      "/home/pbilko/miniconda3/envs/PP/lib/python3.9/site-packages/deap/creator.py:138: RuntimeWarning: A class named 'FitnessMin' has already been created and it will be overwritten. Consider deleting previous creation of that class or rename it.\n",
      "  warnings.warn(\"A class named '{0}' has already been created and it \"\n",
      "/home/pbilko/miniconda3/envs/PP/lib/python3.9/site-packages/deap/creator.py:138: RuntimeWarning: A class named 'Individual' has already been created and it will be overwritten. Consider deleting previous creation of that class or rename it.\n",
      "  warnings.warn(\"A class named '{0}' has already been created and it \"\n",
      "/home/pbilko/STUDIA/Neuronowa Adaptacja Operatorów Wariacyjnych/deep_rl_ga/ga_env.py:320: RuntimeWarning: divide by zero encountered in log\n",
      "  return -np.log(self.curr_best_fitness / self.prev_best_fitness)\n"
     ]
    },
    {
     "name": "stdout",
     "output_type": "stream",
     "text": [
      "Episode 142 \n",
      "\n",
      "\n",
      "\n",
      "Episode took 3.1051902460003475\n",
      "\n",
      "\n"
     ]
    },
    {
     "name": "stderr",
     "output_type": "stream",
     "text": [
      "/home/pbilko/miniconda3/envs/PP/lib/python3.9/site-packages/deap/creator.py:138: RuntimeWarning: A class named 'FitnessMin' has already been created and it will be overwritten. Consider deleting previous creation of that class or rename it.\n",
      "  warnings.warn(\"A class named '{0}' has already been created and it \"\n",
      "/home/pbilko/miniconda3/envs/PP/lib/python3.9/site-packages/deap/creator.py:138: RuntimeWarning: A class named 'Individual' has already been created and it will be overwritten. Consider deleting previous creation of that class or rename it.\n",
      "  warnings.warn(\"A class named '{0}' has already been created and it \"\n",
      "/home/pbilko/STUDIA/Neuronowa Adaptacja Operatorów Wariacyjnych/deep_rl_ga/ga_env.py:320: RuntimeWarning: divide by zero encountered in log\n",
      "  return -np.log(self.curr_best_fitness / self.prev_best_fitness)\n"
     ]
    },
    {
     "name": "stdout",
     "output_type": "stream",
     "text": [
      "Episode 143 \n",
      "\n",
      "\n",
      "\n",
      "Episode took 2.9882268869987456\n",
      "\n",
      "\n"
     ]
    },
    {
     "name": "stderr",
     "output_type": "stream",
     "text": [
      "/home/pbilko/miniconda3/envs/PP/lib/python3.9/site-packages/deap/creator.py:138: RuntimeWarning: A class named 'FitnessMin' has already been created and it will be overwritten. Consider deleting previous creation of that class or rename it.\n",
      "  warnings.warn(\"A class named '{0}' has already been created and it \"\n",
      "/home/pbilko/miniconda3/envs/PP/lib/python3.9/site-packages/deap/creator.py:138: RuntimeWarning: A class named 'Individual' has already been created and it will be overwritten. Consider deleting previous creation of that class or rename it.\n",
      "  warnings.warn(\"A class named '{0}' has already been created and it \"\n",
      "/home/pbilko/STUDIA/Neuronowa Adaptacja Operatorów Wariacyjnych/deep_rl_ga/ga_env.py:320: RuntimeWarning: divide by zero encountered in log\n",
      "  return -np.log(self.curr_best_fitness / self.prev_best_fitness)\n"
     ]
    },
    {
     "name": "stdout",
     "output_type": "stream",
     "text": [
      "Episode 144 \n",
      "\n",
      "\n",
      "\n",
      "Episode took 2.9326628069993603\n",
      "\n",
      "\n"
     ]
    },
    {
     "name": "stderr",
     "output_type": "stream",
     "text": [
      "/home/pbilko/miniconda3/envs/PP/lib/python3.9/site-packages/deap/creator.py:138: RuntimeWarning: A class named 'FitnessMin' has already been created and it will be overwritten. Consider deleting previous creation of that class or rename it.\n",
      "  warnings.warn(\"A class named '{0}' has already been created and it \"\n",
      "/home/pbilko/miniconda3/envs/PP/lib/python3.9/site-packages/deap/creator.py:138: RuntimeWarning: A class named 'Individual' has already been created and it will be overwritten. Consider deleting previous creation of that class or rename it.\n",
      "  warnings.warn(\"A class named '{0}' has already been created and it \"\n",
      "/home/pbilko/STUDIA/Neuronowa Adaptacja Operatorów Wariacyjnych/deep_rl_ga/ga_env.py:320: RuntimeWarning: divide by zero encountered in log\n",
      "  return -np.log(self.curr_best_fitness / self.prev_best_fitness)\n"
     ]
    },
    {
     "name": "stdout",
     "output_type": "stream",
     "text": [
      "Episode 145 \n",
      "\n",
      "\n",
      "\n",
      "Episode took 2.9927505159994325\n",
      "\n",
      "\n"
     ]
    },
    {
     "name": "stderr",
     "output_type": "stream",
     "text": [
      "/home/pbilko/miniconda3/envs/PP/lib/python3.9/site-packages/deap/creator.py:138: RuntimeWarning: A class named 'FitnessMin' has already been created and it will be overwritten. Consider deleting previous creation of that class or rename it.\n",
      "  warnings.warn(\"A class named '{0}' has already been created and it \"\n",
      "/home/pbilko/miniconda3/envs/PP/lib/python3.9/site-packages/deap/creator.py:138: RuntimeWarning: A class named 'Individual' has already been created and it will be overwritten. Consider deleting previous creation of that class or rename it.\n",
      "  warnings.warn(\"A class named '{0}' has already been created and it \"\n",
      "/home/pbilko/STUDIA/Neuronowa Adaptacja Operatorów Wariacyjnych/deep_rl_ga/ga_env.py:320: RuntimeWarning: divide by zero encountered in log\n",
      "  return -np.log(self.curr_best_fitness / self.prev_best_fitness)\n"
     ]
    },
    {
     "name": "stdout",
     "output_type": "stream",
     "text": [
      "Episode 146 \n",
      "\n",
      "\n",
      "\n",
      "Episode took 2.838212986000144\n",
      "\n",
      "\n"
     ]
    },
    {
     "name": "stderr",
     "output_type": "stream",
     "text": [
      "/home/pbilko/miniconda3/envs/PP/lib/python3.9/site-packages/deap/creator.py:138: RuntimeWarning: A class named 'FitnessMin' has already been created and it will be overwritten. Consider deleting previous creation of that class or rename it.\n",
      "  warnings.warn(\"A class named '{0}' has already been created and it \"\n",
      "/home/pbilko/miniconda3/envs/PP/lib/python3.9/site-packages/deap/creator.py:138: RuntimeWarning: A class named 'Individual' has already been created and it will be overwritten. Consider deleting previous creation of that class or rename it.\n",
      "  warnings.warn(\"A class named '{0}' has already been created and it \"\n",
      "/home/pbilko/STUDIA/Neuronowa Adaptacja Operatorów Wariacyjnych/deep_rl_ga/ga_env.py:320: RuntimeWarning: divide by zero encountered in log\n",
      "  return -np.log(self.curr_best_fitness / self.prev_best_fitness)\n"
     ]
    },
    {
     "name": "stdout",
     "output_type": "stream",
     "text": [
      "Episode 147 \n",
      "\n",
      "\n",
      "\n",
      "Episode took 2.839097359999869\n",
      "\n",
      "\n"
     ]
    },
    {
     "name": "stderr",
     "output_type": "stream",
     "text": [
      "/home/pbilko/miniconda3/envs/PP/lib/python3.9/site-packages/deap/creator.py:138: RuntimeWarning: A class named 'FitnessMin' has already been created and it will be overwritten. Consider deleting previous creation of that class or rename it.\n",
      "  warnings.warn(\"A class named '{0}' has already been created and it \"\n",
      "/home/pbilko/miniconda3/envs/PP/lib/python3.9/site-packages/deap/creator.py:138: RuntimeWarning: A class named 'Individual' has already been created and it will be overwritten. Consider deleting previous creation of that class or rename it.\n",
      "  warnings.warn(\"A class named '{0}' has already been created and it \"\n",
      "/home/pbilko/STUDIA/Neuronowa Adaptacja Operatorów Wariacyjnych/deep_rl_ga/ga_env.py:320: RuntimeWarning: divide by zero encountered in log\n",
      "  return -np.log(self.curr_best_fitness / self.prev_best_fitness)\n"
     ]
    },
    {
     "name": "stdout",
     "output_type": "stream",
     "text": [
      "Episode 148 \n",
      "\n",
      "\n",
      "\n",
      "Episode took 2.748471848999543\n",
      "\n",
      "\n"
     ]
    },
    {
     "name": "stderr",
     "output_type": "stream",
     "text": [
      "/home/pbilko/miniconda3/envs/PP/lib/python3.9/site-packages/deap/creator.py:138: RuntimeWarning: A class named 'FitnessMin' has already been created and it will be overwritten. Consider deleting previous creation of that class or rename it.\n",
      "  warnings.warn(\"A class named '{0}' has already been created and it \"\n",
      "/home/pbilko/miniconda3/envs/PP/lib/python3.9/site-packages/deap/creator.py:138: RuntimeWarning: A class named 'Individual' has already been created and it will be overwritten. Consider deleting previous creation of that class or rename it.\n",
      "  warnings.warn(\"A class named '{0}' has already been created and it \"\n",
      "/home/pbilko/STUDIA/Neuronowa Adaptacja Operatorów Wariacyjnych/deep_rl_ga/ga_env.py:320: RuntimeWarning: divide by zero encountered in log\n",
      "  return -np.log(self.curr_best_fitness / self.prev_best_fitness)\n"
     ]
    },
    {
     "name": "stdout",
     "output_type": "stream",
     "text": [
      "Episode 149 \n",
      "\n",
      "\n",
      "\n",
      "Episode took 2.8925795720006136\n",
      "\n",
      "\n"
     ]
    },
    {
     "name": "stderr",
     "output_type": "stream",
     "text": [
      "/home/pbilko/miniconda3/envs/PP/lib/python3.9/site-packages/deap/creator.py:138: RuntimeWarning: A class named 'FitnessMin' has already been created and it will be overwritten. Consider deleting previous creation of that class or rename it.\n",
      "  warnings.warn(\"A class named '{0}' has already been created and it \"\n",
      "/home/pbilko/miniconda3/envs/PP/lib/python3.9/site-packages/deap/creator.py:138: RuntimeWarning: A class named 'Individual' has already been created and it will be overwritten. Consider deleting previous creation of that class or rename it.\n",
      "  warnings.warn(\"A class named '{0}' has already been created and it \"\n",
      "/home/pbilko/STUDIA/Neuronowa Adaptacja Operatorów Wariacyjnych/deep_rl_ga/ga_env.py:320: RuntimeWarning: divide by zero encountered in log\n",
      "  return -np.log(self.curr_best_fitness / self.prev_best_fitness)\n"
     ]
    },
    {
     "name": "stdout",
     "output_type": "stream",
     "text": [
      "Episode 150 \n",
      "\n",
      "\n",
      "\n",
      "Episode took 3.129706416000772\n",
      "\n",
      "\n"
     ]
    },
    {
     "name": "stderr",
     "output_type": "stream",
     "text": [
      "/home/pbilko/miniconda3/envs/PP/lib/python3.9/site-packages/deap/creator.py:138: RuntimeWarning: A class named 'FitnessMin' has already been created and it will be overwritten. Consider deleting previous creation of that class or rename it.\n",
      "  warnings.warn(\"A class named '{0}' has already been created and it \"\n",
      "/home/pbilko/miniconda3/envs/PP/lib/python3.9/site-packages/deap/creator.py:138: RuntimeWarning: A class named 'Individual' has already been created and it will be overwritten. Consider deleting previous creation of that class or rename it.\n",
      "  warnings.warn(\"A class named '{0}' has already been created and it \"\n",
      "/home/pbilko/STUDIA/Neuronowa Adaptacja Operatorów Wariacyjnych/deep_rl_ga/ga_env.py:320: RuntimeWarning: divide by zero encountered in log\n",
      "  return -np.log(self.curr_best_fitness / self.prev_best_fitness)\n"
     ]
    },
    {
     "name": "stdout",
     "output_type": "stream",
     "text": [
      "Episode 151 \n",
      "\n",
      "\n",
      "\n",
      "Episode took 3.1337344969997503\n",
      "\n",
      "\n"
     ]
    },
    {
     "name": "stderr",
     "output_type": "stream",
     "text": [
      "/home/pbilko/miniconda3/envs/PP/lib/python3.9/site-packages/numpy/core/fromnumeric.py:3474: RuntimeWarning: Mean of empty slice.\n",
      "  return _methods._mean(a, axis=axis, dtype=dtype,\n",
      "/home/pbilko/miniconda3/envs/PP/lib/python3.9/site-packages/numpy/core/_methods.py:189: RuntimeWarning: invalid value encountered in double_scalars\n",
      "  ret = ret.dtype.type(ret / rcount)\n",
      "/home/pbilko/miniconda3/envs/PP/lib/python3.9/site-packages/deap/creator.py:138: RuntimeWarning: A class named 'FitnessMin' has already been created and it will be overwritten. Consider deleting previous creation of that class or rename it.\n",
      "  warnings.warn(\"A class named '{0}' has already been created and it \"\n",
      "/home/pbilko/miniconda3/envs/PP/lib/python3.9/site-packages/deap/creator.py:138: RuntimeWarning: A class named 'Individual' has already been created and it will be overwritten. Consider deleting previous creation of that class or rename it.\n",
      "  warnings.warn(\"A class named '{0}' has already been created and it \"\n",
      "/home/pbilko/STUDIA/Neuronowa Adaptacja Operatorów Wariacyjnych/deep_rl_ga/ga_env.py:320: RuntimeWarning: divide by zero encountered in log\n",
      "  return -np.log(self.curr_best_fitness / self.prev_best_fitness)\n"
     ]
    },
    {
     "name": "stdout",
     "output_type": "stream",
     "text": [
      "Episode 152 \n",
      "\n",
      "\n",
      "\n",
      "Episode took 3.338500698999269\n",
      "\n",
      "\n"
     ]
    },
    {
     "name": "stderr",
     "output_type": "stream",
     "text": [
      "/home/pbilko/miniconda3/envs/PP/lib/python3.9/site-packages/deap/creator.py:138: RuntimeWarning: A class named 'FitnessMin' has already been created and it will be overwritten. Consider deleting previous creation of that class or rename it.\n",
      "  warnings.warn(\"A class named '{0}' has already been created and it \"\n",
      "/home/pbilko/miniconda3/envs/PP/lib/python3.9/site-packages/deap/creator.py:138: RuntimeWarning: A class named 'Individual' has already been created and it will be overwritten. Consider deleting previous creation of that class or rename it.\n",
      "  warnings.warn(\"A class named '{0}' has already been created and it \"\n",
      "/home/pbilko/STUDIA/Neuronowa Adaptacja Operatorów Wariacyjnych/deep_rl_ga/ga_env.py:320: RuntimeWarning: divide by zero encountered in log\n",
      "  return -np.log(self.curr_best_fitness / self.prev_best_fitness)\n"
     ]
    },
    {
     "name": "stdout",
     "output_type": "stream",
     "text": [
      "Episode 153 \n",
      "\n",
      "\n",
      "\n",
      "Episode took 3.3312831840012223\n",
      "\n",
      "\n"
     ]
    },
    {
     "name": "stderr",
     "output_type": "stream",
     "text": [
      "/home/pbilko/miniconda3/envs/PP/lib/python3.9/site-packages/deap/creator.py:138: RuntimeWarning: A class named 'FitnessMin' has already been created and it will be overwritten. Consider deleting previous creation of that class or rename it.\n",
      "  warnings.warn(\"A class named '{0}' has already been created and it \"\n",
      "/home/pbilko/miniconda3/envs/PP/lib/python3.9/site-packages/deap/creator.py:138: RuntimeWarning: A class named 'Individual' has already been created and it will be overwritten. Consider deleting previous creation of that class or rename it.\n",
      "  warnings.warn(\"A class named '{0}' has already been created and it \"\n",
      "/home/pbilko/STUDIA/Neuronowa Adaptacja Operatorów Wariacyjnych/deep_rl_ga/ga_env.py:320: RuntimeWarning: divide by zero encountered in log\n",
      "  return -np.log(self.curr_best_fitness / self.prev_best_fitness)\n"
     ]
    },
    {
     "name": "stdout",
     "output_type": "stream",
     "text": [
      "Episode 154 \n",
      "\n",
      "\n",
      "\n",
      "Episode took 3.0888399520008534\n",
      "\n",
      "\n"
     ]
    },
    {
     "name": "stderr",
     "output_type": "stream",
     "text": [
      "/home/pbilko/miniconda3/envs/PP/lib/python3.9/site-packages/deap/creator.py:138: RuntimeWarning: A class named 'FitnessMin' has already been created and it will be overwritten. Consider deleting previous creation of that class or rename it.\n",
      "  warnings.warn(\"A class named '{0}' has already been created and it \"\n",
      "/home/pbilko/miniconda3/envs/PP/lib/python3.9/site-packages/deap/creator.py:138: RuntimeWarning: A class named 'Individual' has already been created and it will be overwritten. Consider deleting previous creation of that class or rename it.\n",
      "  warnings.warn(\"A class named '{0}' has already been created and it \"\n",
      "/home/pbilko/STUDIA/Neuronowa Adaptacja Operatorów Wariacyjnych/deep_rl_ga/ga_env.py:320: RuntimeWarning: divide by zero encountered in log\n",
      "  return -np.log(self.curr_best_fitness / self.prev_best_fitness)\n"
     ]
    },
    {
     "name": "stdout",
     "output_type": "stream",
     "text": [
      "Episode 155 \n",
      "\n",
      "\n",
      "\n",
      "Episode took 2.903443076000258\n",
      "\n",
      "\n"
     ]
    },
    {
     "name": "stderr",
     "output_type": "stream",
     "text": [
      "/home/pbilko/miniconda3/envs/PP/lib/python3.9/site-packages/deap/creator.py:138: RuntimeWarning: A class named 'FitnessMin' has already been created and it will be overwritten. Consider deleting previous creation of that class or rename it.\n",
      "  warnings.warn(\"A class named '{0}' has already been created and it \"\n",
      "/home/pbilko/miniconda3/envs/PP/lib/python3.9/site-packages/deap/creator.py:138: RuntimeWarning: A class named 'Individual' has already been created and it will be overwritten. Consider deleting previous creation of that class or rename it.\n",
      "  warnings.warn(\"A class named '{0}' has already been created and it \"\n",
      "/home/pbilko/STUDIA/Neuronowa Adaptacja Operatorów Wariacyjnych/deep_rl_ga/ga_env.py:320: RuntimeWarning: divide by zero encountered in log\n",
      "  return -np.log(self.curr_best_fitness / self.prev_best_fitness)\n"
     ]
    },
    {
     "name": "stdout",
     "output_type": "stream",
     "text": [
      "Episode 156 \n",
      "\n",
      "\n",
      "\n",
      "Episode took 2.7790581959998235\n",
      "\n",
      "\n"
     ]
    },
    {
     "name": "stderr",
     "output_type": "stream",
     "text": [
      "/home/pbilko/miniconda3/envs/PP/lib/python3.9/site-packages/deap/creator.py:138: RuntimeWarning: A class named 'FitnessMin' has already been created and it will be overwritten. Consider deleting previous creation of that class or rename it.\n",
      "  warnings.warn(\"A class named '{0}' has already been created and it \"\n",
      "/home/pbilko/miniconda3/envs/PP/lib/python3.9/site-packages/deap/creator.py:138: RuntimeWarning: A class named 'Individual' has already been created and it will be overwritten. Consider deleting previous creation of that class or rename it.\n",
      "  warnings.warn(\"A class named '{0}' has already been created and it \"\n",
      "/home/pbilko/STUDIA/Neuronowa Adaptacja Operatorów Wariacyjnych/deep_rl_ga/ga_env.py:320: RuntimeWarning: divide by zero encountered in log\n",
      "  return -np.log(self.curr_best_fitness / self.prev_best_fitness)\n"
     ]
    },
    {
     "name": "stdout",
     "output_type": "stream",
     "text": [
      "Episode 157 \n",
      "\n",
      "\n",
      "\n",
      "Episode took 3.0778817539994634\n",
      "\n",
      "\n"
     ]
    },
    {
     "name": "stderr",
     "output_type": "stream",
     "text": [
      "/home/pbilko/miniconda3/envs/PP/lib/python3.9/site-packages/deap/creator.py:138: RuntimeWarning: A class named 'FitnessMin' has already been created and it will be overwritten. Consider deleting previous creation of that class or rename it.\n",
      "  warnings.warn(\"A class named '{0}' has already been created and it \"\n",
      "/home/pbilko/miniconda3/envs/PP/lib/python3.9/site-packages/deap/creator.py:138: RuntimeWarning: A class named 'Individual' has already been created and it will be overwritten. Consider deleting previous creation of that class or rename it.\n",
      "  warnings.warn(\"A class named '{0}' has already been created and it \"\n",
      "/home/pbilko/STUDIA/Neuronowa Adaptacja Operatorów Wariacyjnych/deep_rl_ga/ga_env.py:320: RuntimeWarning: divide by zero encountered in log\n",
      "  return -np.log(self.curr_best_fitness / self.prev_best_fitness)\n"
     ]
    },
    {
     "name": "stdout",
     "output_type": "stream",
     "text": [
      "Episode 158 \n",
      "\n",
      "\n",
      "\n",
      "Episode took 3.0412746609999886\n",
      "\n",
      "\n"
     ]
    },
    {
     "name": "stderr",
     "output_type": "stream",
     "text": [
      "/home/pbilko/miniconda3/envs/PP/lib/python3.9/site-packages/deap/creator.py:138: RuntimeWarning: A class named 'FitnessMin' has already been created and it will be overwritten. Consider deleting previous creation of that class or rename it.\n",
      "  warnings.warn(\"A class named '{0}' has already been created and it \"\n",
      "/home/pbilko/miniconda3/envs/PP/lib/python3.9/site-packages/deap/creator.py:138: RuntimeWarning: A class named 'Individual' has already been created and it will be overwritten. Consider deleting previous creation of that class or rename it.\n",
      "  warnings.warn(\"A class named '{0}' has already been created and it \"\n",
      "/home/pbilko/STUDIA/Neuronowa Adaptacja Operatorów Wariacyjnych/deep_rl_ga/ga_env.py:320: RuntimeWarning: divide by zero encountered in log\n",
      "  return -np.log(self.curr_best_fitness / self.prev_best_fitness)\n"
     ]
    },
    {
     "name": "stdout",
     "output_type": "stream",
     "text": [
      "Episode 159 \n",
      "\n",
      "\n",
      "\n",
      "Episode took 2.809377638001024\n",
      "\n",
      "\n"
     ]
    },
    {
     "name": "stderr",
     "output_type": "stream",
     "text": [
      "/home/pbilko/miniconda3/envs/PP/lib/python3.9/site-packages/deap/creator.py:138: RuntimeWarning: A class named 'FitnessMin' has already been created and it will be overwritten. Consider deleting previous creation of that class or rename it.\n",
      "  warnings.warn(\"A class named '{0}' has already been created and it \"\n",
      "/home/pbilko/miniconda3/envs/PP/lib/python3.9/site-packages/deap/creator.py:138: RuntimeWarning: A class named 'Individual' has already been created and it will be overwritten. Consider deleting previous creation of that class or rename it.\n",
      "  warnings.warn(\"A class named '{0}' has already been created and it \"\n",
      "/home/pbilko/STUDIA/Neuronowa Adaptacja Operatorów Wariacyjnych/deep_rl_ga/ga_env.py:320: RuntimeWarning: divide by zero encountered in log\n",
      "  return -np.log(self.curr_best_fitness / self.prev_best_fitness)\n"
     ]
    },
    {
     "name": "stdout",
     "output_type": "stream",
     "text": [
      "Episode 160 \n",
      "\n",
      "\n",
      "\n",
      "Episode took 2.8706812590007758\n",
      "\n",
      "\n"
     ]
    },
    {
     "name": "stderr",
     "output_type": "stream",
     "text": [
      "/home/pbilko/miniconda3/envs/PP/lib/python3.9/site-packages/deap/creator.py:138: RuntimeWarning: A class named 'FitnessMin' has already been created and it will be overwritten. Consider deleting previous creation of that class or rename it.\n",
      "  warnings.warn(\"A class named '{0}' has already been created and it \"\n",
      "/home/pbilko/miniconda3/envs/PP/lib/python3.9/site-packages/deap/creator.py:138: RuntimeWarning: A class named 'Individual' has already been created and it will be overwritten. Consider deleting previous creation of that class or rename it.\n",
      "  warnings.warn(\"A class named '{0}' has already been created and it \"\n",
      "/home/pbilko/STUDIA/Neuronowa Adaptacja Operatorów Wariacyjnych/deep_rl_ga/ga_env.py:320: RuntimeWarning: divide by zero encountered in log\n",
      "  return -np.log(self.curr_best_fitness / self.prev_best_fitness)\n"
     ]
    },
    {
     "name": "stdout",
     "output_type": "stream",
     "text": [
      "Episode 161 \n",
      "\n",
      "\n",
      "\n",
      "Episode took 2.90825478700026\n",
      "\n",
      "\n"
     ]
    },
    {
     "name": "stderr",
     "output_type": "stream",
     "text": [
      "/home/pbilko/miniconda3/envs/PP/lib/python3.9/site-packages/deap/creator.py:138: RuntimeWarning: A class named 'FitnessMin' has already been created and it will be overwritten. Consider deleting previous creation of that class or rename it.\n",
      "  warnings.warn(\"A class named '{0}' has already been created and it \"\n",
      "/home/pbilko/miniconda3/envs/PP/lib/python3.9/site-packages/deap/creator.py:138: RuntimeWarning: A class named 'Individual' has already been created and it will be overwritten. Consider deleting previous creation of that class or rename it.\n",
      "  warnings.warn(\"A class named '{0}' has already been created and it \"\n",
      "/home/pbilko/STUDIA/Neuronowa Adaptacja Operatorów Wariacyjnych/deep_rl_ga/ga_env.py:320: RuntimeWarning: divide by zero encountered in log\n",
      "  return -np.log(self.curr_best_fitness / self.prev_best_fitness)\n"
     ]
    },
    {
     "name": "stdout",
     "output_type": "stream",
     "text": [
      "Episode 162 \n",
      "\n",
      "\n",
      "\n",
      "Episode took 3.0397620069998084\n",
      "\n",
      "\n"
     ]
    },
    {
     "name": "stderr",
     "output_type": "stream",
     "text": [
      "/home/pbilko/miniconda3/envs/PP/lib/python3.9/site-packages/deap/creator.py:138: RuntimeWarning: A class named 'FitnessMin' has already been created and it will be overwritten. Consider deleting previous creation of that class or rename it.\n",
      "  warnings.warn(\"A class named '{0}' has already been created and it \"\n",
      "/home/pbilko/miniconda3/envs/PP/lib/python3.9/site-packages/deap/creator.py:138: RuntimeWarning: A class named 'Individual' has already been created and it will be overwritten. Consider deleting previous creation of that class or rename it.\n",
      "  warnings.warn(\"A class named '{0}' has already been created and it \"\n",
      "/home/pbilko/STUDIA/Neuronowa Adaptacja Operatorów Wariacyjnych/deep_rl_ga/ga_env.py:320: RuntimeWarning: divide by zero encountered in log\n",
      "  return -np.log(self.curr_best_fitness / self.prev_best_fitness)\n"
     ]
    },
    {
     "name": "stdout",
     "output_type": "stream",
     "text": [
      "Episode 163 \n",
      "\n",
      "\n",
      "\n",
      "Episode took 3.210756426999069\n",
      "\n",
      "\n"
     ]
    },
    {
     "name": "stderr",
     "output_type": "stream",
     "text": [
      "/home/pbilko/miniconda3/envs/PP/lib/python3.9/site-packages/deap/creator.py:138: RuntimeWarning: A class named 'FitnessMin' has already been created and it will be overwritten. Consider deleting previous creation of that class or rename it.\n",
      "  warnings.warn(\"A class named '{0}' has already been created and it \"\n",
      "/home/pbilko/miniconda3/envs/PP/lib/python3.9/site-packages/deap/creator.py:138: RuntimeWarning: A class named 'Individual' has already been created and it will be overwritten. Consider deleting previous creation of that class or rename it.\n",
      "  warnings.warn(\"A class named '{0}' has already been created and it \"\n",
      "/home/pbilko/STUDIA/Neuronowa Adaptacja Operatorów Wariacyjnych/deep_rl_ga/ga_env.py:320: RuntimeWarning: divide by zero encountered in log\n",
      "  return -np.log(self.curr_best_fitness / self.prev_best_fitness)\n"
     ]
    },
    {
     "name": "stdout",
     "output_type": "stream",
     "text": [
      "Episode 164 \n",
      "\n",
      "\n",
      "\n",
      "Episode took 3.102171439000813\n",
      "\n",
      "\n"
     ]
    },
    {
     "name": "stderr",
     "output_type": "stream",
     "text": [
      "/home/pbilko/miniconda3/envs/PP/lib/python3.9/site-packages/deap/creator.py:138: RuntimeWarning: A class named 'FitnessMin' has already been created and it will be overwritten. Consider deleting previous creation of that class or rename it.\n",
      "  warnings.warn(\"A class named '{0}' has already been created and it \"\n",
      "/home/pbilko/miniconda3/envs/PP/lib/python3.9/site-packages/deap/creator.py:138: RuntimeWarning: A class named 'Individual' has already been created and it will be overwritten. Consider deleting previous creation of that class or rename it.\n",
      "  warnings.warn(\"A class named '{0}' has already been created and it \"\n",
      "/home/pbilko/STUDIA/Neuronowa Adaptacja Operatorów Wariacyjnych/deep_rl_ga/ga_env.py:320: RuntimeWarning: divide by zero encountered in log\n",
      "  return -np.log(self.curr_best_fitness / self.prev_best_fitness)\n"
     ]
    },
    {
     "name": "stdout",
     "output_type": "stream",
     "text": [
      "Episode 165 \n",
      "\n",
      "\n",
      "\n",
      "Episode took 3.09217427799922\n",
      "\n",
      "\n"
     ]
    },
    {
     "name": "stderr",
     "output_type": "stream",
     "text": [
      "/home/pbilko/miniconda3/envs/PP/lib/python3.9/site-packages/deap/creator.py:138: RuntimeWarning: A class named 'FitnessMin' has already been created and it will be overwritten. Consider deleting previous creation of that class or rename it.\n",
      "  warnings.warn(\"A class named '{0}' has already been created and it \"\n",
      "/home/pbilko/miniconda3/envs/PP/lib/python3.9/site-packages/deap/creator.py:138: RuntimeWarning: A class named 'Individual' has already been created and it will be overwritten. Consider deleting previous creation of that class or rename it.\n",
      "  warnings.warn(\"A class named '{0}' has already been created and it \"\n",
      "/home/pbilko/STUDIA/Neuronowa Adaptacja Operatorów Wariacyjnych/deep_rl_ga/ga_env.py:320: RuntimeWarning: divide by zero encountered in log\n",
      "  return -np.log(self.curr_best_fitness / self.prev_best_fitness)\n"
     ]
    },
    {
     "name": "stdout",
     "output_type": "stream",
     "text": [
      "Episode 166 \n",
      "\n",
      "\n",
      "\n",
      "Episode took 3.0682399259985687\n",
      "\n",
      "\n"
     ]
    },
    {
     "name": "stderr",
     "output_type": "stream",
     "text": [
      "/home/pbilko/miniconda3/envs/PP/lib/python3.9/site-packages/deap/creator.py:138: RuntimeWarning: A class named 'FitnessMin' has already been created and it will be overwritten. Consider deleting previous creation of that class or rename it.\n",
      "  warnings.warn(\"A class named '{0}' has already been created and it \"\n",
      "/home/pbilko/miniconda3/envs/PP/lib/python3.9/site-packages/deap/creator.py:138: RuntimeWarning: A class named 'Individual' has already been created and it will be overwritten. Consider deleting previous creation of that class or rename it.\n",
      "  warnings.warn(\"A class named '{0}' has already been created and it \"\n",
      "/home/pbilko/STUDIA/Neuronowa Adaptacja Operatorów Wariacyjnych/deep_rl_ga/ga_env.py:320: RuntimeWarning: divide by zero encountered in log\n",
      "  return -np.log(self.curr_best_fitness / self.prev_best_fitness)\n"
     ]
    },
    {
     "name": "stdout",
     "output_type": "stream",
     "text": [
      "Episode 167 \n",
      "\n",
      "\n",
      "\n",
      "Episode took 3.1249026149998826\n",
      "\n",
      "\n"
     ]
    },
    {
     "name": "stderr",
     "output_type": "stream",
     "text": [
      "/home/pbilko/miniconda3/envs/PP/lib/python3.9/site-packages/deap/creator.py:138: RuntimeWarning: A class named 'FitnessMin' has already been created and it will be overwritten. Consider deleting previous creation of that class or rename it.\n",
      "  warnings.warn(\"A class named '{0}' has already been created and it \"\n",
      "/home/pbilko/miniconda3/envs/PP/lib/python3.9/site-packages/deap/creator.py:138: RuntimeWarning: A class named 'Individual' has already been created and it will be overwritten. Consider deleting previous creation of that class or rename it.\n",
      "  warnings.warn(\"A class named '{0}' has already been created and it \"\n",
      "/home/pbilko/STUDIA/Neuronowa Adaptacja Operatorów Wariacyjnych/deep_rl_ga/ga_env.py:320: RuntimeWarning: divide by zero encountered in log\n",
      "  return -np.log(self.curr_best_fitness / self.prev_best_fitness)\n"
     ]
    },
    {
     "name": "stdout",
     "output_type": "stream",
     "text": [
      "Episode 168 \n",
      "\n",
      "\n",
      "\n",
      "Episode took 2.935821888000646\n",
      "\n",
      "\n"
     ]
    },
    {
     "name": "stderr",
     "output_type": "stream",
     "text": [
      "/home/pbilko/miniconda3/envs/PP/lib/python3.9/site-packages/deap/creator.py:138: RuntimeWarning: A class named 'FitnessMin' has already been created and it will be overwritten. Consider deleting previous creation of that class or rename it.\n",
      "  warnings.warn(\"A class named '{0}' has already been created and it \"\n",
      "/home/pbilko/miniconda3/envs/PP/lib/python3.9/site-packages/deap/creator.py:138: RuntimeWarning: A class named 'Individual' has already been created and it will be overwritten. Consider deleting previous creation of that class or rename it.\n",
      "  warnings.warn(\"A class named '{0}' has already been created and it \"\n",
      "/home/pbilko/STUDIA/Neuronowa Adaptacja Operatorów Wariacyjnych/deep_rl_ga/ga_env.py:320: RuntimeWarning: divide by zero encountered in log\n",
      "  return -np.log(self.curr_best_fitness / self.prev_best_fitness)\n",
      "\n",
      "KeyboardInterrupt\n",
      "\n"
     ]
    },
    {
     "data": {
      "text/plain": "<Figure size 432x288 with 1 Axes>",
      "image/png": "[encoded data removed]"
     },
     "metadata": {
      "needs_background": "light"
     },
     "output_type": "display_data"
    }
   ],
   "source": [
    "import time\n",
    "%matplotlib inline\n",
    "from deep_rl_ga.ga_env import GeneticAlgorithmEnv\n",
    "from deep_rl_ga.agent import Agent\n",
    "from deep_rl_ga.memory import Experience, ReplayMemory, extract_tensors\n",
    "from deep_rl_ga.strategy import EpsilonGreedyStrategy\n",
    "from deep_rl_ga.network import DQN\n",
    "from deep_rl_ga.qvalues import QValues\n",
    "\n",
    "from deap import benchmarks\n",
    "from deap import tools\n",
    "\n",
    "import torch\n",
    "import torch.optim as optim\n",
    "import torch.nn.functional as F\n",
    "\n",
    "from itertools import count\n",
    "import random\n",
    "\n",
    "import numpy as np\n",
    "\n",
    "import matplotlib.pyplot as plt\n",
    "from IPython import display\n",
    "\n",
    "from deap import creator\n",
    "from typing import List\n",
    "import itertools\n",
    "# import cuml\n",
    "# import cudf\n",
    "# import cupy\n",
    "import datetime\n",
    "import os\n",
    "from deep_rl_ga.diversity import (\n",
    "    Clusterer,\n",
    "    fitness_max_mean_ratio_diversity,\n",
    "    fitness_mean_min_ratio_diversity,\n",
    "    gene_mean_std_diversity,\n",
    "    gene_mean_unique_ratio_diversity,\n",
    "    number_of_clusters_diversity,\n",
    "    selBestPossible,\n",
    "    selWorstPossible,\n",
    ")\n",
    "\n",
    "# Genetic algorithm params\n",
    "IND_SIZE = 3\n",
    "LOW_BOUND = -5.12\n",
    "UP_BOUND = 5.12\n",
    "FITNESS_FUNCTION = benchmarks.rastrigin\n",
    "SEARCH_SPACE_CENTER = np.array([(UP_BOUND - LOW_BOUND / 2) for _ in range(IND_SIZE)])\n",
    "SEARCH_SPACE_DIAMETER = np.linalg.norm(np.array([UP_BOUND for _ in range(IND_SIZE)]) - np.array([LOW_BOUND for _ in range(IND_SIZE)]))\n",
    "\n",
    "INITIAL_POPULATION_SIZE = 150\n",
    "\n",
    "# Crossover + Mutation params\n",
    "MATING_RATE = 0.3\n",
    "INDIVIDUAL_MUTATION_RATE = 0.3\n",
    "ATTRIBUTE_MUTATION_RATE = 0.3\n",
    "\n",
    "MATING_RATE_VALUES = [0.05 * i for i in range(1, 20)]\n",
    "INDIVIDUAL_MUTATION_RATE_VALUES = [0.05 * i for i in range(1, 20)]\n",
    "\n",
    "# Selection params\n",
    "TOURNAMENT_SIZE = 3\n",
    "TOP_BEST_SIZE = 25\n",
    "\n",
    "TOURNAMENT_SIZE_VALUES = [10]\n",
    "TOP_BEST_SIZE_VALUES = [25]\n",
    "\n",
    "MAX_EVALS = 10_000\n",
    "\n",
    "RANDOM_SEED = 127\n",
    "\n",
    "random.seed(\n",
    "    RANDOM_SEED\n",
    "    )\n",
    "np.random.seed(\n",
    "    RANDOM_SEED\n",
    "    )\n",
    "\n",
    "ACTIONS_SEL = list(itertools.chain(\n",
    "    [{'function': tools.selTournament, 'tournsize': tsize} for tsize in TOURNAMENT_SIZE_VALUES],\n",
    "    # [{'function': lambda population, k: tools.selWorst(population, TOP_BEST_SIZE)}],\n",
    "    [{'function': selWorstPossible}],  # fill the population with the WORST individuals - this is the action the network should avoid\n",
    "    [{'function': selBestPossible, 'top_n': TOP_BEST_SIZE}],  # fill the population with the BEST individuals\n",
    "    # [{'function': lambda population, k: population}],  # no-op\n",
    "))\n",
    "\n",
    "ACTIONS_CX = [\n",
    "    {'function': tools.cxBlend, 'alpha': UP_BOUND},\n",
    "    # {'function': tools.cxTwoPoint},\n",
    "    # {'function': lambda ind1, ind2: (ind1, ind2)},  # no-op\n",
    "]\n",
    "\n",
    "ACTIONS_MU = [\n",
    "    {'function': tools.mutGaussian, 'mu': 0, 'sigma': 1, 'indpb': ATTRIBUTE_MUTATION_RATE},\n",
    "    # {'function': tools.mutShuffleIndexes, 'indpb': ATTRIBUTE_MUTATION_RATE},\n",
    "    # {'function': lambda ind: (ind,)},  # no-op\n",
    "]\n",
    "\n",
    "\n",
    "CLUSTERER = Clusterer()\n",
    "\n",
    "N_CLUSTERS = 10\n",
    "\n",
    "N_STACKED_STATES = 5\n",
    "\n",
    "# class RapidsClusteringMethod:\n",
    "#     def __init__(self, n_clusters, random_state):\n",
    "#         self.model = cuml.cluster.KMeans(init='k-means||', n_clusters=n_clusters, random_state=random_state)\n",
    "#\n",
    "#     def fit_predict(self, X):\n",
    "#         device_data = cudf.DataFrame(X)\n",
    "#         return self.model.fit_predict(device_data).to_numpy()\n",
    "\n",
    "STAT_FUNCTIONS = [\n",
    "    (\"clusters_of_multiple_fns\", CLUSTERER.clusters_of_fns([\n",
    "        fitness_max_mean_ratio_diversity,\n",
    "        fitness_mean_min_ratio_diversity,\n",
    "        gene_mean_std_diversity,\n",
    "        gene_mean_unique_ratio_diversity,\n",
    "        lambda p: len(p) / INITIAL_POPULATION_SIZE,  # Cluster population size as part of initial population size\n",
    "        lambda p: np.linalg.norm(np.mean(p, axis=0) - SEARCH_SPACE_CENTER) / SEARCH_SPACE_DIAMETER,  # Cluster centroid distance from the middle of search space; normalized by search space diameter\n",
    "    ], n_clusters=N_CLUSTERS, random_seed=RANDOM_SEED)),\n",
    "]\n",
    "\n",
    "# Neural network params\n",
    "batch_size = 256\n",
    "gamma = 0.999\n",
    "eps_start = 1\n",
    "eps_end = 0.01\n",
    "eps_decay = 0.001\n",
    "target_update = 10\n",
    "memory_size = 100_000\n",
    "lr = 3e-4\n",
    "num_episodes = 1_000\n",
    "\n",
    "curr_device = torch.device('cuda' if torch.cuda.is_available() else 'cpu')\n",
    "em = GeneticAlgorithmEnv(\n",
    "    num_dims=IND_SIZE,\n",
    "    low_bound=LOW_BOUND,\n",
    "    up_bound=UP_BOUND,\n",
    "    fitness_fn=benchmarks.rastrigin,\n",
    "    max_evals=MAX_EVALS,\n",
    "    initial_population_size=INITIAL_POPULATION_SIZE,\n",
    "    actions_sel=ACTIONS_SEL,\n",
    "    actions_cx=ACTIONS_CX,\n",
    "    actions_mu=ACTIONS_MU,\n",
    "    stat_functions=STAT_FUNCTIONS,\n",
    "    clusterer=CLUSTERER,\n",
    "    device=curr_device,\n",
    "    number_of_stacked_states=N_STACKED_STATES,\n",
    ")\n",
    "\n",
    "\n",
    "# Saving model data\n",
    "save_every_num_episodes = 150\n",
    "curr_datetime = datetime.datetime.utcnow()\n",
    "save_dir_path = f'../{curr_datetime.day}-{curr_datetime.month}-{curr_datetime.year}_{curr_datetime.hour}-{curr_datetime.minute}_{em.number_of_stacked_states}-states_{em.num_actions_available()}-actions_seed-{RANDOM_SEED}'\n",
    "os.mkdir(save_dir_path)\n",
    "\n",
    "# RL setup\n",
    "strategy = EpsilonGreedyStrategy(eps_start, eps_end, eps_decay)\n",
    "agent = Agent(strategy, em.num_actions_available(), curr_device)\n",
    "memory = ReplayMemory(memory_size)\n",
    "\n",
    "policy_net = DQN(em.get_num_state_features(), em.num_actions_available()).to(curr_device)\n",
    "target_net = DQN(em.get_num_state_features(), em.num_actions_available()).to(curr_device)\n",
    "target_net.load_state_dict(policy_net.state_dict())\n",
    "target_net.eval()\n",
    "optimizer = optim.Adam(params=policy_net.parameters(), lr=lr)\n",
    "\n",
    "episode_best_fitnesses = []\n",
    "for episode in range(num_episodes):\n",
    "    start_episode = time.perf_counter()\n",
    "    em.reset()\n",
    "    state = em.get_state()\n",
    "\n",
    "    for timestep in count():\n",
    "        action = agent.select_action(state, policy_net)\n",
    "        reward = em.take_action(action)  # this is a performance bottleneck, it takes 0.1seconds, almost 100% of the time required for a single timestep\n",
    "        next_state = em.get_state()\n",
    "        memory.push(Experience(state, action, next_state, reward))\n",
    "\n",
    "\n",
    "        state = next_state\n",
    "\n",
    "        if memory.can_provide_sample(batch_size):\n",
    "            experiences = memory.sample(batch_size)\n",
    "            states, actions, rewards, next_states = extract_tensors(experiences, curr_device)\n",
    "\n",
    "            current_q_values = QValues.get_current(policy_net, states, actions)\n",
    "            next_q_values = QValues.get_next(target_net, next_states, curr_device)\n",
    "            target_q_values = (next_q_values * gamma) + rewards\n",
    "\n",
    "            loss = F.mse_loss(current_q_values, target_q_values.unsqueeze(1))\n",
    "            optimizer.zero_grad()\n",
    "            loss.backward()\n",
    "            optimizer.step()\n",
    "\n",
    "        if em.done:\n",
    "            # TODO: This should be a value that we want to track across episodes, e.x. number of generations before global optimum was found\n",
    "            episode_best_fitnesses.append(em.hof[0].fitness.values[0])\n",
    "            print('Episode', len(episode_best_fitnesses), '\\n')\n",
    "            # plot(episode_best_fitnesses, 100)\n",
    "            break\n",
    "    stop_episode = time.perf_counter()\n",
    "    print(f'\\n\\nEpisode took {stop_episode - start_episode}\\n\\n')\n",
    "\n",
    "    if episode % target_update == 0:\n",
    "        target_net.load_state_dict(policy_net.state_dict())\n",
    "\n",
    "    # Checkpoint model data\n",
    "    if episode > 0 and episode % save_every_num_episodes == 0:\n",
    "        # Parameters\n",
    "        torch.save(policy_net, os.path.join(save_dir_path, f'policy_net_{episode}_episodes'))\n",
    "        torch.save(target_net, os.path.join(save_dir_path, f'target_net_{episode}_episodes'))\n",
    "\n",
    "        # Performance\n",
    "        moving_averages = [np.mean(episode_best_fitnesses[i-100:i]) if i > 99 else np.mean(episode_best_fitnesses[:i]) for i, _ in enumerate(episode_best_fitnesses)]\n",
    "        plt.plot(moving_averages)\n",
    "        plt.savefig(os.path.join(save_dir_path, f'moving_averages_{episode}_episodes.png'))\n",
    "\n",
    "    # TODO: This should be a value that we want to track across episodes, e.x. number of generations before global optimum was found\n",
    "    # if get_moving_average(100, episode_best_fitnesses)[-1] <= 0.0001:\n",
    "    #     break"
   ],
   "metadata": {
    "collapsed": false,
    "pycharm": {
     "name": "#%%\n"
    }
   }
  }
 ],
 "metadata": {
  "kernelspec": {
   "display_name": "Python 3",
   "language": "python",
   "name": "python3"
  },
  "language_info": {
   "codemirror_mode": {
    "name": "ipython",
    "version": 2
   },
   "file_extension": ".py",
   "mimetype": "text/x-python",
   "name": "python",
   "nbconvert_exporter": "python",
   "pygments_lexer": "ipython2",
   "version": "2.7.6"
  }
 },
 "nbformat": 4,
 "nbformat_minor": 0
}